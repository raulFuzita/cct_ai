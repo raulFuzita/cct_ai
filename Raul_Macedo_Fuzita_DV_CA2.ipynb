{
  "nbformat": 4,
  "nbformat_minor": 0,
  "metadata": {
    "colab": {
      "name": "Raul_Macedo_Fuzita_DV_CA2.ipynb",
      "provenance": [],
      "collapsed_sections": [],
      "authorship_tag": "ABX9TyOitf/f9QJpk2GmObPNH1i8",
      "include_colab_link": true
    },
    "kernelspec": {
      "name": "python3",
      "display_name": "Python 3"
    },
    "language_info": {
      "name": "python"
    },
    "widgets": {
      "application/vnd.jupyter.widget-state+json": {
        "eea3a7d870e74cda9f723ce8861fe573": {
          "model_module": "@jupyter-widgets/controls",
          "model_name": "VBoxModel",
          "model_module_version": "1.5.0",
          "state": {
            "_view_name": "VBoxView",
            "_dom_classes": [
              "widget-interact"
            ],
            "_model_name": "VBoxModel",
            "_view_module": "@jupyter-widgets/controls",
            "_model_module_version": "1.5.0",
            "_view_count": null,
            "_view_module_version": "1.5.0",
            "box_style": "",
            "layout": "IPY_MODEL_40e2c7afe9374899aee4b6a1a37e70c2",
            "_model_module": "@jupyter-widgets/controls",
            "children": [
              "IPY_MODEL_72cebdf6448e4180bdcf9228527ad6d2",
              "IPY_MODEL_2eee9abbc7e64283b5ab1720a2a8defa",
              "IPY_MODEL_453620a5ab3f415fb600b2044d1dac5c",
              "IPY_MODEL_3fb47793d0574cbc8828533f27a502b2"
            ]
          }
        },
        "40e2c7afe9374899aee4b6a1a37e70c2": {
          "model_module": "@jupyter-widgets/base",
          "model_name": "LayoutModel",
          "model_module_version": "1.2.0",
          "state": {
            "_view_name": "LayoutView",
            "grid_template_rows": null,
            "right": null,
            "justify_content": null,
            "_view_module": "@jupyter-widgets/base",
            "overflow": null,
            "_model_module_version": "1.2.0",
            "_view_count": null,
            "flex_flow": null,
            "width": null,
            "min_width": null,
            "border": null,
            "align_items": null,
            "bottom": null,
            "_model_module": "@jupyter-widgets/base",
            "top": null,
            "grid_column": null,
            "overflow_y": null,
            "overflow_x": null,
            "grid_auto_flow": null,
            "grid_area": null,
            "grid_template_columns": null,
            "flex": null,
            "_model_name": "LayoutModel",
            "justify_items": null,
            "grid_row": null,
            "max_height": null,
            "align_content": null,
            "visibility": null,
            "align_self": null,
            "height": null,
            "min_height": null,
            "padding": null,
            "grid_auto_rows": null,
            "grid_gap": null,
            "max_width": null,
            "order": null,
            "_view_module_version": "1.2.0",
            "grid_template_areas": null,
            "object_position": null,
            "object_fit": null,
            "grid_auto_columns": null,
            "margin": null,
            "display": null,
            "left": null
          }
        },
        "72cebdf6448e4180bdcf9228527ad6d2": {
          "model_module": "@jupyter-widgets/controls",
          "model_name": "IntSliderModel",
          "model_module_version": "1.5.0",
          "state": {
            "_view_name": "IntSliderView",
            "style": "IPY_MODEL_87933628e3424f3d9e7af6ae3b4dd3b0",
            "_dom_classes": [],
            "description": "Repeat Test:",
            "step": 1,
            "_model_name": "IntSliderModel",
            "orientation": "horizontal",
            "max": 100,
            "_view_module": "@jupyter-widgets/controls",
            "_model_module_version": "1.5.0",
            "value": 2,
            "_view_count": null,
            "disabled": false,
            "_view_module_version": "1.5.0",
            "min": 2,
            "continuous_update": false,
            "readout_format": "d",
            "description_tooltip": null,
            "readout": true,
            "_model_module": "@jupyter-widgets/controls",
            "layout": "IPY_MODEL_90364cfdee1b4bc684da3e7111b5704f"
          }
        },
        "2eee9abbc7e64283b5ab1720a2a8defa": {
          "model_module": "@jupyter-widgets/controls",
          "model_name": "DropdownModel",
          "model_module_version": "1.5.0",
          "state": {
            "_options_labels": [
              "A",
              "B",
              "C",
              "D",
              "E",
              "G",
              "F"
            ],
            "_view_name": "DropdownView",
            "style": "IPY_MODEL_26ab4d09464c40de8e517f0b942a4cd7",
            "_dom_classes": [],
            "description": "From: ",
            "_model_name": "DropdownModel",
            "index": 0,
            "_view_module": "@jupyter-widgets/controls",
            "_model_module_version": "1.5.0",
            "_view_count": null,
            "disabled": false,
            "_view_module_version": "1.5.0",
            "description_tooltip": null,
            "_model_module": "@jupyter-widgets/controls",
            "layout": "IPY_MODEL_73c6e664741f4095888a0bd707bb760e"
          }
        },
        "453620a5ab3f415fb600b2044d1dac5c": {
          "model_module": "@jupyter-widgets/controls",
          "model_name": "DropdownModel",
          "model_module_version": "1.5.0",
          "state": {
            "_options_labels": [
              "A",
              "B",
              "C",
              "D",
              "E",
              "G",
              "F"
            ],
            "_view_name": "DropdownView",
            "style": "IPY_MODEL_6ee1734742c846b38ad535671c429297",
            "_dom_classes": [],
            "description": "To: ",
            "_model_name": "DropdownModel",
            "index": 6,
            "_view_module": "@jupyter-widgets/controls",
            "_model_module_version": "1.5.0",
            "_view_count": null,
            "disabled": false,
            "_view_module_version": "1.5.0",
            "description_tooltip": null,
            "_model_module": "@jupyter-widgets/controls",
            "layout": "IPY_MODEL_feed6053767145b9b01b78122620a8a4"
          }
        },
        "3fb47793d0574cbc8828533f27a502b2": {
          "model_module": "@jupyter-widgets/output",
          "model_name": "OutputModel",
          "model_module_version": "1.0.0",
          "state": {
            "_view_name": "OutputView",
            "msg_id": "",
            "_dom_classes": [],
            "_model_name": "OutputModel",
            "outputs": [
              {
                "output_type": "stream",
                "name": "stdout",
                "text": [
                  "Path found: ['A', 'B', 'G', 'E', 'F']\n",
                  "Path found: ['A', 'B', 'G', 'E', 'F']\n"
                ]
              },
              {
                "output_type": "display_data",
                "data": {
                  "image/png": "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\n",
                  "text/plain": "<Figure size 576x504 with 1 Axes>"
                },
                "metadata": {
                  "needs_background": "light"
                }
              }
            ],
            "_view_module": "@jupyter-widgets/output",
            "_model_module_version": "1.0.0",
            "_view_count": null,
            "_view_module_version": "1.0.0",
            "layout": "IPY_MODEL_6767fa3d34654acaad0cc09317f2281f",
            "_model_module": "@jupyter-widgets/output"
          }
        },
        "87933628e3424f3d9e7af6ae3b4dd3b0": {
          "model_module": "@jupyter-widgets/controls",
          "model_name": "SliderStyleModel",
          "model_module_version": "1.5.0",
          "state": {
            "_view_name": "StyleView",
            "handle_color": null,
            "_model_name": "SliderStyleModel",
            "description_width": "",
            "_view_module": "@jupyter-widgets/base",
            "_model_module_version": "1.5.0",
            "_view_count": null,
            "_view_module_version": "1.2.0",
            "_model_module": "@jupyter-widgets/controls"
          }
        },
        "90364cfdee1b4bc684da3e7111b5704f": {
          "model_module": "@jupyter-widgets/base",
          "model_name": "LayoutModel",
          "model_module_version": "1.2.0",
          "state": {
            "_view_name": "LayoutView",
            "grid_template_rows": null,
            "right": null,
            "justify_content": null,
            "_view_module": "@jupyter-widgets/base",
            "overflow": null,
            "_model_module_version": "1.2.0",
            "_view_count": null,
            "flex_flow": null,
            "width": null,
            "min_width": null,
            "border": null,
            "align_items": null,
            "bottom": null,
            "_model_module": "@jupyter-widgets/base",
            "top": null,
            "grid_column": null,
            "overflow_y": null,
            "overflow_x": null,
            "grid_auto_flow": null,
            "grid_area": null,
            "grid_template_columns": null,
            "flex": null,
            "_model_name": "LayoutModel",
            "justify_items": null,
            "grid_row": null,
            "max_height": null,
            "align_content": null,
            "visibility": null,
            "align_self": null,
            "height": null,
            "min_height": null,
            "padding": null,
            "grid_auto_rows": null,
            "grid_gap": null,
            "max_width": null,
            "order": null,
            "_view_module_version": "1.2.0",
            "grid_template_areas": null,
            "object_position": null,
            "object_fit": null,
            "grid_auto_columns": null,
            "margin": null,
            "display": null,
            "left": null
          }
        },
        "26ab4d09464c40de8e517f0b942a4cd7": {
          "model_module": "@jupyter-widgets/controls",
          "model_name": "DescriptionStyleModel",
          "model_module_version": "1.5.0",
          "state": {
            "_view_name": "StyleView",
            "_model_name": "DescriptionStyleModel",
            "description_width": "",
            "_view_module": "@jupyter-widgets/base",
            "_model_module_version": "1.5.0",
            "_view_count": null,
            "_view_module_version": "1.2.0",
            "_model_module": "@jupyter-widgets/controls"
          }
        },
        "73c6e664741f4095888a0bd707bb760e": {
          "model_module": "@jupyter-widgets/base",
          "model_name": "LayoutModel",
          "model_module_version": "1.2.0",
          "state": {
            "_view_name": "LayoutView",
            "grid_template_rows": null,
            "right": null,
            "justify_content": null,
            "_view_module": "@jupyter-widgets/base",
            "overflow": null,
            "_model_module_version": "1.2.0",
            "_view_count": null,
            "flex_flow": null,
            "width": null,
            "min_width": null,
            "border": null,
            "align_items": null,
            "bottom": null,
            "_model_module": "@jupyter-widgets/base",
            "top": null,
            "grid_column": null,
            "overflow_y": null,
            "overflow_x": null,
            "grid_auto_flow": null,
            "grid_area": null,
            "grid_template_columns": null,
            "flex": null,
            "_model_name": "LayoutModel",
            "justify_items": null,
            "grid_row": null,
            "max_height": null,
            "align_content": null,
            "visibility": null,
            "align_self": null,
            "height": null,
            "min_height": null,
            "padding": null,
            "grid_auto_rows": null,
            "grid_gap": null,
            "max_width": null,
            "order": null,
            "_view_module_version": "1.2.0",
            "grid_template_areas": null,
            "object_position": null,
            "object_fit": null,
            "grid_auto_columns": null,
            "margin": null,
            "display": null,
            "left": null
          }
        },
        "6ee1734742c846b38ad535671c429297": {
          "model_module": "@jupyter-widgets/controls",
          "model_name": "DescriptionStyleModel",
          "model_module_version": "1.5.0",
          "state": {
            "_view_name": "StyleView",
            "_model_name": "DescriptionStyleModel",
            "description_width": "",
            "_view_module": "@jupyter-widgets/base",
            "_model_module_version": "1.5.0",
            "_view_count": null,
            "_view_module_version": "1.2.0",
            "_model_module": "@jupyter-widgets/controls"
          }
        },
        "feed6053767145b9b01b78122620a8a4": {
          "model_module": "@jupyter-widgets/base",
          "model_name": "LayoutModel",
          "model_module_version": "1.2.0",
          "state": {
            "_view_name": "LayoutView",
            "grid_template_rows": null,
            "right": null,
            "justify_content": null,
            "_view_module": "@jupyter-widgets/base",
            "overflow": null,
            "_model_module_version": "1.2.0",
            "_view_count": null,
            "flex_flow": null,
            "width": null,
            "min_width": null,
            "border": null,
            "align_items": null,
            "bottom": null,
            "_model_module": "@jupyter-widgets/base",
            "top": null,
            "grid_column": null,
            "overflow_y": null,
            "overflow_x": null,
            "grid_auto_flow": null,
            "grid_area": null,
            "grid_template_columns": null,
            "flex": null,
            "_model_name": "LayoutModel",
            "justify_items": null,
            "grid_row": null,
            "max_height": null,
            "align_content": null,
            "visibility": null,
            "align_self": null,
            "height": null,
            "min_height": null,
            "padding": null,
            "grid_auto_rows": null,
            "grid_gap": null,
            "max_width": null,
            "order": null,
            "_view_module_version": "1.2.0",
            "grid_template_areas": null,
            "object_position": null,
            "object_fit": null,
            "grid_auto_columns": null,
            "margin": null,
            "display": null,
            "left": null
          }
        },
        "6767fa3d34654acaad0cc09317f2281f": {
          "model_module": "@jupyter-widgets/base",
          "model_name": "LayoutModel",
          "model_module_version": "1.2.0",
          "state": {
            "_view_name": "LayoutView",
            "grid_template_rows": null,
            "right": null,
            "justify_content": null,
            "_view_module": "@jupyter-widgets/base",
            "overflow": null,
            "_model_module_version": "1.2.0",
            "_view_count": null,
            "flex_flow": null,
            "width": null,
            "min_width": null,
            "border": null,
            "align_items": null,
            "bottom": null,
            "_model_module": "@jupyter-widgets/base",
            "top": null,
            "grid_column": null,
            "overflow_y": null,
            "overflow_x": null,
            "grid_auto_flow": null,
            "grid_area": null,
            "grid_template_columns": null,
            "flex": null,
            "_model_name": "LayoutModel",
            "justify_items": null,
            "grid_row": null,
            "max_height": null,
            "align_content": null,
            "visibility": null,
            "align_self": null,
            "height": null,
            "min_height": null,
            "padding": null,
            "grid_auto_rows": null,
            "grid_gap": null,
            "max_width": null,
            "order": null,
            "_view_module_version": "1.2.0",
            "grid_template_areas": null,
            "object_position": null,
            "object_fit": null,
            "grid_auto_columns": null,
            "margin": null,
            "display": null,
            "left": null
          }
        },
        "2e50f5b58d474e0680cdcfd25f59e72b": {
          "model_module": "@jupyter-widgets/controls",
          "model_name": "VBoxModel",
          "model_module_version": "1.5.0",
          "state": {
            "_view_name": "VBoxView",
            "_dom_classes": [
              "widget-interact"
            ],
            "_model_name": "VBoxModel",
            "_view_module": "@jupyter-widgets/controls",
            "_model_module_version": "1.5.0",
            "_view_count": null,
            "_view_module_version": "1.5.0",
            "box_style": "",
            "layout": "IPY_MODEL_056c19a363c64a018c89b04f433915cd",
            "_model_module": "@jupyter-widgets/controls",
            "children": [
              "IPY_MODEL_d9503de3373a4c70aaea8a5f8d69df8f",
              "IPY_MODEL_53bb62b8f3964178b7079a0ae8f408cb",
              "IPY_MODEL_8b63abd1cb7d4b499ebba6bd0fae79c3",
              "IPY_MODEL_79ccd9ececad474b82bb48d7bbe78fb9"
            ]
          }
        },
        "056c19a363c64a018c89b04f433915cd": {
          "model_module": "@jupyter-widgets/base",
          "model_name": "LayoutModel",
          "model_module_version": "1.2.0",
          "state": {
            "_view_name": "LayoutView",
            "grid_template_rows": null,
            "right": null,
            "justify_content": null,
            "_view_module": "@jupyter-widgets/base",
            "overflow": null,
            "_model_module_version": "1.2.0",
            "_view_count": null,
            "flex_flow": null,
            "width": null,
            "min_width": null,
            "border": null,
            "align_items": null,
            "bottom": null,
            "_model_module": "@jupyter-widgets/base",
            "top": null,
            "grid_column": null,
            "overflow_y": null,
            "overflow_x": null,
            "grid_auto_flow": null,
            "grid_area": null,
            "grid_template_columns": null,
            "flex": null,
            "_model_name": "LayoutModel",
            "justify_items": null,
            "grid_row": null,
            "max_height": null,
            "align_content": null,
            "visibility": null,
            "align_self": null,
            "height": null,
            "min_height": null,
            "padding": null,
            "grid_auto_rows": null,
            "grid_gap": null,
            "max_width": null,
            "order": null,
            "_view_module_version": "1.2.0",
            "grid_template_areas": null,
            "object_position": null,
            "object_fit": null,
            "grid_auto_columns": null,
            "margin": null,
            "display": null,
            "left": null
          }
        },
        "d9503de3373a4c70aaea8a5f8d69df8f": {
          "model_module": "@jupyter-widgets/controls",
          "model_name": "ToggleButtonsModel",
          "model_module_version": "1.5.0",
          "state": {
            "_options_labels": [
              "Dijsktra",
              "A-Star"
            ],
            "_view_name": "ToggleButtonsView",
            "style": "IPY_MODEL_610fa38402c24d878bb4c74f73730bf0",
            "_dom_classes": [],
            "description": "Algorithm:",
            "_model_name": "ToggleButtonsModel",
            "tooltips": [],
            "index": 0,
            "button_style": "success",
            "_view_module": "@jupyter-widgets/controls",
            "_model_module_version": "1.5.0",
            "_view_count": null,
            "disabled": false,
            "_view_module_version": "1.5.0",
            "icons": [],
            "description_tooltip": null,
            "_model_module": "@jupyter-widgets/controls",
            "layout": "IPY_MODEL_0621f59de21546cea820286c67f36956"
          }
        },
        "53bb62b8f3964178b7079a0ae8f408cb": {
          "model_module": "@jupyter-widgets/controls",
          "model_name": "DropdownModel",
          "model_module_version": "1.5.0",
          "state": {
            "_options_labels": [
              "A",
              "B",
              "C",
              "D",
              "E",
              "G",
              "F"
            ],
            "_view_name": "DropdownView",
            "style": "IPY_MODEL_7da85a4246084285a9949858b2cee90b",
            "_dom_classes": [],
            "description": "From: ",
            "_model_name": "DropdownModel",
            "index": 0,
            "_view_module": "@jupyter-widgets/controls",
            "_model_module_version": "1.5.0",
            "_view_count": null,
            "disabled": false,
            "_view_module_version": "1.5.0",
            "description_tooltip": null,
            "_model_module": "@jupyter-widgets/controls",
            "layout": "IPY_MODEL_aa75d076562f439f84406ad03c7002df"
          }
        },
        "8b63abd1cb7d4b499ebba6bd0fae79c3": {
          "model_module": "@jupyter-widgets/controls",
          "model_name": "DropdownModel",
          "model_module_version": "1.5.0",
          "state": {
            "_options_labels": [
              "A",
              "B",
              "C",
              "D",
              "E",
              "G",
              "F"
            ],
            "_view_name": "DropdownView",
            "style": "IPY_MODEL_3dac5067b834411ca182692fb365b30a",
            "_dom_classes": [],
            "description": "To: ",
            "_model_name": "DropdownModel",
            "index": 6,
            "_view_module": "@jupyter-widgets/controls",
            "_model_module_version": "1.5.0",
            "_view_count": null,
            "disabled": false,
            "_view_module_version": "1.5.0",
            "description_tooltip": null,
            "_model_module": "@jupyter-widgets/controls",
            "layout": "IPY_MODEL_89fc517c738d42ac9e6402ac55264ecb"
          }
        },
        "79ccd9ececad474b82bb48d7bbe78fb9": {
          "model_module": "@jupyter-widgets/output",
          "model_name": "OutputModel",
          "model_module_version": "1.0.0",
          "state": {
            "_view_name": "OutputView",
            "msg_id": "",
            "_dom_classes": [],
            "_model_name": "OutputModel",
            "outputs": [
              {
                "output_type": "stream",
                "name": "stdout",
                "text": [
                  "Path found: ['A', 'B', 'G', 'E', 'F']\n"
                ]
              },
              {
                "output_type": "display_data",
                "data": {
                  "image/png": "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\n",
                  "text/plain": "<Figure size 1296x864 with 1 Axes>"
                },
                "metadata": {}
              }
            ],
            "_view_module": "@jupyter-widgets/output",
            "_model_module_version": "1.0.0",
            "_view_count": null,
            "_view_module_version": "1.0.0",
            "layout": "IPY_MODEL_bff34ae68b1e42dd8c50127dfa4ebd1d",
            "_model_module": "@jupyter-widgets/output"
          }
        },
        "610fa38402c24d878bb4c74f73730bf0": {
          "model_module": "@jupyter-widgets/controls",
          "model_name": "ToggleButtonsStyleModel",
          "model_module_version": "1.5.0",
          "state": {
            "_view_name": "StyleView",
            "button_width": "",
            "_model_name": "ToggleButtonsStyleModel",
            "description_width": "",
            "_view_module": "@jupyter-widgets/base",
            "_model_module_version": "1.5.0",
            "_view_count": null,
            "font_weight": "",
            "_view_module_version": "1.2.0",
            "_model_module": "@jupyter-widgets/controls"
          }
        },
        "0621f59de21546cea820286c67f36956": {
          "model_module": "@jupyter-widgets/base",
          "model_name": "LayoutModel",
          "model_module_version": "1.2.0",
          "state": {
            "_view_name": "LayoutView",
            "grid_template_rows": null,
            "right": null,
            "justify_content": null,
            "_view_module": "@jupyter-widgets/base",
            "overflow": null,
            "_model_module_version": "1.2.0",
            "_view_count": null,
            "flex_flow": null,
            "width": null,
            "min_width": null,
            "border": null,
            "align_items": null,
            "bottom": null,
            "_model_module": "@jupyter-widgets/base",
            "top": null,
            "grid_column": null,
            "overflow_y": null,
            "overflow_x": null,
            "grid_auto_flow": null,
            "grid_area": null,
            "grid_template_columns": null,
            "flex": null,
            "_model_name": "LayoutModel",
            "justify_items": null,
            "grid_row": null,
            "max_height": null,
            "align_content": null,
            "visibility": null,
            "align_self": null,
            "height": null,
            "min_height": null,
            "padding": null,
            "grid_auto_rows": null,
            "grid_gap": null,
            "max_width": null,
            "order": null,
            "_view_module_version": "1.2.0",
            "grid_template_areas": null,
            "object_position": null,
            "object_fit": null,
            "grid_auto_columns": null,
            "margin": null,
            "display": null,
            "left": null
          }
        },
        "7da85a4246084285a9949858b2cee90b": {
          "model_module": "@jupyter-widgets/controls",
          "model_name": "DescriptionStyleModel",
          "model_module_version": "1.5.0",
          "state": {
            "_view_name": "StyleView",
            "_model_name": "DescriptionStyleModel",
            "description_width": "",
            "_view_module": "@jupyter-widgets/base",
            "_model_module_version": "1.5.0",
            "_view_count": null,
            "_view_module_version": "1.2.0",
            "_model_module": "@jupyter-widgets/controls"
          }
        },
        "aa75d076562f439f84406ad03c7002df": {
          "model_module": "@jupyter-widgets/base",
          "model_name": "LayoutModel",
          "model_module_version": "1.2.0",
          "state": {
            "_view_name": "LayoutView",
            "grid_template_rows": null,
            "right": null,
            "justify_content": null,
            "_view_module": "@jupyter-widgets/base",
            "overflow": null,
            "_model_module_version": "1.2.0",
            "_view_count": null,
            "flex_flow": null,
            "width": null,
            "min_width": null,
            "border": null,
            "align_items": null,
            "bottom": null,
            "_model_module": "@jupyter-widgets/base",
            "top": null,
            "grid_column": null,
            "overflow_y": null,
            "overflow_x": null,
            "grid_auto_flow": null,
            "grid_area": null,
            "grid_template_columns": null,
            "flex": null,
            "_model_name": "LayoutModel",
            "justify_items": null,
            "grid_row": null,
            "max_height": null,
            "align_content": null,
            "visibility": null,
            "align_self": null,
            "height": null,
            "min_height": null,
            "padding": null,
            "grid_auto_rows": null,
            "grid_gap": null,
            "max_width": null,
            "order": null,
            "_view_module_version": "1.2.0",
            "grid_template_areas": null,
            "object_position": null,
            "object_fit": null,
            "grid_auto_columns": null,
            "margin": null,
            "display": null,
            "left": null
          }
        },
        "3dac5067b834411ca182692fb365b30a": {
          "model_module": "@jupyter-widgets/controls",
          "model_name": "DescriptionStyleModel",
          "model_module_version": "1.5.0",
          "state": {
            "_view_name": "StyleView",
            "_model_name": "DescriptionStyleModel",
            "description_width": "",
            "_view_module": "@jupyter-widgets/base",
            "_model_module_version": "1.5.0",
            "_view_count": null,
            "_view_module_version": "1.2.0",
            "_model_module": "@jupyter-widgets/controls"
          }
        },
        "89fc517c738d42ac9e6402ac55264ecb": {
          "model_module": "@jupyter-widgets/base",
          "model_name": "LayoutModel",
          "model_module_version": "1.2.0",
          "state": {
            "_view_name": "LayoutView",
            "grid_template_rows": null,
            "right": null,
            "justify_content": null,
            "_view_module": "@jupyter-widgets/base",
            "overflow": null,
            "_model_module_version": "1.2.0",
            "_view_count": null,
            "flex_flow": null,
            "width": null,
            "min_width": null,
            "border": null,
            "align_items": null,
            "bottom": null,
            "_model_module": "@jupyter-widgets/base",
            "top": null,
            "grid_column": null,
            "overflow_y": null,
            "overflow_x": null,
            "grid_auto_flow": null,
            "grid_area": null,
            "grid_template_columns": null,
            "flex": null,
            "_model_name": "LayoutModel",
            "justify_items": null,
            "grid_row": null,
            "max_height": null,
            "align_content": null,
            "visibility": null,
            "align_self": null,
            "height": null,
            "min_height": null,
            "padding": null,
            "grid_auto_rows": null,
            "grid_gap": null,
            "max_width": null,
            "order": null,
            "_view_module_version": "1.2.0",
            "grid_template_areas": null,
            "object_position": null,
            "object_fit": null,
            "grid_auto_columns": null,
            "margin": null,
            "display": null,
            "left": null
          }
        },
        "bff34ae68b1e42dd8c50127dfa4ebd1d": {
          "model_module": "@jupyter-widgets/base",
          "model_name": "LayoutModel",
          "model_module_version": "1.2.0",
          "state": {
            "_view_name": "LayoutView",
            "grid_template_rows": null,
            "right": null,
            "justify_content": null,
            "_view_module": "@jupyter-widgets/base",
            "overflow": null,
            "_model_module_version": "1.2.0",
            "_view_count": null,
            "flex_flow": null,
            "width": null,
            "min_width": null,
            "border": null,
            "align_items": null,
            "bottom": null,
            "_model_module": "@jupyter-widgets/base",
            "top": null,
            "grid_column": null,
            "overflow_y": null,
            "overflow_x": null,
            "grid_auto_flow": null,
            "grid_area": null,
            "grid_template_columns": null,
            "flex": null,
            "_model_name": "LayoutModel",
            "justify_items": null,
            "grid_row": null,
            "max_height": null,
            "align_content": null,
            "visibility": null,
            "align_self": null,
            "height": null,
            "min_height": null,
            "padding": null,
            "grid_auto_rows": null,
            "grid_gap": null,
            "max_width": null,
            "order": null,
            "_view_module_version": "1.2.0",
            "grid_template_areas": null,
            "object_position": null,
            "object_fit": null,
            "grid_auto_columns": null,
            "margin": null,
            "display": null,
            "left": null
          }
        }
      }
    }
  },
  "cells": [
    {
      "cell_type": "markdown",
      "metadata": {
        "id": "view-in-github",
        "colab_type": "text"
      },
      "source": [
        "<a href=\"https://colab.research.google.com/github/raulFuzita/cct_ai/blob/CA2/Raul_Macedo_Fuzita_DV_CA2.ipynb\" target=\"_parent\"><img src=\"https://colab.research.google.com/assets/colab-badge.svg\" alt=\"Open In Colab\"/></a>"
      ]
    },
    {
      "cell_type": "markdown",
      "metadata": {
        "id": "h_C0GUxkeMV0"
      },
      "source": [
        "# **CCT College Dublin Continuous Assessment**"
      ]
    },
    {
      "cell_type": "markdown",
      "metadata": {
        "id": "-lbY3hRSeUc7"
      },
      "source": [
        "## **Assessment Information**\n",
        "\n",
        "Programme Title:             BSc (Hons) in Computing and IT Y4\n",
        "\n",
        "Cohort:                      Y4\n",
        "\n",
        "Module Title(s):             Artificial Intelligence\n",
        "\n",
        "Lecturer(s):                 David McQuaid\n",
        "\n",
        "Issue Date:                  15/12/2021\n",
        "\n",
        "Submission Deadline Date:    12/12/2021\n",
        "\n",
        "## **Student Information**\n",
        "\n",
        "Name:                        Raul Macedo Fuzita\n",
        "\n",
        "ID:                          2018337\n",
        "\n"
      ]
    },
    {
      "cell_type": "markdown",
      "metadata": {
        "id": "Qqa0aiZVD_i_"
      },
      "source": [
        "## Jupyter Notebook Information <font color='red'>(Important)</font>"
      ]
    },
    {
      "cell_type": "markdown",
      "metadata": {
        "id": "wULsLNoZEK-N"
      },
      "source": [
        "<p align=\"justify\">\n",
        "&emsp;&emsp;This assignment was performed on Google Colab in Jupyter Notebook. This notebook contains advanced features such as HTML tags, Jupyter Notebook form components compatible with the version below or above, and Widgets components.\n",
        "\n",
        "&emsp;&emsp;If you are running on your local machine, please check if your Jupyter Notebook has the same version or above. This notebook was not tested in an old version, so I cannot guarantee support for the legacy notebooks.\n",
        "\n",
        "&emsp;&emsp;If you are not sure what Jupyter Notebook version you have, you will find a command to check the version. You can access this material on my Github account, available at:  <a href=\"https://github.com/raulFuzita/cct_ai/tree/CA2\">https://github.com/raulFuzita/cct_ai/tree/CA2</a>\n",
        "</p>\n",
        "\n",
        "```\n",
        "jupyter core     : 4.5.0\n",
        "jupyter-notebook : 5.2.2\n",
        "qtconsole        : 4.5.2\n",
        "ipython          : 5.5.0\n",
        "ipykernel        : 4.10.1\n",
        "jupyter client   : 5.3.1\n",
        "jupyter lab      : not installed\n",
        "nbconvert        : 5.5.0\n",
        "ipywidgets       : 7.5.0\n",
        "nbformat         : 4.4.0\n",
        "traitlets        : 4.3.2\n",
        "```\n",
        "\n",
        "&emsp;&emsp;Make your own changes or have a copy in you Google Drive. Go to `File > Save a copy in Drive`"
      ]
    },
    {
      "cell_type": "code",
      "metadata": {
        "colab": {
          "base_uri": "https://localhost:8080/"
        },
        "cellView": "form",
        "id": "JznXRZaXEI9P",
        "outputId": "79dadc73-72fc-4762-a3f8-229e2b0797bd"
      },
      "source": [
        "#@markdown 👈 **Please, run this code cell to check your Jupyter Notebook version.** <font color=\"lightgreen\">(Recommended)</font>\n",
        "!jupyter --version"
      ],
      "execution_count": 2,
      "outputs": [
        {
          "output_type": "stream",
          "name": "stdout",
          "text": [
            "jupyter core     : 4.5.0\n",
            "jupyter-notebook : 5.2.2\n",
            "qtconsole        : 4.5.2\n",
            "ipython          : 5.5.0\n",
            "ipykernel        : 4.10.1\n",
            "jupyter client   : 5.3.1\n",
            "jupyter lab      : not installed\n",
            "nbconvert        : 5.5.0\n",
            "ipywidgets       : 7.5.0\n",
            "nbformat         : 4.4.0\n",
            "traitlets        : 4.3.2\n"
          ]
        }
      ]
    },
    {
      "cell_type": "markdown",
      "metadata": {
        "id": "bW7Af3-OflLQ"
      },
      "source": [
        "## **Assessment Task**\n"
      ]
    },
    {
      "cell_type": "markdown",
      "metadata": {
        "id": "SyvhiowLGlkq"
      },
      "source": [
        "### ***Questions***"
      ]
    },
    {
      "cell_type": "markdown",
      "metadata": {
        "id": "lkU9W8cbf17O"
      },
      "source": [
        "1.   A puzzle has multiple ways of reaching the end solution. Fig. 1 shows a graph that represents all possible\n",
        "routes to the solution. The starting point of the game is represented by A, the solution is represented\n",
        "by F. The other points in the graph are possible intermediary stages.\n",
        "\n"
      ]
    },
    {
      "cell_type": "markdown",
      "metadata": {
        "id": "Ut7DyWVFx725"
      },
      "source": [
        "<img src=\"https://github.com/raulFuzita/cct_ai/blob/CA2/images/puzzle_graph.png?raw=true\" alt=\"The original puzzle graph\" width=70%/>\n",
        "\n",
        "Fig. 1"
      ]
    },
    {
      "cell_type": "markdown",
      "metadata": {
        "id": "lP0Fx64mf-Kn"
      },
      "source": [
        "a.   The graph in Fig. 1 is a visualisation of the problem.\n",
        "   *   Identify the differences between a graph and a tree.\n",
        "   *   Explain how the graph is an abstraction of the problem.\n",
        "   *   Identify the advantages of using a visualisation such as the one shown in Fig. 1.\n",
        "\n",
        "b.   Demonstrate how Dijkstra’s algorithm would find the shortest path to the solution in Fig.1 through\n",
        "diagrams and written explanation."
      ]
    },
    {
      "cell_type": "markdown",
      "metadata": {
        "id": "FOzNsqfAgmh-"
      },
      "source": [
        "2. The creator of the puzzle has been told that the A* algorithm is more efficient at finding the shortest\n",
        "path because it uses heuristics. Compare the performance of Dijkstra’s algorithm and the A* search\n",
        "algorithm, making reference to heuristics, to find the shortest path to the problem by implementing both\n",
        "algorithms programmatically and comparing the solutions generated in Mark-down. Refer to the\n",
        "complexity of the algorithms and compare the actual time it takes for the solutions to be processed"
      ]
    },
    {
      "cell_type": "markdown",
      "metadata": {
        "id": "I7U75fmhHBTO"
      },
      "source": [
        "###  ***Differences Between a Graph And a Tree***"
      ]
    },
    {
      "cell_type": "markdown",
      "metadata": {
        "id": "3Rh-P0BwHM0d"
      },
      "source": [
        "##### ***Graph***"
      ]
    },
    {
      "cell_type": "markdown",
      "metadata": {
        "id": "5UfaBvsSHUHG"
      },
      "source": [
        "<p align=\"justify\">\n",
        "&emsp;&emsp;A graph is a collection of items that are connected by edges, and each item is known as a node or vertice. In other words, a graph can be defined as a collection of vertices. A graph is also a non-linear mathematical data structure that can represent many types of physical structures.\n",
        "\n",
        "&emsp;&emsp;Graphs are classified into many categories such as directed, undirected, acyclic, disconnected, complete bipartite, and weighted. \n",
        "</p>"
      ]
    },
    {
      "cell_type": "markdown",
      "metadata": {
        "id": "Lvpja8xlKCyV"
      },
      "source": [
        "##### ***Tree***"
      ]
    },
    {
      "cell_type": "markdown",
      "metadata": {
        "id": "-eh1WGZ6KKcW"
      },
      "source": [
        "<p align=\"justify\">\n",
        "&emsp;&emsp;A tree is also a data structure used in mathematics and computer science. It is similar to a tree structure and has a set of finite nodes linked to each other. A tree is used to show a hierarchical structure among many data elements, and organize data into branches that relate to information.\n",
        "</p>"
      ]
    },
    {
      "cell_type": "markdown",
      "metadata": {
        "id": "Hq4Ayzz--3x-"
      },
      "source": [
        "<table>\n",
        "  <tr>\n",
        "    <th>No</th>\n",
        "    <th>Graph</th>\n",
        "    <th>Tree</th>\n",
        "  </tr>\n",
        "  <tr>\n",
        "    <td>1</td>\n",
        "    <td>Graph is a non-linear data structure.</td>\n",
        "    <td>Tree is a non-linear data structure.</td>\n",
        "  </tr>\n",
        "  <tr>\n",
        "    <td>2</td>\n",
        "    <td>It is a collection of vertices/nodes and edges.</td>\n",
        "    <td>It is a collection of nodes and edges.</td>\n",
        "  </tr>\n",
        "  <tr>\n",
        "    <td>3</td>\n",
        "    <td>Each node can have any number of edges.</td>\n",
        "    <td>General trees consist of the nodes having any number of child nodes. But in case of binary trees every node can have at the most two child nodes.</td>\n",
        "  </tr>\n",
        "  <tr>\n",
        "    <td>4</td>\n",
        "    <td>There is no unique node called root in graph.</td>\n",
        "    <td>There is a unique node called root in trees.</td>\n",
        "  </tr>\n",
        "  <tr>\n",
        "    <td>5</td>\n",
        "    <td>A cycle can be formed.</td>\n",
        "    <td>There will not be any cycle.</td>\n",
        "  </tr>\n",
        "  <tr>\n",
        "    <td>6</td>\n",
        "    <td>Applications: For finding shortest path in networking graph is used.</td>\n",
        "    <td>Applications: For game trees, decision trees, the tree is used.</td>\n",
        "  </tr>\n",
        "</table>\n",
        "<span>table 1</span>\n",
        "<div align=\"right\">\n",
        "    (<a href=\"https://www.geeksforgeeks.org/difference-between-graph-and-tree/\">Geeksforgeeks</a>, 2019)\n",
        "</div>\n"
      ]
    },
    {
      "cell_type": "markdown",
      "metadata": {
        "id": "Hiu67O31i67M"
      },
      "source": [
        "### ***Graph is an Abstraction of the Problem***"
      ]
    },
    {
      "cell_type": "markdown",
      "source": [
        "<p align=\"justify\">\n",
        "&emsp;&emsp;In the XIII century, a challenge spread in a small city of Europe. The challenge of the seven bridges of Königsberg. Many were who accepted the challenge to cross the seven bridges without repeating the same bridge and not leave one without crossing. Very quickly mathematicians got involved in the case. A remarkable mathematician, Leonhard Euler was the first person to solve the problem. He could not cross the bridges without repeating them, instead, he gave up and proved why this challenge was not possible to accomplish. In order to prove it, he proposed the graph theory.\n",
        "\n",
        "Each piece of land would be represented by a vertex and each bridge an edge.\n",
        "A graph is a representation of an abstract problem as Vardan Grigoryan stated.\n",
        "</p>\n",
        "\n",
        ">  \"One important thing to note is the generalization/abstraction of a problem. Whenever you solve a specific problem, the most important thing is to generalize the solution for similar problems ([Vardan Grigoryan](https://www.freecodecamp.org/news/i-dont-understand-graph-theory-1c96572a1401/), 2018).\"\n"
      ],
      "metadata": {
        "id": "QLBErI9wgJ2B"
      }
    },
    {
      "cell_type": "markdown",
      "metadata": {
        "id": "Th11rFdIjJ_h"
      },
      "source": [
        "### ***Advantages of Using a Visualisation Graph***"
      ]
    },
    {
      "cell_type": "markdown",
      "source": [
        "<p align=\"justify\">\n",
        "&emsp;&emsp;Graphs can help you in many ways. First of all, understand the relationship between your data points. Secondly, understand property-based commonalities in your vertices. Thirdly giving you the ability to naturally explore the data that you have.\n",
        "\n",
        "&emsp;&emsp;By visualizing your graph you can see exactly which vertices are connected. Some have outgoing edges, some only have incoming edges.\n",
        "\n",
        "&emsp;&emsp;We can apply graphs in a range of applications to solve algorithm problems. We will see later on algorithms such as Dijkstra and A-Star.\n",
        "\n",
        "&emsp;&emsp;You can find a graph implemented in Airbnb in form of a Binary Search Tree (BST) and perhaps an undirected graph for Facebook users' relations.\n",
        "\n",
        "&emsp;&emsp;As it was said before, graphs are a data structure. There are many algorithms to traverse them; however, probably, the most known algorithm is Depth-first (DFS), and Breadth-first search (BFS). These two algorithms are found in Dijkstra and A-Star implementation.\n",
        "</p>\n"
      ],
      "metadata": {
        "id": "o4EJOYI1gJLH"
      }
    },
    {
      "cell_type": "markdown",
      "metadata": {
        "id": "utQo9wtNQYk0"
      },
      "source": [
        "### ***Dijkstra's Algorithm Implemented to graph Fig. 1***"
      ]
    },
    {
      "cell_type": "markdown",
      "metadata": {
        "id": "8p9Zc8KGRzYM"
      },
      "source": [
        "<p align=\"justify\">\n",
        "&emsp;&emsp;With this graph, we want to determine the shortest path from one vertex to another. To figure out the shortest path from the departure point to the destination we need the total distance of each route. However, we do not have this information yet. Before we start the algorithm we have to label all the vertices with infinity values. The only one we can label correctly is our source (departure), which weighs zero.\n",
        "\n",
        "&emsp;&emsp;Dijkstra's algorithm is divided into two steps process, update estimates and choose the next vertex.\n",
        "\n",
        "The first step is to explore the vertices connected to the source. Each time we explore a new vertex we store the way back to the previous vertex. After exploring all the vertices connected directly to the source we move to the next step, choosing the next vertex. In this step, we will take the shortest path to a source's child node (vertex). Then, we repeat the update estimates process. If one of the child nodes connects to its siblings, we calculate the difference in distance (weight) from the source (parent) to this sibling, and then we compare it to the distance from the source to the sibling by taking the current node. If the first distance is longer than the second one we update the vertex weight. Otherwise, we do not have to update it.\n",
        "\n",
        "&emsp;&emsp;Those two processes will repeat until we find the destination (target) or end the algorithm if all the vertex were visited. In the end, we can figure out what the best path is by following those traces backwards to the beginning.\n",
        "</p>"
      ]
    },
    {
      "cell_type": "markdown",
      "metadata": {
        "id": "gXRPRV_TDgAW"
      },
      "source": [
        "\n",
        "<img src=\"https://github.com/raulFuzita/cct_ai/blob/CA2/images/puzzle_graphic_dijkstr.gif?raw=true\" alt=\"A GIF image showing the Dijkstra algorithm \" width=70%/>"
      ]
    },
    {
      "cell_type": "markdown",
      "metadata": {
        "id": "j8_VTer49K2K"
      },
      "source": [
        "Fig. 2"
      ]
    },
    {
      "cell_type": "markdown",
      "metadata": {
        "id": "8xN1njBkRMnl"
      },
      "source": [
        "### ***A-Star's Algorithm Implemented to graph Fig. 1***"
      ]
    },
    {
      "cell_type": "markdown",
      "metadata": {
        "id": "-A7k9b5slnjZ"
      },
      "source": [
        "<p align=\"justify\">\n",
        "&emsp;&emsp;The problem with Dijkstra is that it will follow the path that is the current shortest. It does not pay any attention to the direction is going.\n",
        "\n",
        "&emsp;&emsp;A-Star algorithm uses heuristics to determine if we are moving towards our goal. To illustrate the difference between an algorithm with a heuristic and without it, let's imagine you have lost your keys in your house. If you try to find your keys by following an algorithm without heuristic you will have to follow strict instructions. For instance, you would have to check for your keys in every single room and check every single piece of furniture. After following these steps you would eventually find them. However, this is not the way we do in reality, we can estimate where the keys could be by checking in places you usually leave them. This second approach is similar to applying heuristics to the problem (algorithm).\n",
        "\n",
        "&emsp;&emsp;How do we estimate heuristic values for each vertex in a graph? In a system where the vertices are geographical locations on the map, the edges are distances in kilometres, and we might know the longitude and latitude of a vertex. So, we can calculate the straight-line distances from any location to the destination. In some cases, we can use a grid or imagine the Y and X axes to estimate distances in a straight line.\n",
        "\n",
        "&emsp;&emsp;Given a function f(n)=g(n)+h(n), the A-Start algorithm can recalculate the weights to find the shortest path.\n",
        "\n",
        "&emsp;&emsp;In <a href=\"#section-3\">Dijkstra and S-Star Algorithm Performance Comparison</a> we will see a comparison between Dijkstra and A-Star algorithms.\n",
        "</p>"
      ]
    },
    {
      "cell_type": "markdown",
      "metadata": {
        "id": "CRSfF6YuDttP"
      },
      "source": [
        "<img src=\"https://github.com/raulFuzita/cct_ai/blob/CA2/images/puzzle_graphic_a_star.gif?raw=true\" alt=\"A GIF image showing the A-Star algorithm \" width=70%/>"
      ]
    },
    {
      "cell_type": "markdown",
      "metadata": {
        "id": "7VC4YAF89N6Q"
      },
      "source": [
        "Fig. 3"
      ]
    },
    {
      "cell_type": "markdown",
      "metadata": {
        "id": "myWpsxMVhdvR"
      },
      "source": [
        "## Creating Data Sets Based on the Graph Information"
      ]
    },
    {
      "cell_type": "markdown",
      "metadata": {
        "id": "HoggoOcS4lBn"
      },
      "source": [
        "<p align=\"justify\">\n",
        "&emsp;&emsp;From the graph, we can extract some information for our data set. The graph provides the distances (weight) between each vertex. One way to create a data set is by instantiating a dictionary or a list of tuples with the data or creating a CSV file with it.\n",
        "\n",
        "&emsp;&emsp;For this assignment, I decided for creating a CSV file.\n",
        "</p>"
      ]
    },
    {
      "cell_type": "markdown",
      "metadata": {
        "id": "AsNBlThhh324"
      },
      "source": [
        "![image.png](https://github.com/raulFuzita/cct_ai/blob/CA2/images/puzzle_distances_csv_file.png?raw=true)\n"
      ]
    },
    {
      "cell_type": "markdown",
      "metadata": {
        "id": "PivlbFXZ9QPY"
      },
      "source": [
        "Fig. 4"
      ]
    },
    {
      "cell_type": "markdown",
      "metadata": {
        "id": "s4Wi0sDM7Onk"
      },
      "source": [
        "<p align=\"justify\">\n",
        "&emsp;&emsp;The next step was to estimate the location of each vertex. I estimated their location by defining which vertex was closest to the Y-axis, and which one was the closest to the X-axis. Then I used an Adobe Reader tool to measure each vertex. See Fig. 5. \n",
        "</p>"
      ]
    },
    {
      "cell_type": "markdown",
      "metadata": {
        "id": "G9Ejh71AiET4"
      },
      "source": [
        "![image.png](https://github.com/raulFuzita/cct_ai/blob/CA2/images/graphic_nodes_location.png?raw=true)"
      ]
    },
    {
      "cell_type": "markdown",
      "metadata": {
        "id": "x-jXVCRW9TPn"
      },
      "source": [
        "Fig. 5"
      ]
    },
    {
      "cell_type": "markdown",
      "metadata": {
        "id": "Vw3jPhiv9bJK"
      },
      "source": [
        "<p align=\"justify\">\n",
        "&emsp;&emsp;Once we have estimated distances for each vertex, we can transform those distances into data to fill one more CSV file.\n",
        "</p>"
      ]
    },
    {
      "cell_type": "markdown",
      "metadata": {
        "id": "gUmInvUqjP41"
      },
      "source": [
        "![image.png](https://github.com/raulFuzita/cct_ai/blob/CA2/images/puzzle_location_csv_file.png?raw=true)"
      ]
    },
    {
      "cell_type": "markdown",
      "metadata": {
        "id": "c9QUFAhtCZtZ"
      },
      "source": [
        "Fig. 6"
      ]
    },
    {
      "cell_type": "markdown",
      "metadata": {
        "id": "Xu7k4EQM95Om"
      },
      "source": [
        "<p align=\"justify\">\n",
        "&emsp;&emsp;You will find both data sets available in my Github repository, available at: <a href=\"https://github.com/raulFuzita/cct_ai/tree/CA2/dataset\">https://github.com/raulFuzita/cct_ai/tree/CA2/dataset</a>: \n",
        "</p>"
      ]
    },
    {
      "cell_type": "markdown",
      "metadata": {
        "id": "DjRe7HBmhVor"
      },
      "source": [
        "## Codes"
      ]
    },
    {
      "cell_type": "code",
      "metadata": {
        "id": "kWyuuU8JeHfm",
        "colab": {
          "base_uri": "https://localhost:8080/"
        },
        "cellView": "form",
        "outputId": "d7febbb1-0ab9-4e75-fa69-c497835bd145"
      },
      "source": [
        "#@markdown 👈 **Please, you must run this code cell to install all the necessary dependencies and import the data sets for this assignment.** <font color=\"red\">(Important)</font>\n",
        "\n",
        "\n",
        "import pandas as pd\n",
        "import matplotlib.pyplot as plt\n",
        "import networkx as nx\n",
        "import numpy as np\n",
        "import ipywidgets as widgets\n",
        "import timeit\n",
        "from timeit import Timer\n",
        "import matplotlib.pyplot as plt\n",
        "import numpy as np\n",
        "\n",
        "!pip install git+https://github.com/raulFuzita/cct_data_visualisation_communication.git@CA1#egg=data_analytics_tools&subdirectory=data_analytics_tools/src\n",
        "\n",
        "from data_analytics_tools.data_analytics_tools import dictionary as dc, validatordf as vl\n",
        "\n",
        "df_nodes_dist = pd.read_csv(\"https://raw.githubusercontent.com/raulFuzita/cct_ai/CA2/dataset/puzzle_distances.csv\")\n",
        "df_nodes_loc = pd.read_csv(\"https://raw.githubusercontent.com/raulFuzita/cct_ai/CA2/dataset/puzzle_location.csv\")"
      ],
      "execution_count": 3,
      "outputs": [
        {
          "output_type": "stream",
          "name": "stdout",
          "text": [
            "Collecting data_analytics_tools\n",
            "  Cloning https://github.com/raulFuzita/cct_data_visualisation_communication.git (to revision CA1) to /tmp/pip-install-c6gziqcv/data-analytics-tools_bfdb0019901046c7b00e56e1b749727d\n",
            "  Running command git clone -q https://github.com/raulFuzita/cct_data_visualisation_communication.git /tmp/pip-install-c6gziqcv/data-analytics-tools_bfdb0019901046c7b00e56e1b749727d\n",
            "  Running command git checkout -b CA1 --track origin/CA1\n",
            "  Switched to a new branch 'CA1'\n",
            "  Branch 'CA1' set up to track remote branch 'CA1' from 'origin'.\n",
            "Building wheels for collected packages: data-analytics-tools\n",
            "  Building wheel for data-analytics-tools (setup.py) ... \u001b[?25l\u001b[?25hdone\n",
            "  Created wheel for data-analytics-tools: filename=data_analytics_tools-1.0.0-py3-none-any.whl size=5006 sha256=2f708a52023938a5323b27910fe987c02e1f27176e24aca92ba2e37b6e56fe6d\n",
            "  Stored in directory: /tmp/pip-ephem-wheel-cache-nloqtzil/wheels/97/63/e8/8e7a2fecc2f220696e8e183032b6abfad9acd67978406624c1\n",
            "Successfully built data-analytics-tools\n",
            "Installing collected packages: data-analytics-tools\n",
            "Successfully installed data-analytics-tools-1.0.0\n"
          ]
        }
      ]
    },
    {
      "cell_type": "code",
      "source": [
        "#@markdown 👈 **Please, run this cell to set the rules validation to validate the data frames. If the rules do not meet your data frame format you can edit the rules here, but it is not recommended since the algorithm in this project are expecting a predefined format.** <font color=\"lightgreen\">(Recommended)</font>\n",
        "\n",
        "#@markdown See the rules in the tabel above.\n",
        "\n",
        "\n",
        "def validateDataFrames():\n",
        "    vl.checkDF('Node Distances (Data Frame): ', df_nodes_dist, [str, str, np.float64], 3, negative=False)\n",
        "    vl.checkDF('Node Location (Data Frame): ', df_nodes_loc, [str, np.float64, np.float64], 3, negative=False)"
      ],
      "metadata": {
        "cellView": "form",
        "id": "nAu9x-SVs0ct"
      },
      "execution_count": 4,
      "outputs": []
    },
    {
      "cell_type": "markdown",
      "source": [
        "\n",
        "<table>\n",
        "  <tr>\n",
        "      <th>Data Frame Name</th>\n",
        "      <th>Data Frame</th>\n",
        "      <th>Columns Types</th>\n",
        "      <th>Number of Columns</th>\n",
        "      <th>Allow Negative Valus</th>\n",
        "  </tr>\n",
        "  <tr>\n",
        "    <td>Node Distances</td>\n",
        "    <td>df_nodes_dist (pandas data frame)</td>\n",
        "    <td>(column1: str, column2: str, column3: numpy.float64)</td>\n",
        "    <td>3</td>\n",
        "    <td>False</td>\n",
        "  </tr>\n",
        "  <tr>\n",
        "    <td>Node Location</td>\n",
        "    <td>df_nodes_loc (pandas data frame)</td>\n",
        "    <td>(column1: str, column2: numpy.float64, column3: numpy.float64)</td>\n",
        "    <td>3</td>\n",
        "    <td>False</td>\n",
        "  </tr>\n",
        "</table>"
      ],
      "metadata": {
        "id": "usA5CcB4xwnd"
      }
    },
    {
      "cell_type": "markdown",
      "source": [
        "### Exploratory Data Analysis (EDA)"
      ],
      "metadata": {
        "id": "bcQWGOCBVhhZ"
      }
    },
    {
      "cell_type": "code",
      "source": [
        "#@markdown 👈 **Please, run this cell to look for NaN value and check data frame format.** <font color=\"lightgreen\">(Recommended)</font>\n",
        "\n",
        "#@markdown Before you start working on your data set, it is important that you treat outliers and missing values.\n",
        "\n",
        "validateDataFrames()\n"
      ],
      "metadata": {
        "colab": {
          "base_uri": "https://localhost:8080/"
        },
        "cellView": "form",
        "id": "mwGw77tlWuXX",
        "outputId": "ba0f8257-0af2-493f-a644-ddabd1650930"
      },
      "execution_count": 5,
      "outputs": [
        {
          "output_type": "stream",
          "name": "stdout",
          "text": [
            "Node Distances (Data Frame): \n",
            "\n",
            "❌ (Missing Values)\n",
            "\n",
            " ----------------------------------------------------------------------------------------------------\n",
            "Node Location (Data Frame): \n",
            "\n",
            "✅ (Healthy)\n",
            "\n",
            " ----------------------------------------------------------------------------------------------------\n"
          ]
        }
      ]
    },
    {
      "cell_type": "code",
      "source": [
        "#@markdown 👈 **Please, run this cell to create a dictionary to map all the column names to a key in the dictionary. If the data set meets the requirements for this project, but have different names for the columns it should not be an issue.** <font color=\"red\">(Important)</font>\n",
        "\n",
        "#@markdown Every time a function needs to refer to a column name of the data set the dictionary will call its key that will return the correct name of the column even if you change it.\n",
        "\n",
        "#@markdown If you decide to change the columns' names of your own free will. Please, do not forget to update the dictionary.\n",
        "\n",
        "#@markdown You can pass a dictionary to update the dictionary values, you can pass a new value for all columns or for specific ones by matching the keys.\n",
        "\n",
        "#@markdown `dict.update_values({'sources':'newcol', 'targets':'newcol', 'distances': newcol', 'nodes':'newcol', 'x':'newcol', 'y':'newcol'})`\n",
        "\n",
        "#@markdown Or you can pass a list with the names of the new columns. You have to pass the same number of keys in the dictionary.\n",
        "\n",
        "#@markdown `dict.update_values(['newcol', 'newcol', 'newcol', 'newcol', 'newcol', 'newcol'])`\n",
        "\n",
        "dct = dc.Dictionary() # Instantiate an object type Dictionary\n",
        "\n",
        "# Concatenate columns names from both datasets.\n",
        "dict_words = df_nodes_dist.columns.to_list() + df_nodes_loc.columns.to_list()\n",
        "\n",
        "# Add the names of the columns to the dictionary.\n",
        "dct.add_keys(dict_words)"
      ],
      "metadata": {
        "cellView": "form",
        "id": "XIT8FtPlC3SD"
      },
      "execution_count": 6,
      "outputs": []
    },
    {
      "cell_type": "code",
      "metadata": {
        "colab": {
          "base_uri": "https://localhost:8080/",
          "height": 456
        },
        "id": "0bRCh-_pmLW8",
        "outputId": "e56e2e1e-3860-41cb-f77b-8a5ebb031a78",
        "cellView": "form"
      },
      "source": [
        "#@markdown 👈 Please, run this cell if you want to analyse the data frame. By default, it will display up to 15 rows, but if you do not want to see many rows you can decrease it by sliding it to the left. If you want to show more rows for a bigger data frame you can slide it to the right. The minimum of rows is 5 and the maximum is 50.\n",
        "\n",
        "#@markdown ❗ If you change the settings you have to run this cell again.\n",
        "\n",
        "display_rows = 15 #@param {type:\"slider\", min:5, max:50, step:1}\n",
        "df_nodes_dist.head(display_rows)"
      ],
      "execution_count": 7,
      "outputs": [
        {
          "output_type": "execute_result",
          "data": {
            "text/html": [
              "<div>\n",
              "<style scoped>\n",
              "    .dataframe tbody tr th:only-of-type {\n",
              "        vertical-align: middle;\n",
              "    }\n",
              "\n",
              "    .dataframe tbody tr th {\n",
              "        vertical-align: top;\n",
              "    }\n",
              "\n",
              "    .dataframe thead th {\n",
              "        text-align: right;\n",
              "    }\n",
              "</style>\n",
              "<table border=\"1\" class=\"dataframe\">\n",
              "  <thead>\n",
              "    <tr style=\"text-align: right;\">\n",
              "      <th></th>\n",
              "      <th>sources</th>\n",
              "      <th>targets</th>\n",
              "      <th>distances</th>\n",
              "    </tr>\n",
              "  </thead>\n",
              "  <tbody>\n",
              "    <tr>\n",
              "      <th>0</th>\n",
              "      <td>a</td>\n",
              "      <td>b</td>\n",
              "      <td>5</td>\n",
              "    </tr>\n",
              "    <tr>\n",
              "      <th>1</th>\n",
              "      <td>a</td>\n",
              "      <td>c</td>\n",
              "      <td>3</td>\n",
              "    </tr>\n",
              "    <tr>\n",
              "      <th>2</th>\n",
              "      <td>b</td>\n",
              "      <td>c</td>\n",
              "      <td>2</td>\n",
              "    </tr>\n",
              "    <tr>\n",
              "      <th>3</th>\n",
              "      <td>b</td>\n",
              "      <td>e</td>\n",
              "      <td>3</td>\n",
              "    </tr>\n",
              "    <tr>\n",
              "      <th>4</th>\n",
              "      <td>b</td>\n",
              "      <td>g</td>\n",
              "      <td>1</td>\n",
              "    </tr>\n",
              "    <tr>\n",
              "      <th>5</th>\n",
              "      <td>c</td>\n",
              "      <td>d</td>\n",
              "      <td>7</td>\n",
              "    </tr>\n",
              "    <tr>\n",
              "      <th>6</th>\n",
              "      <td>c</td>\n",
              "      <td>e</td>\n",
              "      <td>7</td>\n",
              "    </tr>\n",
              "    <tr>\n",
              "      <th>7</th>\n",
              "      <td>d</td>\n",
              "      <td>a</td>\n",
              "      <td>2</td>\n",
              "    </tr>\n",
              "    <tr>\n",
              "      <th>8</th>\n",
              "      <td>d</td>\n",
              "      <td>f</td>\n",
              "      <td>6</td>\n",
              "    </tr>\n",
              "    <tr>\n",
              "      <th>9</th>\n",
              "      <td>e</td>\n",
              "      <td>d</td>\n",
              "      <td>2</td>\n",
              "    </tr>\n",
              "    <tr>\n",
              "      <th>10</th>\n",
              "      <td>e</td>\n",
              "      <td>f</td>\n",
              "      <td>1</td>\n",
              "    </tr>\n",
              "    <tr>\n",
              "      <th>11</th>\n",
              "      <td>f</td>\n",
              "      <td>NaN</td>\n",
              "      <td>0</td>\n",
              "    </tr>\n",
              "    <tr>\n",
              "      <th>12</th>\n",
              "      <td>g</td>\n",
              "      <td>e</td>\n",
              "      <td>1</td>\n",
              "    </tr>\n",
              "  </tbody>\n",
              "</table>\n",
              "</div>"
            ],
            "text/plain": [
              "   sources targets  distances\n",
              "0        a       b          5\n",
              "1        a       c          3\n",
              "2        b       c          2\n",
              "3        b       e          3\n",
              "4        b       g          1\n",
              "5        c       d          7\n",
              "6        c       e          7\n",
              "7        d       a          2\n",
              "8        d       f          6\n",
              "9        e       d          2\n",
              "10       e       f          1\n",
              "11       f     NaN          0\n",
              "12       g       e          1"
            ]
          },
          "metadata": {},
          "execution_count": 7
        }
      ]
    },
    {
      "cell_type": "code",
      "metadata": {
        "colab": {
          "base_uri": "https://localhost:8080/",
          "height": 268
        },
        "id": "A7CbAMzhmT31",
        "outputId": "9a87978b-1cbe-4cd5-e141-bb8e3689bea8",
        "cellView": "form"
      },
      "source": [
        "#@markdown 👈 Please, run this cell if you want to analyse the data frame. By default, it will display up to 10 rows, but if you do not want to see many rows you can decrease it by sliding it to the left. If you want to show more rows for a bigger data frame you can slide it to the right. The minimum of rows is 5 and the maximum is 50.\n",
        "\n",
        "#@markdown ❗ If you change the settings you have to run this cell again.\n",
        "\n",
        "display_rows = 10 #@param {type:\"slider\", min:5, max:50, step:1}\n",
        "df_nodes_loc.head(display_rows)"
      ],
      "execution_count": 8,
      "outputs": [
        {
          "output_type": "execute_result",
          "data": {
            "text/html": [
              "<div>\n",
              "<style scoped>\n",
              "    .dataframe tbody tr th:only-of-type {\n",
              "        vertical-align: middle;\n",
              "    }\n",
              "\n",
              "    .dataframe tbody tr th {\n",
              "        vertical-align: top;\n",
              "    }\n",
              "\n",
              "    .dataframe thead th {\n",
              "        text-align: right;\n",
              "    }\n",
              "</style>\n",
              "<table border=\"1\" class=\"dataframe\">\n",
              "  <thead>\n",
              "    <tr style=\"text-align: right;\">\n",
              "      <th></th>\n",
              "      <th>nodes</th>\n",
              "      <th>x</th>\n",
              "      <th>y</th>\n",
              "    </tr>\n",
              "  </thead>\n",
              "  <tbody>\n",
              "    <tr>\n",
              "      <th>0</th>\n",
              "      <td>a</td>\n",
              "      <td>0.00</td>\n",
              "      <td>1.95</td>\n",
              "    </tr>\n",
              "    <tr>\n",
              "      <th>1</th>\n",
              "      <td>b</td>\n",
              "      <td>1.68</td>\n",
              "      <td>3.94</td>\n",
              "    </tr>\n",
              "    <tr>\n",
              "      <th>2</th>\n",
              "      <td>c</td>\n",
              "      <td>3.07</td>\n",
              "      <td>1.92</td>\n",
              "    </tr>\n",
              "    <tr>\n",
              "      <th>3</th>\n",
              "      <td>d</td>\n",
              "      <td>1.65</td>\n",
              "      <td>0.00</td>\n",
              "    </tr>\n",
              "    <tr>\n",
              "      <th>4</th>\n",
              "      <td>e</td>\n",
              "      <td>5.94</td>\n",
              "      <td>1.92</td>\n",
              "    </tr>\n",
              "    <tr>\n",
              "      <th>5</th>\n",
              "      <td>f</td>\n",
              "      <td>4.50</td>\n",
              "      <td>0.00</td>\n",
              "    </tr>\n",
              "    <tr>\n",
              "      <th>6</th>\n",
              "      <td>g</td>\n",
              "      <td>4.51</td>\n",
              "      <td>3.94</td>\n",
              "    </tr>\n",
              "  </tbody>\n",
              "</table>\n",
              "</div>"
            ],
            "text/plain": [
              "  nodes     x     y\n",
              "0     a  0.00  1.95\n",
              "1     b  1.68  3.94\n",
              "2     c  3.07  1.92\n",
              "3     d  1.65  0.00\n",
              "4     e  5.94  1.92\n",
              "5     f  4.50  0.00\n",
              "6     g  4.51  3.94"
            ]
          },
          "metadata": {},
          "execution_count": 8
        }
      ]
    },
    {
      "cell_type": "code",
      "metadata": {
        "id": "6WNGcmaZ9b_U",
        "cellView": "form"
      },
      "source": [
        "#@markdown 👈 **Please, run this cell to remove any row in the data frame that contains NaN or empty values. Then, columns destined for the names of the nodes will be converted to uppercase for aesthetic purposes.** <font color=\"red\">(Important)</font>\n",
        "\n",
        "df_nodes_dist.dropna(inplace=True)\n",
        "df_nodes_dist[[dct.sources, dct.targets]] = df_nodes_dist[[dct.sources, dct.targets]].apply(lambda x: x.str.upper())\n",
        "df_nodes_loc[dct.nodes] = df_nodes_loc[dct.nodes].str.upper()"
      ],
      "execution_count": 9,
      "outputs": []
    },
    {
      "cell_type": "code",
      "metadata": {
        "colab": {
          "base_uri": "https://localhost:8080/",
          "height": 206
        },
        "id": "T6__08V1H1Qo",
        "outputId": "b57e8ea1-437f-4a12-f30d-0ec61f8660fb",
        "cellView": "form"
      },
      "source": [
        "#@markdown 👈 **Please, run this cell to see the changes applied to the Node Distances data frame if there was any.**\n",
        "df_nodes_dist.head()"
      ],
      "execution_count": 10,
      "outputs": [
        {
          "output_type": "execute_result",
          "data": {
            "text/html": [
              "<div>\n",
              "<style scoped>\n",
              "    .dataframe tbody tr th:only-of-type {\n",
              "        vertical-align: middle;\n",
              "    }\n",
              "\n",
              "    .dataframe tbody tr th {\n",
              "        vertical-align: top;\n",
              "    }\n",
              "\n",
              "    .dataframe thead th {\n",
              "        text-align: right;\n",
              "    }\n",
              "</style>\n",
              "<table border=\"1\" class=\"dataframe\">\n",
              "  <thead>\n",
              "    <tr style=\"text-align: right;\">\n",
              "      <th></th>\n",
              "      <th>sources</th>\n",
              "      <th>targets</th>\n",
              "      <th>distances</th>\n",
              "    </tr>\n",
              "  </thead>\n",
              "  <tbody>\n",
              "    <tr>\n",
              "      <th>0</th>\n",
              "      <td>A</td>\n",
              "      <td>B</td>\n",
              "      <td>5</td>\n",
              "    </tr>\n",
              "    <tr>\n",
              "      <th>1</th>\n",
              "      <td>A</td>\n",
              "      <td>C</td>\n",
              "      <td>3</td>\n",
              "    </tr>\n",
              "    <tr>\n",
              "      <th>2</th>\n",
              "      <td>B</td>\n",
              "      <td>C</td>\n",
              "      <td>2</td>\n",
              "    </tr>\n",
              "    <tr>\n",
              "      <th>3</th>\n",
              "      <td>B</td>\n",
              "      <td>E</td>\n",
              "      <td>3</td>\n",
              "    </tr>\n",
              "    <tr>\n",
              "      <th>4</th>\n",
              "      <td>B</td>\n",
              "      <td>G</td>\n",
              "      <td>1</td>\n",
              "    </tr>\n",
              "  </tbody>\n",
              "</table>\n",
              "</div>"
            ],
            "text/plain": [
              "  sources targets  distances\n",
              "0       A       B          5\n",
              "1       A       C          3\n",
              "2       B       C          2\n",
              "3       B       E          3\n",
              "4       B       G          1"
            ]
          },
          "metadata": {},
          "execution_count": 10
        }
      ]
    },
    {
      "cell_type": "code",
      "metadata": {
        "colab": {
          "base_uri": "https://localhost:8080/",
          "height": 206
        },
        "id": "HctwPCiyH2H2",
        "outputId": "5b301d94-68da-46d4-8a9a-6dbcc9168195",
        "cellView": "form"
      },
      "source": [
        "#@markdown 👈 **Please, run this cell to see the changes applied to the Node Location data frame if there was any.**\n",
        "df_nodes_loc.head()"
      ],
      "execution_count": 11,
      "outputs": [
        {
          "output_type": "execute_result",
          "data": {
            "text/html": [
              "<div>\n",
              "<style scoped>\n",
              "    .dataframe tbody tr th:only-of-type {\n",
              "        vertical-align: middle;\n",
              "    }\n",
              "\n",
              "    .dataframe tbody tr th {\n",
              "        vertical-align: top;\n",
              "    }\n",
              "\n",
              "    .dataframe thead th {\n",
              "        text-align: right;\n",
              "    }\n",
              "</style>\n",
              "<table border=\"1\" class=\"dataframe\">\n",
              "  <thead>\n",
              "    <tr style=\"text-align: right;\">\n",
              "      <th></th>\n",
              "      <th>nodes</th>\n",
              "      <th>x</th>\n",
              "      <th>y</th>\n",
              "    </tr>\n",
              "  </thead>\n",
              "  <tbody>\n",
              "    <tr>\n",
              "      <th>0</th>\n",
              "      <td>A</td>\n",
              "      <td>0.00</td>\n",
              "      <td>1.95</td>\n",
              "    </tr>\n",
              "    <tr>\n",
              "      <th>1</th>\n",
              "      <td>B</td>\n",
              "      <td>1.68</td>\n",
              "      <td>3.94</td>\n",
              "    </tr>\n",
              "    <tr>\n",
              "      <th>2</th>\n",
              "      <td>C</td>\n",
              "      <td>3.07</td>\n",
              "      <td>1.92</td>\n",
              "    </tr>\n",
              "    <tr>\n",
              "      <th>3</th>\n",
              "      <td>D</td>\n",
              "      <td>1.65</td>\n",
              "      <td>0.00</td>\n",
              "    </tr>\n",
              "    <tr>\n",
              "      <th>4</th>\n",
              "      <td>E</td>\n",
              "      <td>5.94</td>\n",
              "      <td>1.92</td>\n",
              "    </tr>\n",
              "  </tbody>\n",
              "</table>\n",
              "</div>"
            ],
            "text/plain": [
              "  nodes     x     y\n",
              "0     A  0.00  1.95\n",
              "1     B  1.68  3.94\n",
              "2     C  3.07  1.92\n",
              "3     D  1.65  0.00\n",
              "4     E  5.94  1.92"
            ]
          },
          "metadata": {},
          "execution_count": 11
        }
      ]
    },
    {
      "cell_type": "code",
      "source": [
        "#@markdown 👈 **Please, run this cell to check the data frame again. It is expected that the test pass this time. If the test does not pass check the issues and fix them before you continue.** <font color=\"lightgreen\">(Recommended)</font>\n",
        "\n",
        "#@markdown If you do not find any issue with the data frame itself, check the rules applied to the test. Make sure they only require what is needed to run the data frame for this project.\n",
        "\n",
        "validateDataFrames()"
      ],
      "metadata": {
        "colab": {
          "base_uri": "https://localhost:8080/"
        },
        "cellView": "form",
        "id": "6mbtX7p4CFH9",
        "outputId": "bb53b5cd-0a93-4f19-84d0-7397fe0dfd6b"
      },
      "execution_count": 12,
      "outputs": [
        {
          "output_type": "stream",
          "name": "stdout",
          "text": [
            "Node Distances (Data Frame): \n",
            "\n",
            "✅ (Healthy)\n",
            "\n",
            " ----------------------------------------------------------------------------------------------------\n",
            "Node Location (Data Frame): \n",
            "\n",
            "✅ (Healthy)\n",
            "\n",
            " ----------------------------------------------------------------------------------------------------\n"
          ]
        }
      ]
    },
    {
      "cell_type": "code",
      "metadata": {
        "colab": {
          "base_uri": "https://localhost:8080/"
        },
        "id": "m-Of_ZSs80MN",
        "outputId": "21468b33-56f4-4101-dec2-f97af73f7436",
        "cellView": "form"
      },
      "source": [
        "#@markdown 👈 **Please, run this cell to create one more instance of the *Node Distances* data frame. One instance will be converted to a dictionary, and the other one to a list.** <font color=\"red\">(Important)</font>\n",
        "\n",
        "#@markdown Dijkstar's Algorithm will require a list type, and A-Star algorithm will require a dictionary type.\n",
        "\n",
        "df_dist_dict = df_nodes_dist.groupby(dct.sources)[[dct.targets, dct.distances]].apply(lambda g: list(map(tuple, g.values.tolist()))).to_dict()\n",
        "df_dist_list = df_nodes_dist.apply(tuple, axis=1).tolist()\n",
        "df_loc_dict = df_nodes_loc.groupby(dct.nodes)[[dct.x, dct.y]].apply(lambda g: list(map(tuple, g.values.tolist()))).to_dict()\n",
        "print('Data frame with distances for Dijkstra\\'s algorithm:', type(df_dist_dict))\n",
        "print('Data frame with distances for A-Star algorithm:', type(df_dist_list))\n",
        "print('Data frame with location for A-Star algorithm:', type(df_loc_dict))\n"
      ],
      "execution_count": 13,
      "outputs": [
        {
          "output_type": "stream",
          "name": "stdout",
          "text": [
            "Data frame with distances for Dijkstra's algorithm: <class 'dict'>\n",
            "Data frame with distances for A-Star algorithm: <class 'list'>\n",
            "Data frame with location for A-Star algorithm: <class 'dict'>\n"
          ]
        }
      ]
    },
    {
      "cell_type": "code",
      "metadata": {
        "id": "l5E8UfonmoYU",
        "cellView": "form"
      },
      "source": [
        "#@title ## **Dijkstra's Algorithm** <font color=\"red\">(Important)</font>\n",
        "\n",
        "#@markdown 👈 **Please, run this cell to make it possible to instanciate a class type DijkstraAlgorithm. To instantiate this class you can do as follow** `Dijkstra = DijkstraAlgorithm()` or `Dijkstra = DijkstraAlgorithm(list_data: list)`\n",
        "\n",
        "#@markdown If you do not know how to use their functions, run in a code block `help(Dijkstra) ` to see the names of the functions. Then you can select a function and check the documentation related, e.i `print(Dijkstra.__doc__)`\n",
        "\n",
        "\n",
        "\n",
        "#@markdown To preserve the original code as much as I could I decided not to comment too much or make big changes. The original algorithm was actually a function and not a class. That class was a data structure to handle the list of nodes and edges. There was also a For loop statement to add all the list items to the class called Graph.\n",
        "#@markdown The changes I made was, rename the class Graph to DijkstraAlgorithm, Dijkstra's algorithm to the class, and create a new method that takes a list, iterates all the items and adds them to the algorithm.\n",
        "\n",
        "#@markdown See below the reference for code source.\n",
        "\n",
        "#@markdown [Ben Alex Keen](https://benalexkeen.com/implementing-djikstras-shortest-path-algorithm-with-python/), 11th January 2017, *Implementing Djikstra's Shortest Path Algorithm With Python*\n",
        "\n",
        "#@markdown Accessed at: 07/12/2021\n",
        "\n",
        "from collections import defaultdict\n",
        "\n",
        "class DijkstraAlgorithm():\n",
        "    def __init__(self, edges):\n",
        "        '''\n",
        "        self.edges is a dict of all possible next nodes\n",
        "        e.g. {'X': ['A', 'B', 'C', 'E'], ...}\n",
        "        self.weights has all the weights between two nodes,\n",
        "        with the two nodes as a tuple as the key\n",
        "        e.g. {('X', 'A'): 7, ('X', 'B'): 2, ...}\n",
        "        '''\n",
        "        self.edges = defaultdict(list)\n",
        "        self.weights = {}\n",
        "\n",
        "        self.add_edges(edges)\n",
        "    \n",
        "    def add_edge(self, from_node, to_node, weight):\n",
        "        # Note: assumes edges are bi-directional\n",
        "        self.edges[from_node].append(to_node)\n",
        "        self.weights[(from_node, to_node)] = weight\n",
        "\n",
        "    # Create by Raul\n",
        "    def add_edges(self, edges):\n",
        "        '''\n",
        "        Test\n",
        "        '''\n",
        "        for edge in edges:\n",
        "            self.add_edge(*edge)\n",
        "\n",
        "    def shortest_paths(self, initial, end):\n",
        "        # shortest paths is a dict of nodes\n",
        "        # whose value is a tuple of (previous node, weight)\n",
        "        shortest_paths = {initial: (None, 0)}\n",
        "        current_node = initial\n",
        "        visited = set()\n",
        "        \n",
        "        while current_node != end:\n",
        "            visited.add(current_node)\n",
        "            destinations = self.edges[current_node]\n",
        "            weight_to_current_node = shortest_paths[current_node][1]\n",
        "\n",
        "            for next_node in destinations:\n",
        "                weight = self.weights[(current_node, next_node)] + weight_to_current_node\n",
        "                if next_node not in shortest_paths:\n",
        "                    shortest_paths[next_node] = (current_node, weight)\n",
        "                else:\n",
        "                    current_shortest_weight = shortest_paths[next_node][1]\n",
        "                    if current_shortest_weight > weight:\n",
        "                        shortest_paths[next_node] = (current_node, weight)\n",
        "                #print(shortest_paths)\n",
        "            #print(shortest_paths)\n",
        "            next_destinations = {node: shortest_paths[node] for node in shortest_paths if node not in visited}\n",
        "            if not next_destinations:\n",
        "               print(\"Route Not Possible\")\n",
        "               return None\n",
        "            # next node is the destination with the lowest weight\n",
        "            current_node = min(next_destinations, key=lambda k: next_destinations[k][1])\n",
        "        \n",
        "        # Work back through destinations in shortest path\n",
        "        path = []\n",
        "        while current_node is not None:\n",
        "            path.append(current_node)\n",
        "            next_node = shortest_paths[current_node][0]\n",
        "            current_node = next_node\n",
        "        # Reverse path\n",
        "        path = path[::-1]\n",
        "        print('Path found: {}'.format(path))\n",
        "        return path\n",
        "\n",
        "    def clear(self):\n",
        "        self.edges = defaultdict(list)\n",
        "        self.weights = {}"
      ],
      "execution_count": 14,
      "outputs": []
    },
    {
      "cell_type": "code",
      "metadata": {
        "id": "Mhxev4N26MY1",
        "cellView": "form"
      },
      "source": [
        "#@title ## **A-Star's Algorithm** <font color=\"red\">(Important)</font>\n",
        "\n",
        "#@markdown 👈 **Please, run this cell to make it possible to instanciate a class type AStarAlgorithm. To instantiate this class you can do, e.i** `AStar = AStarAlgorithm()` or `AStar = AStarAlgorithm(dict_data: dict)`\n",
        "\n",
        "#@markdown If you do not know how to use their functions, run in a code block `help(AStar) ` to see the names of the functions. Then you can select a function and check the documentation related, e.i `print(AStar.__doc__)`\n",
        "\n",
        "#@markdown Similarly, I tried to preserve the original code from its source. I had to do some adaptation to make it works more dynamically.\n",
        "#@markdown The original class was called Graph which I renamed to AStarAlgorithm. In the original class, there was a hardcoded dictionary with the heuristics. The class also did not provide some safeguards if a key was not accessible. To sort that out I implemented a try-catch block to catch the KeyError exception, added parameters to the constructor to make it easier to instantiate the object. The new constructor parameters have default values, so it is not a requirement. Also, two more functions were added, one to import a dictionary with the nodes and edges, and another one to import a dictionary of heuristics.\n",
        "\n",
        "\n",
        "#@markdown [Python Pool](https://www.pythonpool.com/a-star-algorithm-python/), 2021, *The Insider’s Guide to A* Algorithm in Python*\n",
        "\n",
        "#@markdown Accessed at: 07/12/2021\n",
        "\n",
        "from collections import deque\n",
        "from scipy.spatial import distance\n",
        "\n",
        "class AStarAlgorithm:\n",
        "    def __init__(self, adjac_lis=list(), hue=dict()):\n",
        "        self.add_edges(adjac_lis)\n",
        "        self.hue = dict()\n",
        "        self.isHueAvailable = False\n",
        "        self.add_hue(hue)\n",
        "        \n",
        "    def add_edges(self, adjac_lis):\n",
        "        self.adjac_lis = adjac_lis\n",
        " \n",
        "    def get_neighbors(self, v):\n",
        "        return self.adjac_lis[v]\n",
        "\n",
        "    def add_hue(self, hue, target=None):\n",
        "        isKeyIn = [True if v in hue else False for v in self.adjac_lis.keys()]\n",
        "        self.isHueAvailable = True if type(hue) == dict and False not in isKeyIn and target else False\n",
        "        if self.isHueAvailable:\n",
        "            target_pos = hue[target]\n",
        "            for k, v in hue.items():\n",
        "               self.hue[k] = distance.euclidean(v, target_pos)\n",
        "\n",
        "    # This is heuristic function which is having equal values for all nodes\n",
        "    def h(self, n):\n",
        "        return self.hue[n]\n",
        " \n",
        "    def shortest_paths(self, start, stop):\n",
        "        # In this open_lst is a lisy of nodes which have been visited, but who's \n",
        "        # neighbours haven't all been always inspected, It starts off with the start \n",
        "        # node\n",
        "        # And closed_lst is a list of nodes which have been visited\n",
        "        # and who's neighbors have been always inspected\n",
        "        open_lst = set([start])\n",
        "        closed_lst = set([])\n",
        "\n",
        "        # poo has present distances from start to all other nodes\n",
        "        # the default value is +infinity\n",
        "        poo = {}\n",
        "        poo[start] = 0\n",
        "\n",
        "        # par contains an adjacent mapping of all nodes\n",
        "        par = {}\n",
        "        par[start] = start\n",
        " \n",
        "        while len(open_lst) > 0:\n",
        "            n = None\n",
        " \n",
        "            # it will find a node with the lowest value of f() -\n",
        "            for v in open_lst:\n",
        "                hue_val = self.h(n) if self.isHueAvailable and n != None else 0\n",
        "                #print(n, hue_val)\n",
        "                if n == None or poo[v] < poo[n] + hue_val:\n",
        "                    n = v;\n",
        " \n",
        "            if n == None:\n",
        "                print('Path does not exist!')\n",
        "                return None\n",
        " \n",
        "            # if the current node is the stop\n",
        "            # then we start again from start\n",
        "            if n == stop:\n",
        "                reconst_path = []\n",
        " \n",
        "                while par[n] != n:\n",
        "                    reconst_path.append(n)\n",
        "                    n = par[n]\n",
        " \n",
        "                reconst_path.append(start)\n",
        " \n",
        "                reconst_path.reverse()\n",
        " \n",
        "                print('Path found: {}'.format(reconst_path))\n",
        "                return reconst_path\n",
        " \n",
        "            # for all the neighbors of the current node do\n",
        "            try:\n",
        "                #print(n, self.get_neighbors(n))\n",
        "                for (m, weight) in self.get_neighbors(n):\n",
        "                    # if the current node is not presentin both open_lst and closed_lst\n",
        "                    # add it to open_lst and note n as it's par\n",
        "                    if m not in open_lst and m not in closed_lst:\n",
        "                        open_lst.add(m)\n",
        "                        par[m] = n\n",
        "                        poo[m] = poo[n] + weight\n",
        "    \n",
        "                    # otherwise, check if it's quicker to first visit n, then m\n",
        "                    # and if it is, update par data and poo data\n",
        "                    # and if the node was in the closed_lst, move it to open_lst\n",
        "                    else:\n",
        "                        if poo[m] > poo[n] + weight:\n",
        "                            poo[m] = poo[n] + weight\n",
        "                            par[m] = n\n",
        "    \n",
        "                            if m in closed_lst:\n",
        "                                closed_lst.remove(m)\n",
        "                                open_lst.add(m)\n",
        "            except KeyError:\n",
        "                pass\n",
        "            # remove n from the open_lst, and add it to closed_lst\n",
        "            # because all of his neighbors were inspected\n",
        "            # print(poo)\n",
        "            open_lst.remove(n)\n",
        "            closed_lst.add(n)\n",
        " \n",
        "        print('Path does not exist!')\n",
        "        return None\n",
        "\n",
        "    def clear(self):\n",
        "        self.adjac_lis = list()"
      ],
      "execution_count": 24,
      "outputs": []
    },
    {
      "cell_type": "code",
      "source": [
        "#@markdown 👈 **Please, run this cell to instantiate two objects. The first one is an object type DijkstraAlgorithm that takes an argument type `list` in the constructor. \n",
        "#@markdown The second one is an object type AStarAlgorithm that also takes an argument type `dict` in the constructor.** <font color=\"red\">(Important)</font>\n",
        "\n",
        "#@markdown The first object is called `Dijkstra`, and the second one is `AStar`.\n",
        "\n",
        "Dijkstra = DijkstraAlgorithm(df_dist_list)\n",
        "AStar = AStarAlgorithm(df_dist_dict)"
      ],
      "metadata": {
        "cellView": "form",
        "id": "Fia_oS4VDUOr"
      },
      "execution_count": 17,
      "outputs": []
    },
    {
      "cell_type": "markdown",
      "metadata": {
        "id": "5ATu2UsV0FlC"
      },
      "source": [
        "## Creating List of Content for Widgets Components"
      ]
    },
    {
      "cell_type": "code",
      "metadata": {
        "id": "30IMApWy0aH5",
        "cellView": "form"
      },
      "source": [
        "#@markdown 👈 **Please, you must run this cell to create a list of all unique nodes' names to display as content to the Widgets components.** <font color=\"red\">(Important)</font>\n",
        "nodes = pd.concat([df_nodes_dist[dct.sources], df_nodes_dist[dct.targets]]).unique()"
      ],
      "execution_count": 18,
      "outputs": []
    },
    {
      "cell_type": "markdown",
      "metadata": {
        "id": "0xS2b1mQyrcO"
      },
      "source": [
        "## Dijkstra and A-Star Algorithm Performance Comparison\n",
        "<a id=\"section-3\"></a>"
      ]
    },
    {
      "cell_type": "code",
      "metadata": {
        "colab": {
          "base_uri": "https://localhost:8080/",
          "height": 614,
          "referenced_widgets": [
            "eea3a7d870e74cda9f723ce8861fe573",
            "40e2c7afe9374899aee4b6a1a37e70c2",
            "72cebdf6448e4180bdcf9228527ad6d2",
            "2eee9abbc7e64283b5ab1720a2a8defa",
            "453620a5ab3f415fb600b2044d1dac5c",
            "3fb47793d0574cbc8828533f27a502b2",
            "87933628e3424f3d9e7af6ae3b4dd3b0",
            "90364cfdee1b4bc684da3e7111b5704f",
            "26ab4d09464c40de8e517f0b942a4cd7",
            "73c6e664741f4095888a0bd707bb760e",
            "6ee1734742c846b38ad535671c429297",
            "feed6053767145b9b01b78122620a8a4",
            "6767fa3d34654acaad0cc09317f2281f"
          ]
        },
        "id": "x4tx0EXsy4du",
        "outputId": "3e5b46a2-fbb7-429f-ec91-30a6ff287612",
        "cellView": "form"
      },
      "source": [
        "#@markdown 👈 **Please, run this cell to compare Dijkstra and A-Star algorithms. See below components to change the values of the variables for the comparison test.**\n",
        "\n",
        "#@markdown Keep in mind that the results can vary due to machine resources. If you run this test in a local Jupyter Notebook and on Google colab the results will be affected. \n",
        "\n",
        "#@markdown The test will run each algorithm twice and return the average results from it. By default, the source node is the first adjacent in the data frame, and the destination is the last adjacent.\n",
        "\n",
        "#@markdown When you change any variable value the test runs again automatically.\n",
        "\n",
        "dijsktra = DijkstraAlgorithm(df_dist_list)\n",
        "aStar = AStarAlgorithm(df_dist_dict)\n",
        "\n",
        "\n",
        "# Instance a slide widgets component \n",
        "slide_test = widgets.IntSlider(\n",
        "    min=2,\n",
        "    max=100,\n",
        "    description='Repeat Test:',\n",
        "    continuous_update=False,\n",
        "    orientation='horizontal',\n",
        ")\n",
        "\n",
        "# Instance a dropdown box with the nodes' name for the source point\n",
        "from_picker_test = widgets.Dropdown(options=nodes, value=nodes[0], description='From: ')\n",
        "# Instance a dropdown box with the nodes' name for the destination point\n",
        "to_picker_test = widgets.Dropdown(options=nodes, value=nodes[-1], description='To: ')\n",
        "\n",
        "\n",
        "def testUnitDijkstra():\n",
        "    '''\n",
        "    This function will instantiate a class DijkstraAlgorithm and pass a pandas data frame\n",
        "    called df_dist_list. An instance of object DijkstraAlgorithm has a function called\n",
        "    shortest_paths that takes two parameters, widgets.Dropdown and another widgets.Dropdown.\n",
        "    This function doesn\\'t return anything. It is meant for testing unit purposes.\n",
        "    ''' \n",
        "    dijsktra.shortest_paths(from_picker_test.value, to_picker_test.value)\n",
        "\n",
        "\n",
        "def testUnitAStar():\n",
        "    '''\n",
        "    This function will instantiate a class AStarAlgorithm and pass a pandas data frame\n",
        "    called df_dist_list. An instance of object DijkstraAlgorithm has a function called\n",
        "    shortest_paths that takes two parameters, widgets.Dropdown and another widgets.Dropdown.\n",
        "    This function doesn\\'t return anything. It is meant for testing unit purposes.\n",
        "    ''' \n",
        "    aStar.shortest_paths(from_picker_test.value, to_picker_test.value)\n",
        "    \n",
        "\n",
        "@widgets.interact(slide=slide_test, picker1=from_picker_test, picker2=to_picker_test)\n",
        "def render(slide, picker1, picker2):\n",
        "  '''\n",
        "  This function will render widgets components and call internally the functions \n",
        "  testUnitDijkstra, and testUnitAStar. The component slide will determine how\n",
        "  many times those functions should be run. If all the arguments are satisfied\n",
        "  a plot shows the performance of both algorithms.\n",
        "  This function depends on pandas, widgets, timeit, Timer dependencies.\n",
        "\n",
        "          Parameters:\n",
        "                  slide    (widgets.IntSlider): A widgets InSlider object\n",
        "                  picker1  (widgets.Dropdown):  A widgets Dropdown object\n",
        "                  picker2  (widgets.Dropdown):  A widgets Dropdown object\n",
        "  '''\n",
        "\n",
        "  t1 = Timer(\"testUnitDijkstra()\", \"from __main__ import testUnitDijkstra\").timeit(number=1)\n",
        "  t2 = Timer(\"testUnitAStar()\", \"from __main__ import testUnitAStar\").timeit(number=1)\n",
        "\n",
        "  x = np.array(['Dijkstra', 'A-Star']) # Algorithms' names\n",
        "  y = np.array([t1, t2]) # Result of the algorithms in a millisecond\n",
        "\n",
        "  plt.figure(figsize=(8, 7)) # set size of plot\n",
        "  plt.bar(x,y, color=['#4CAF50', '#1f77b4']) # set color of each bar\n",
        "  plt.xlabel('Algorithm', fontsize=14) # set font size for label x-axis \n",
        "  plt.ylabel('Time in milliseconds', fontsize=14) # set font size for label y-axis \n",
        "  plt.title('Performance comparison between Dijkstra and S-Star Algorithm by time\\n', fontsize=16) # Set a simple title to display on top of the graphic.\n",
        "  plt.show() # render graphic."
      ],
      "execution_count": 19,
      "outputs": [
        {
          "output_type": "display_data",
          "data": {
            "application/vnd.jupyter.widget-view+json": {
              "model_id": "eea3a7d870e74cda9f723ce8861fe573",
              "version_minor": 0,
              "version_major": 2
            },
            "text/plain": [
              "interactive(children=(IntSlider(value=2, continuous_update=False, description='Repeat Test:', min=2), Dropdown…"
            ]
          },
          "metadata": {}
        }
      ]
    },
    {
      "cell_type": "markdown",
      "source": [
        "## Displaying the Shortest Path From Source To Destination."
      ],
      "metadata": {
        "id": "RH0GoYcRdfGa"
      }
    },
    {
      "cell_type": "code",
      "metadata": {
        "id": "TFX4sDufOWie",
        "cellView": "form"
      },
      "source": [
        "#@markdown 👈 **Please, run this cell to prepare the graph. It will help to optimze performance since this code has to run only one time. You might have to run it again if you change your data set.** <font color=\"red\">(Important)</font>\n",
        "\n",
        "#@markdown *   Set a label for all nodes, and values for the edges in the graph.\n",
        "#@markdown *   Add each node position in the graph.\n",
        "\n",
        "graph = nx.from_pandas_edgelist(df_nodes_dist, source=dct.sources, target=dct.targets, edge_attr=dct.distances)\n",
        "\n",
        "pos = nx.get_node_attributes(graph, 'pos')\n",
        "\n",
        "graph.add_nodes_from(pos.keys())\n",
        "\n",
        "for row in df_nodes_loc.itertuples():\n",
        "    graph.nodes[row.nodes]['pos'] = (row.x, row.y)\n",
        "\n",
        "pos = nx.get_node_attributes(graph, 'pos')\n",
        "labels = nx.get_edge_attributes(graph, dct.distances)\n"
      ],
      "execution_count": 20,
      "outputs": []
    },
    {
      "cell_type": "code",
      "metadata": {
        "colab": {
          "base_uri": "https://localhost:8080/",
          "height": 798,
          "referenced_widgets": [
            "2e50f5b58d474e0680cdcfd25f59e72b",
            "056c19a363c64a018c89b04f433915cd",
            "d9503de3373a4c70aaea8a5f8d69df8f",
            "53bb62b8f3964178b7079a0ae8f408cb",
            "8b63abd1cb7d4b499ebba6bd0fae79c3",
            "79ccd9ececad474b82bb48d7bbe78fb9",
            "610fa38402c24d878bb4c74f73730bf0",
            "0621f59de21546cea820286c67f36956",
            "7da85a4246084285a9949858b2cee90b",
            "aa75d076562f439f84406ad03c7002df",
            "3dac5067b834411ca182692fb365b30a",
            "89fc517c738d42ac9e6402ac55264ecb",
            "bff34ae68b1e42dd8c50127dfa4ebd1d"
          ]
        },
        "id": "2rPK5xiARnP9",
        "outputId": "49a33092-7341-42cf-bec3-dbe60d4dbe70",
        "cellView": "form"
      },
      "source": [
        "#@markdown 👈 Please, run this cell to find the shortest path and plot a graph of the data set. See below a control panel to switch between algorithms, choose a new departure (source), and a new destination (target). When you select a new configuration you will not have to run this cell again. The result should be displayed automatically.\n",
        "\n",
        "Algorithm = ['Dijsktra', 'A-Star']\n",
        "shortestPath = []\n",
        "\n",
        "algorithm_toggle = widgets.ToggleButtons(\n",
        "    options=Algorithm,\n",
        "    description='Algorithm:',\n",
        "    button_style='success',\n",
        ")\n",
        "\n",
        "from_picker = widgets.Dropdown(options=nodes, value=nodes[0], description='From: ')\n",
        "to_picker = widgets.Dropdown(options=nodes, value=nodes[-1], description='To: ')\n",
        "\n",
        "\n",
        "@widgets.interact(toggle=algorithm_toggle, picker1=from_picker, picker2=to_picker)\n",
        "def render(toggle, picker1, picker2):\n",
        "    #print(toggle, picker1, picker2)\n",
        "\n",
        "    if toggle == \"Dijsktra\":\n",
        "        shortestPath = Dijkstra.shortest_paths(picker1, picker2)\n",
        "    else:\n",
        "        #AStar.add_hue(df_nodes_loc, picker2)\n",
        "        shortestPath = AStar.shortest_paths(picker1, picker2)\n",
        "\n",
        "    painted_edge = []\n",
        "    index = len(shortestPath)-1\n",
        "    while index > 0:\n",
        "       painted_edge.append((shortestPath[index], shortestPath[index-1]))\n",
        "       index -= 1\n",
        "\n",
        "    plt.figure(3, figsize=(18,12))\n",
        "\n",
        "    nx.draw_networkx_edge_labels(graph, pos, edge_labels=labels, font_size=12)\n",
        "    options = {\"node_color\":\"skyblue\", \"node_size\": 800}\n",
        "\n",
        "    nx.draw_networkx_nodes(graph, pos, **options)\n",
        "    nx.draw_networkx_nodes(graph, pos, nodelist=shortestPath, node_color=\"tab:red\", node_size=800, alpha=0.3)\n",
        "\n",
        "    nx.draw_networkx_edges(graph, pos, edgelist=painted_edge, width=5, alpha=0.5, edge_color='tab:red')\n",
        "\n",
        "    nx.draw(graph, pos, with_labels=True, font_size=15)\n",
        "    plt.show()"
      ],
      "execution_count": 21,
      "outputs": [
        {
          "output_type": "display_data",
          "data": {
            "application/vnd.jupyter.widget-view+json": {
              "model_id": "2e50f5b58d474e0680cdcfd25f59e72b",
              "version_minor": 0,
              "version_major": 2
            },
            "text/plain": [
              "interactive(children=(ToggleButtons(button_style='success', description='Algorithm:', options=('Dijsktra', 'A-…"
            ]
          },
          "metadata": {}
        }
      ]
    },
    {
      "cell_type": "markdown",
      "metadata": {
        "id": "-9XOc8-DErPU"
      },
      "source": [
        "# References"
      ]
    },
    {
      "cell_type": "markdown",
      "metadata": {
        "id": "AFjBBWxPj8fN"
      },
      "source": [
        "<p>\n",
        "Ben Alex Keen, 2017, <i>Implementing Djikstra's Shortest Path Algorithm With Python<i>. [Online]</br>\n",
        "Available at: <a href=\"https://benalexkeen.com/implementing-djikstras-shortest-path-algorithm-with-python/\">https://benalexkeen.com/implementing-djikstras-shortest-path-algorithm-with-python/</a></br>\n",
        "[Accessed Dec 7 2021].\n",
        "</p>\n",
        "</br>\n",
        "<p>\n",
        "Blog.pythonlibrary, 2021, <i>Creating Jupyter Notebook Widgets with interact<i>. [Online]</br>\n",
        "Available at: <a href=\"https://www.blog.pythonlibrary.org/2018/10/23/creating-jupyter-notebook-widgets-with-interact/\">https://www.blog.pythonlibrary.org/2018/10/23/creating-jupyter-notebook-widgets-with-interact/</a></br>\n",
        "[Accessed Dec 7 2021].\n",
        "</p>\n",
        "</br>\n",
        "<p>\n",
        "Computer Science, 2017, <i>Graph Data Structure 6. The A* Pathfinding Algorithm<i>. [Online]</br>\n",
        "Available at: <a href=\"https://youtu.be/eSOJ3ARN5FM\">https://youtu.be/eSOJ3ARN5FM</a></br>\n",
        "[Accessed Dec 8 2021].\n",
        "</p>\n",
        "</br>\n",
        "<p>\n",
        "Computerphile, 2017, <i>A* (A Star) Search Algorithm - Computerphile<i>. [Online]</br>\n",
        "Available at: <a href=\"https://youtu.be/ySN5Wnu88nE\">https://youtu.be/ySN5Wnu88nE</a></br>\n",
        "[Accessed Dec 7 2021].\n",
        "</p>\n",
        "</br>\n",
        "<p>\n",
        "Computerphile, 2017, <i>Dijkstra's Algorithm - Computerphile<i>. [Online]</br>\n",
        "Available at: <a href=\"https://youtu.be/GazC3A4OQTE\">https://youtu.be/GazC3A4OQTE</a></br>\n",
        "[Accessed Dec 8 2021].\n",
        "</p>\n",
        "</br>\n",
        "<p>\n",
        "FreeCodeCamp, 2018, <i>How to think in graphs: An illustrative introduction to Graph Theory and its applications<i>. [Online]</br>\n",
        "Available at: <a href=\"https://www.freecodecamp.org/news/i-dont-understand-graph-theory-1c96572a1401/\">https://www.freecodecamp.org/news/i-dont-understand-graph-theory-1c96572a1401/</a></br>\n",
        "[Accessed Dec 8 2021].\n",
        "</p>\n",
        "</br>\n",
        "<p>\n",
        "Geeksforgeeks, 2021, <i>Pandas – Find unique values from multiple columns<i>. [Online]</br>\n",
        "Available at: <a href=\"https://www.geeksforgeeks.org/pandas-find-unique-values-from-multiple-columns/\">https://www.geeksforgeeks.org/pandas-find-unique-values-from-multiple-columns/</a></br>\n",
        "[Accessed Dec 7 2021].\n",
        "</p>\n",
        "</br>\n",
        "<p>\n",
        "Geeksforgeeks, 2019, <i>Difference between graph and tree<i>. [Online]</br>\n",
        "Available at: <a href=\"https://www.geeksforgeeks.org/difference-between-graph-and-tree/\">https://www.geeksforgeeks.org/difference-between-graph-and-tree/</a></br>\n",
        "[Accessed Dec 8 2021].\n",
        "</p>\n",
        "</br>\n",
        "<p>\n",
        "Ipywidgets.readthedocs.io, 2021, <i>Widget List<i>. [Online]</br>\n",
        "Available at: <a href=\"https://ipywidgets.readthedocs.io/en/latest/examples/Widget%20List.html#Color-picker\">https://ipywidgets.readthedocs.io/en/latest/examples/Widget%20List.html#Color-picker</a></br>\n",
        "[Accessed Dec 7 2021].\n",
        "</p>\n",
        "</br>\n",
        "<p>\n",
        "Oracle's Spatial and Graph Technologies, 2021, <i>The Benefits of Visualizing Graphs<i>. [Online]</br>\n",
        "Available at: <a href=\"https://youtu.be/Ga8XQ57rTd4\">https://youtu.be/Ga8XQ57rTd4</a></br>\n",
        "[Accessed Dec 8 2021].\n",
        "</p>\n",
        "</br>\n",
        "<p>\n",
        "Pythonpool, 2020, <i>The Insider’s Guide to A* Algorithm in Python<i>. [Online]</br>\n",
        "Available at: <a href=\"https://www.pythonpool.com/a-star-algorithm-python/\">https://www.pythonpool.com/a-star-algorithm-python/</a></br>\n",
        "[Accessed Dec 7 2021].\n",
        "</p>\n",
        "</br>\n",
        "<p>\n",
        "Spanning Tree, 2020, <i>How Dijkstra's Algorithm Works<i>. [Online]</br>\n",
        "Available at: <a href=\"https://youtu.be/EFg3u_E6eHU\">https://youtu.be/EFg3u_E6eHU</a></br>\n",
        "[Accessed Dec 8 2021].\n",
        "</p>\n",
        "</br>\n",
        "<p>\n",
        "Stackoverflow, 2010, <i>how to measure running time of algorithms in python [duplicate]<i>. [Online]</br>\n",
        "Available at: <a href=\"https://stackoverflow.com/questions/2662140/how-to-measure-running-time-of-algorithms-in-python\">https://stackoverflow.com/questions/2662140/how-to-measure-running-time-of-algorithms-in-python</a></br>\n",
        "[Accessed Dec 7 2021].\n",
        "</p>\n",
        "</br>\n",
        "<p>\n",
        "Stackoverflow, 2020, <i>Resize the image in jupyter notebook using markdown<i>. [Online]</br>\n",
        "Available at: <a href=\"https://stackoverflow.com/questions/41598916/resize-the-image-in-jupyter-notebook-using-markdown\">https://stackoverflow.com/questions/41598916/resize-the-image-in-jupyter-notebook-using-markdown</a></br>\n",
        "[Accessed Dec 7 2021].\n",
        "</p>\n",
        "</br>\n",
        "<p>\n",
        "Stackoverflow, 2020, <i>How to display the images side by side in jupyter notebook<i>. [Online]</br>\n",
        "Available at: <a href=\"https://stackoverflow.com/questions/51315566/how-to-display-the-images-side-by-side-in-jupyter-notebook\">https://stackoverflow.com/questions/51315566/how-to-display-the-images-side-by-side-in-jupyter-notebook</a></br>\n",
        "[Accessed Dec 7 2021].\n",
        "</p>\n",
        "</br>\n",
        "<p>\n",
        "Therenegadecoder, 2020, <i>How to Performance Test Python Code: timeit, cProfile, and More<i>. [Online]</br>\n",
        "Available at: <a href=\"https://therenegadecoder.com/code/how-to-performance-test-python-code/\">https://therenegadecoder.com/code/how-to-performance-test-python-code/</a></br>\n",
        "[Accessed Dec 7 2021].\n",
        "</p>\n",
        "\n"
      ]
    }
  ]
}