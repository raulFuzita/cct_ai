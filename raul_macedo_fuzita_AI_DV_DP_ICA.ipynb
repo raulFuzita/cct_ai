{
  "nbformat": 4,
  "nbformat_minor": 0,
  "metadata": {
    "colab": {
      "name": "raul_macedo_fuzita_AI_DV_DP_ICA.ipynb",
      "provenance": [],
      "collapsed_sections": [],
      "authorship_tag": "ABX9TyOwG+eCqfGavjUeS8HFupF5",
      "include_colab_link": true
    },
    "kernelspec": {
      "name": "python3",
      "display_name": "Python 3"
    },
    "language_info": {
      "name": "python"
    }
  },
  "cells": [
    {
      "cell_type": "markdown",
      "metadata": {
        "id": "view-in-github",
        "colab_type": "text"
      },
      "source": [
        "<a href=\"https://colab.research.google.com/github/raulFuzita/cct_ai/blob/CA3/raul_macedo_fuzita_AI_DV_DP_ICA.ipynb\" target=\"_parent\"><img src=\"https://colab.research.google.com/assets/colab-badge.svg\" alt=\"Open In Colab\"/></a>"
      ]
    },
    {
      "cell_type": "code",
      "source": [
        "#@title Import Necessary Resources\n",
        "\n",
        "\n",
        "import pandas as pd\n",
        "import numpy as np\n",
        "\n",
        "df_fire_officers = pd.read_csv(\"https://raw.githubusercontent.com/raulFuzita/cct_ai/CA3/fire_station.csv\")\n",
        "df_rooms = pd.read_csv(\"https://raw.githubusercontent.com/raulFuzita/cct_ai/CA3/rooms_location.csv\")\n",
        "\n",
        "df_fire_officers.columns = df_fire_officers.columns.str.lower()\n",
        "df_rooms.columns = df_rooms.columns.str.lower()"
      ],
      "metadata": {
        "id": "y6V-rHuwxhLk",
        "cellView": "form"
      },
      "execution_count": 151,
      "outputs": []
    },
    {
      "cell_type": "code",
      "source": [
        "#@title Constraint Satisfaction Problem (CSP)\n",
        "\n",
        "# csp.py\n",
        "# From Classic Computer Science Problems in Python Chapter 3\n",
        "# Copyright 2018 David Kopec\n",
        "#\n",
        "# Licensed under the Apache License, Version 2.0 (the \"License\");\n",
        "# you may not use this file except in compliance with the License.\n",
        "# You may obtain a copy of the License at\n",
        "#\n",
        "# http://www.apache.org/licenses/LICENSE-2.0\n",
        "#\n",
        "# Unless required by applicable law or agreed to in writing, software\n",
        "# distributed under the License is distributed on an \"AS IS\" BASIS,\n",
        "# WITHOUT WARRANTIES OR CONDITIONS OF ANY KIND, either express or implied.\n",
        "# See the License for the specific language governing permissions and\n",
        "# limitations under the License.\n",
        "from typing import Generic, TypeVar, Dict, List, Optional\n",
        "from abc import ABC, abstractmethod\n",
        "\n",
        "V = TypeVar('V') # variable type\n",
        "D = TypeVar('D') # domain type\n",
        "\n",
        "\n",
        "# Base class for all constraints\n",
        "class Constraint(Generic[V, D], ABC):\n",
        "    # The variables that the constraint is between\n",
        "    def __init__(self, variables: List[V]) -> None:\n",
        "        self.variables = variables\n",
        "\n",
        "    # Must be overridden by subclasses\n",
        "    @abstractmethod\n",
        "    def satisfied(self, assignment: Dict[V, D]) -> bool:\n",
        "        ...\n",
        "\n",
        "\n",
        "# A constraint satisfaction problem consists of variables of type V\n",
        "# that have ranges of values known as domains of type D and constraints\n",
        "# that determine whether a particular variable's domain selection is valid\n",
        "class CSP(Generic[V, D]):\n",
        "    def __init__(self, variables: List[V], domains: Dict[V, List[D]]) -> None:\n",
        "        self.variables: List[V] = variables # variables to be constrained\n",
        "        self.domains: Dict[V, List[D]] = domains # domain of each variable\n",
        "        self.constraints: Dict[V, List[Constraint[V, D]]] = {}\n",
        "        for variable in self.variables:\n",
        "            self.constraints[variable] = []\n",
        "            if variable not in self.domains:\n",
        "                raise LookupError(\"Every variable should have a domain assigned to it.\")\n",
        "\n",
        "    def add_constraint(self, constraint: Constraint[V, D]) -> None:\n",
        "        for variable in constraint.variables:\n",
        "            if variable not in self.variables:\n",
        "                raise LookupError(\"Variable in constraint not in CSP\")\n",
        "            else:\n",
        "                self.constraints[variable].append(constraint)\n",
        "\n",
        "    # Check if the value assignment is consistent by checking all constraints\n",
        "    # for the given variable against it\n",
        "    def consistent(self, variable: V, assignment: Dict[V, D]) -> bool:\n",
        "        for constraint in self.constraints[variable]:\n",
        "            if not constraint.satisfied(assignment):\n",
        "                return False\n",
        "        return True\n",
        "\n",
        "    def backtracking_search(self, assignment: Dict[V, D] = {}) -> Optional[Dict[V, D]]:\n",
        "        # assignment is complete if every variable is assigned (our base case)\n",
        "        if len(assignment) == len(self.variables):\n",
        "            return assignment\n",
        "\n",
        "        # get all variables in the CSP but not in the assignment\n",
        "        unassigned: List[V] = [v for v in self.variables if v not in assignment]\n",
        "\n",
        "        # get the every possible domain value of the first unassigned variable\n",
        "        first: V = unassigned[0]\n",
        "        for value in self.domains[first]:\n",
        "            local_assignment = assignment.copy()\n",
        "            local_assignment[first] = value\n",
        "            # if we're still consistent, we recurse (continue)\n",
        "            if self.consistent(first, local_assignment):\n",
        "                result: Optional[Dict[V, D]] = self.backtracking_search(local_assignment)\n",
        "                # if we didn't find the result, we will end up backtracking\n",
        "                if result is not None:\n",
        "                    return result\n",
        "        return None"
      ],
      "metadata": {
        "id": "ua-qO78QyII9",
        "cellView": "form"
      },
      "execution_count": 152,
      "outputs": []
    },
    {
      "cell_type": "code",
      "source": [
        "#@title Conversor from DataFrame into Constraint Dictionary\n",
        "\n",
        "\n",
        "def split(col):\n",
        "    if type(col) == str and ';' in col:\n",
        "        return [item.strip() for item in col.split(';')]  \n",
        "    else: \n",
        "        return [col] if col != None else col\n",
        "\n",
        "def df_to_constraintdict(df):\n",
        "    df = df.where(df.notnull(), None)\n",
        "    tmp_dict = dict()\n",
        "    for index, row in df.iterrows():\n",
        "\n",
        "        tmp_dict[row['officers']] = {\n",
        "            'yes': split(row['yes']),\n",
        "            'no': split(row['no']),\n",
        "            'office': row['office'],\n",
        "            'no_office_adjacent': split(row['no_office_adjacent']),\n",
        "        }\n",
        "    return tmp_dict"
      ],
      "metadata": {
        "id": "DYfO9K5GtShl",
        "cellView": "form"
      },
      "execution_count": 153,
      "outputs": []
    },
    {
      "cell_type": "code",
      "source": [
        "import matplotlib.patches as mpatches\n",
        "import matplotlib.pyplot as plt\n",
        "\n",
        "class RoomsGraph:\n",
        "\n",
        "    def __init__(self, rooms: dict=dict(), components: dict=dict(), figsize: tuple=(12, 8)) -> None:\n",
        "        self.colors = []\n",
        "        self.plt = plt\n",
        "        self.plt.rcParams[\"figure.figsize\"]=figsize\n",
        "        fig, ax = self.plt.subplots()\n",
        "        self.fig = fig\n",
        "        self.ax = ax\n",
        "        self.setGrid(True)\n",
        "        self.addRooms(rooms)\n",
        "        self.addComponents(components)\n",
        "        self.setComponentSize(14)\n",
        "        self.setTite('Rooms\\n')\n",
        "\n",
        "    def _RGBdecToPerc(self, r, g=0, b=0, a=None, output=None) -> tuple or list: \n",
        "        if r > 255: r = 255\n",
        "        if g > 255: g = 255\n",
        "        if b > 255: b = 255\n",
        "        perc = (round(r/255,2),round(g/255,2),round(b/255,2))\n",
        "        if a != None: perc = perc + (a if a <= 1 else 1,)\n",
        "        if output==list: return list(perc)\n",
        "        else: return perc\n",
        "\n",
        "    def _color(self, room: int) -> tuple:\n",
        "        op = room % 4\n",
        "        room *= 5\n",
        "        ch = room if room <= 255 else room % 255\n",
        "        if op == 1: return self._RGBdecToPerc(31+ch, 119+ch, 180+ch) # blue\n",
        "        if op == 2: return self._RGBdecToPerc(255+ch, 127+ch, 14+ch) # orange\n",
        "        if op == 3: return self._RGBdecToPerc(44+ch, 160+ch, 44+ch)  # green\n",
        "        if op == 0: return self._RGBdecToPerc(214+ch, 39+ch, 40+ch)  # red\n",
        "\n",
        "    def setGrid(self, flag: bool):\n",
        "        self.ax.grid(flag)\n",
        "        return self\n",
        "\n",
        "    def setTite(self, title: str, fontsize: int=20):\n",
        "        self.ax.set_title(title, fontsize=fontsize)\n",
        "        return self\n",
        "\n",
        "    def setXLabel(self, label: str, labelsize: int=20):\n",
        "        self.plt.rc('axes', labelsize=labelsize)\n",
        "        self.ax.set_xlabel(label)\n",
        "        return self\n",
        "\n",
        "    def setYLabel(self, label: str, labelsize: int=20):\n",
        "        self.plt.rc('axes', labelsize=labelsize)\n",
        "        self.ax.set_ylabel(label)\n",
        "        return self\n",
        "\n",
        "    def addRooms(self, rooms: dict):\n",
        "        self.rooms = rooms\n",
        "        for room in rooms:\n",
        "            self.colors.append(self._color(room))\n",
        "        return self\n",
        "\n",
        "    def addComponents(self, components: dict):\n",
        "        self.components = components\n",
        "        return self\n",
        "\n",
        "    def setComponentSize(self, fontsize: int):\n",
        "        self.compSize = fontsize\n",
        "        return self\n",
        "\n",
        "    def _yieldComponents(self) -> None:\n",
        "        roomfreq = dict()\n",
        "        for i in self.components:\n",
        "            num = self.components[i]\n",
        "            roomfreq[num] = roomfreq[num]+1 if num in roomfreq else 1\n",
        "            x = (self.rooms[num]['x']+5)\n",
        "            y = (self.rooms[num]['y']+self.rooms[num]['height'])\n",
        "            y -= (roomfreq[num] * 6)\n",
        "            self.ax.annotate(i, (x, y), fontsize=self.compSize)\n",
        "\n",
        "    def _yieldRooms(self) -> None:\n",
        "        count = 0\n",
        "        for i in self.rooms:\n",
        "            room = self.rooms[i]\n",
        "            self.ax.broken_barh(\n",
        "                [(room['x'], room['width'])], \n",
        "                (room['y'], room['height']), \n",
        "                facecolors=self.colors[count])\n",
        "            count+=1\n",
        "\n",
        "    def _yieldLegend(self) -> None:\n",
        "        legends = list()\n",
        "        for i in range(len(self.rooms)):\n",
        "            legends.append(mpatches.Patch(color=self.colors[i], label=(i+1)))\n",
        "        plt.legend(handles=legends)\n",
        "\n",
        "    def show(self) -> None:\n",
        "        self._yieldRooms()\n",
        "        self._yieldLegend()\n",
        "        self._yieldComponents()\n",
        "        self.plt.show()"
      ],
      "metadata": {
        "id": "k3vDvN0M7EHT"
      },
      "execution_count": 457,
      "outputs": []
    },
    {
      "cell_type": "code",
      "source": [
        "from typing import Dict, List, Optional\n",
        "\n",
        "class FireStation(Constraint[str, int]):\n",
        "    def __init__(self, officer: str, officers: List[str], constraints: Dict[str, object]) -> None:\n",
        "        super().__init__(officers)\n",
        "        self.officer = officer\n",
        "        self.officers: List[str] = officers\n",
        "        self.constraints: Dict[str, object] = constraints\n",
        "\n",
        "    def validate(self, assignment: Dict[int, str]) -> bool:\n",
        "        for i in self.constraints:\n",
        "            constraint = self.constraints[self.officer]\n",
        "            notwork = constraint['no']\n",
        "            work = constraint['yes']\n",
        "            mustbeat = constraint['office']\n",
        "            noadjoffice = constraint['no_office_adjacent']\n",
        "            if notwork != None:\n",
        "                for j in notwork:\n",
        "                    if self.officer in assignment and j in assignment:\n",
        "                        if assignment[self.officer] == assignment[j]:\n",
        "                            return False\n",
        "            if work != None:\n",
        "                for j in work:\n",
        "                    if self.officer in assignment and j in assignment:\n",
        "                        if assignment[self.officer] != assignment[j]:\n",
        "                            return False\n",
        "            if mustbeat != None:\n",
        "                if self.officer in assignment: \n",
        "                    if assignment[self.officer] != mustbeat:\n",
        "                        return False\n",
        "            if noadjoffice != None:\n",
        "                for j in noadjoffice:\n",
        "                    if self.officer in assignment and j in assignment:\n",
        "                        diff = assignment[self.officer] - assignment[j]\n",
        "                        if diff >= -1 and diff <= 1:\n",
        "                            return False\n",
        "        return True\n",
        "\n",
        "    def satisfied(self, assignment: Dict[int, str]) -> bool:\n",
        "        return self.validate(assignment)"
      ],
      "metadata": {
        "id": "_ti6Lh1wzbZd"
      },
      "execution_count": 425,
      "outputs": []
    },
    {
      "cell_type": "code",
      "source": [
        "constraints = df_to_constraintdict(df_fire_officers)\n",
        "rooms = df_rooms.set_index('rooms').T.to_dict()"
      ],
      "metadata": {
        "id": "0dps1BDtwzzp"
      },
      "execution_count": 442,
      "outputs": []
    },
    {
      "cell_type": "code",
      "source": [
        "if __name__ == \"__main__\":\n",
        "    variables: List[str] = list(constraints.keys())\n",
        "    domains: Dict[str, List[int]] = {}\n",
        "    for variable in variables:\n",
        "        domains[variable] = list(rooms) \n",
        "\n",
        "    csp: CSP[str, int] = CSP(variables, domains)\n",
        "    for variable in list(constraints.keys()):\n",
        "        csp.add_constraint(FireStation(variable, variables, constraints))\n",
        "    solution: Optional[Dict[str, int]] = csp.backtracking_search()\n",
        "\n",
        "    print(\"No solution found!\")  if solution is None else print(solution)"
      ],
      "metadata": {
        "colab": {
          "base_uri": "https://localhost:8080/"
        },
        "id": "mU9qbsfNtP8J",
        "outputId": "71f78e7f-6a3a-42cf-a0ef-32e9fcd73e2d"
      },
      "execution_count": 389,
      "outputs": [
        {
          "output_type": "stream",
          "name": "stdout",
          "text": [
            "{'Phylis': 1, 'Ann': 4, 'Henry': 2, 'Eva': 2, 'Bill': 3, 'Mark': 1, 'Bob': 1}\n"
          ]
        }
      ]
    },
    {
      "cell_type": "code",
      "source": [
        "rooms2 = {1: {'height': 50, 'width': 75, 'x': 15, 'y': 100},\n",
        "          2: {'height': 50, 'width': 50, 'x': 75, 'y': 100},\n",
        "          3: {'height': 125, 'width': 45, 'x': 125, 'y': 25},\n",
        "          4: {'height': 50, 'width': 45, 'x': 170, 'y': 25},\n",
        "          5: {'height': 50, 'width': 60, 'x': 15, 'y': 150},\n",
        "          6: {'height': 50, 'width': 60, 'x': 15, 'y': 200},}"
      ],
      "metadata": {
        "id": "m2pH0pGWEs1J"
      },
      "execution_count": 444,
      "outputs": []
    },
    {
      "cell_type": "code",
      "source": [
        "if solution is not None:\n",
        "    rg = RoomsGraph(rooms)\n",
        "    rg.setTite('Fire Station').setGrid(True).addComponents(solution)\n",
        "    rg.show()\n",
        "else:\n",
        "    print(\"No solution found!\")"
      ],
      "metadata": {
        "colab": {
          "base_uri": "https://localhost:8080/",
          "height": 504
        },
        "id": "vzGVELOZEuCW",
        "outputId": "abb4eed7-ddfd-4679-c517-cf9a98d52196"
      },
      "execution_count": 459,
      "outputs": [
        {
          "output_type": "display_data",
          "data": {
            "image/png": "[encoded data removed]",
            "text/plain": [
              "<Figure size 864x576 with 1 Axes>"
            ]
          },
          "metadata": {
            "needs_background": "light"
          }
        }
      ]
    },
    {
      "cell_type": "code",
      "source": [
        "# {'Phylis': 1, 'Ann': 4, 'Henry': 2, 'Eva': 2, 'Bill': 3, 'Mark': 1, 'Bob': 1}"
      ],
      "metadata": {
        "id": "f0sRLSgqLPNs"
      },
      "execution_count": 406,
      "outputs": []
    }
  ]
}