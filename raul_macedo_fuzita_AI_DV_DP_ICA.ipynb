{
  "nbformat": 4,
  "nbformat_minor": 0,
  "metadata": {
    "colab": {
      "name": "raul_macedo_fuzita_AI_DV_DP_ICA.ipynb",
      "provenance": [],
      "collapsed_sections": [],
      "authorship_tag": "ABX9TyPJZ2ojPbYQYio69s85JzCY",
      "include_colab_link": true
    },
    "kernelspec": {
      "name": "python3",
      "display_name": "Python 3"
    },
    "language_info": {
      "name": "python"
    },
    "widgets": {
      "application/vnd.jupyter.widget-state+json": {
        "1a2f718d7e904de0adb257fb77940407": {
          "model_module": "@jupyter-widgets/controls",
          "model_name": "VBoxModel",
          "model_module_version": "1.5.0",
          "state": {
            "_view_name": "VBoxView",
            "_dom_classes": [
              "widget-interact"
            ],
            "_model_name": "VBoxModel",
            "_view_module": "@jupyter-widgets/controls",
            "_model_module_version": "1.5.0",
            "_view_count": null,
            "_view_module_version": "1.5.0",
            "box_style": "",
            "layout": "IPY_MODEL_c366329664554f9387245284519b608b",
            "_model_module": "@jupyter-widgets/controls",
            "children": [
              "IPY_MODEL_cf8d5d9f3c8b4fd591f271df8ed9ceea",
              "IPY_MODEL_e4898233f6394466a050f05d581e671d"
            ]
          }
        },
        "c366329664554f9387245284519b608b": {
          "model_module": "@jupyter-widgets/base",
          "model_name": "LayoutModel",
          "model_module_version": "1.2.0",
          "state": {
            "_view_name": "LayoutView",
            "grid_template_rows": null,
            "right": null,
            "justify_content": null,
            "_view_module": "@jupyter-widgets/base",
            "overflow": null,
            "_model_module_version": "1.2.0",
            "_view_count": null,
            "flex_flow": null,
            "width": null,
            "min_width": null,
            "border": null,
            "align_items": null,
            "bottom": null,
            "_model_module": "@jupyter-widgets/base",
            "top": null,
            "grid_column": null,
            "overflow_y": null,
            "overflow_x": null,
            "grid_auto_flow": null,
            "grid_area": null,
            "grid_template_columns": null,
            "flex": null,
            "_model_name": "LayoutModel",
            "justify_items": null,
            "grid_row": null,
            "max_height": null,
            "align_content": null,
            "visibility": null,
            "align_self": null,
            "height": null,
            "min_height": null,
            "padding": null,
            "grid_auto_rows": null,
            "grid_gap": null,
            "max_width": null,
            "order": null,
            "_view_module_version": "1.2.0",
            "grid_template_areas": null,
            "object_position": null,
            "object_fit": null,
            "grid_auto_columns": null,
            "margin": null,
            "display": null,
            "left": null
          }
        },
        "cf8d5d9f3c8b4fd591f271df8ed9ceea": {
          "model_module": "@jupyter-widgets/controls",
          "model_name": "CheckboxModel",
          "model_module_version": "1.5.0",
          "state": {
            "_view_name": "CheckboxView",
            "style": "IPY_MODEL_a2d6f88f67d5415e93fdb1f6606e9c3d",
            "_dom_classes": [],
            "description": "Grid",
            "_model_name": "CheckboxModel",
            "_view_module": "@jupyter-widgets/controls",
            "_model_module_version": "1.5.0",
            "value": true,
            "_view_count": null,
            "disabled": false,
            "_view_module_version": "1.5.0",
            "indent": true,
            "description_tooltip": null,
            "_model_module": "@jupyter-widgets/controls",
            "layout": "IPY_MODEL_806ff37e8599440fb66567fb34a873b7"
          }
        },
        "e4898233f6394466a050f05d581e671d": {
          "model_module": "@jupyter-widgets/output",
          "model_name": "OutputModel",
          "model_module_version": "1.0.0",
          "state": {
            "_view_name": "OutputView",
            "msg_id": "",
            "_dom_classes": [],
            "_model_name": "OutputModel",
            "outputs": [
              {
                "output_type": "display_data",
                "data": {
                  "image/png": "iVBORw0KGgoAAAANSUhEUgAAAs8AAAHnCAYAAABHZbBxAAAABHNCSVQICAgIfAhkiAAAAAlwSFlzAAALEgAACxIB0t1+/AAAADh0RVh0U29mdHdhcmUAbWF0cGxvdGxpYiB2ZXJzaW9uMy4yLjIsIGh0dHA6Ly9tYXRwbG90bGliLm9yZy+WH4yJAAAgAElEQVR4nO3deXyddZn//9eVrUmbLnQLpaW0QFkqyFZBBsQUlE0EBEUcKCD8ZBzRgdEvrig6Di4wLjg6ShUGLEh13EAUxgpUKLLv+1ChlJYudG9o02b5/P44pyVtk/Y+OWlO0ryej0cfJ+dzb9e5enLyzp3PuU+klJAkSZK0bWWlLkCSJEnqLQzPkiRJUkaGZ0mSJCkjw7MkSZKUkeFZkiRJysjwLEmSJGVkeJbU50XEuIhIEXF9qWvpqeyRJOUYniXt0PKBb2v/zit1jRtExIci4o6IWBwRTRGxNCKei4gbI+Lczdatz9f/1S48foqImV21P0naEVWUugBJ6iZf62D8CWA+sC+wsvvK2VRETAU+BqwF/gi8AgSwD/B+oB64oVT10QN6JEk9geFZUp+QUvrqNlZ5oTvqaE9EHEkuOM8DDk8pzdtseSW58FwyKaUmStgjSeopnLYhqc/raD5vRFyfH989Ij4VEU9FxNq2UxsiYmhEfDMins8vWxkRd0bEsQWU8A/5299sHpwhF1xTSjPa1gXcnb97+WbTUOrz6wyOiEsj4q6ImBcR6yPijYi4NSIO3+xxnhcRKX/33Zvt76tb61F+2aiI+FFEzGlznN9GxCHtrHvehukyETE5ImZGxOqIWBURf4yIfQvomyR1O888S9K2XQ28i9x0ij8BLQARsRswExgH3AvcAQwATgLuiIh/Sin9NMP+l+ZvJ2Ss5/f523OBv+Zr2GBO/nZf4Argnnzdy4GxwMnACRHx/pTSHfl1nyA3reVy4FXg+jb7a7vvLUTEeGAWsAtwF3AzsCvwIeB9EXF6Sum2djY9CTgFuB34CTAROBF4R0RMTCkt2dpxJalUDM+S+oQO3lg3J6V0fYbNDwYOSim9stn4DcBuwEdSStPbHGsIudD5g4i4NaW0aBv7v4PcXOITI+JWYDrwMDA7pZQ2Xzml9PuIWEEuPM/sYErK88Aum4fQiBgDPAR8L39cUkpPAE9ExOXketLe/jryE3LB+bKU0hVtjvNf5IL7DRGxW0qpYbPtTgWOSynd2WabbwKfB84HriygBknqNk7bkNRXXN7Ov/Mybnvl5sE5Ig4A3k1uqsX0tstSSivy+68GTt/WzlNK84EPAH8n9+bAm4D/A1bmr75xdkSUZ6x1wz5Xtnf2Nj8t5NfAPhExtpB9bi4fxI8F5rJZ2E0p/Y3cWeihwGntbD69bXDOm5q/PbSYuiRpe/LMs6Q+IaUURWz+UDtjG+YND+7grPaI/G2mObwppbsjYi/gCHKh/KD818fl/50bESellNZlLToijgAuztc6EqjabJXR5IJvZx2Uv703/4bCzd0FnJ1f7+ebLXuknfVfy9/uVERNkrRdGZ4ladsWtjM2LH/73vy/jtRmPUhKqZXc3Ol7ASIi8vu+AXgP8M/A97PsKyI+QO4McyMwg9xZ7TeBVnJX7ng30C9rbR0YnL9d0MHyDeND2lm2YvOBlFJz7iFT0Fl2SepOhmdJ2rYt5h3z1vWOL04p/WC7HDQ33/nPEXEZ8DPgaDKGZ+DrwHpgUkrp+bYLIuIacuG5WBt6sHMHy0dttp4k9XrOeZakznkgf/uubjjW6vxt26knLfnbjs7S7gk8105wLgOO7GCb1q3srz2P52+PjIj2TsZMzt8+VsA+JalHMzxLUieklB4hN73itIg4v711ImL/iBi5rX1FxPERcVr+w1A2X1YLXJK/e0+bRRsub9fRm/7mABMiYpc2+wrgq+QuC9eepeQuM5dJ/s2HM8hdqu+Stssi4jDgH8ldIu93WfcpST2d0zYkqfP+kdyb4q6NiH8BHiQ3l3cM8HZgP3Jv1lu8jf3sQ+7Sccsj4l7gJaA5v5/3kZsz/CDwwzbbvEjuI7PPjIgmctdnTsC0lNKr+f39BHg8In4DNJF7A+JE4A/kruqxuTvz+/sDubPFTcA9KaV72ll3g48D9wFX5T8Y5hHeus5zK/DRlNLqrWwvSb2K4VmSOimlNC//KXqfIndJurPITXtYCDwH/CfwdIZd3QisIvfmwAOAo8i90XAFuQ8w+R/gZyml9W2O3ZJ/U+C3yAXVgeSmdcwCXk0pXRMR68idET4XWEvuTPlH87W2F54vJhfAjyH3gSVl5D48pcPwnFJ6OSImAZflt6nPP5Y7gCtSSg9nePyS1GtEO9fflyRJktQO5zxLkiRJGRmeJUmSpIwMz5IkSVJGhmdJkiQpI8OzJEmSlFGPuFTd8OHD07hx40pdRrd68803GTBgQKnL6DXsV2HsV2HsV2HsV+HsWWHsV2HsV2EeffTRJSmlEZ3dvkeE53HjxvHII4+UuoxuNXPmTOrr60tdRq9hvwpjvwpjvwpjvwpnzwpjvwpjvwoTEa8Ws73TNiRJkqSMDM+SJElSRoZnSZIkKaMeMedZkiRJvUNTUxPz5s2jsbGx1KVsVXV1NWPGjKGysrJL92t4liRJUmbz5s1j4MCBjBs3jogodTntSimxdOlS5s2bx/jx47t0307bkCRJUmaNjY0MGzasxwZngIhg2LBh2+XsuOFZkiRJBenJwXmD7VWj4VmSJEm9zvnnn8/IkSPZb7/9uvW4znmWJElSpx1+5V9Z0rC+y/Y3vLaK+z/77m2ud9555/HJT36Sc845p8uOnYVnniVJktRpXRmcC9nfUUcdxdChQ7v02FkYniVJkqSMDM+SJElSRoZnSZIkKSPDsyRJkpSR4VmSJEm9zkc+8hEOP/xwXnzxRcaMGcO1117bLcf1UnWSJEnqtOG1VV1+qbosbr755i47ZiEMz5IkSeq0LNdk3pE4bUOSJEnKqM+feZ7wlRklOe7F+zTysRIduzeyX4X56dueh6vOLHUZvcfYL9qvAry419e47JbLSl1GrzKFKX2qZ7NOmVXqEqTtxjPPkiRJUkaGZ0mSJCkjw7MkSZKUkeFZkiRJvcprr73G5MmTmThxIm9729u4+uqru+3Yff4Ng5IkSSrCj/aHNW903f76j4CLnt7qKhUVFXznO9/h4IMPZvXq1RxyyCG8973vZeLEiV1XRwc88yxJkqTO68rgnHF/o0aN4uCDDwZg4MCB7LvvvsyfP79r6+iA4VmSJEm91pw5c3j88cc57LDDuuV4huftaM2cJ5n99WNpWbOyqP3M/vqxNDx3T4f3JWlHdN+p97Hkb0sy35fU9zQ0NHD66afz/e9/n0GDBnXLMZ3zXKRFt1zF6qfyH95RVk7FoBHU7nMkQ989Zbsdc9y/Tqe8una77V8COO+XK1nyZiu3nb/TJuOPvNbEO/5zGa98fjjjhpaXqDr1di9d/RKL71688X7FwAoG7j2QceeNo/+Y/gC847/fQUWtP6Ykta+pqYnTTz+ds846i9NOO63bjuurUheoGX8Qdad+jtTSTOPcZ1h82/dobWqkduL2+az3itqh22W/Uk+xvjlRVRGlLkPb2eADBrPXJXsBsH7ZeuZcP4cXvvUCB/8wN4+xaqeqUpYnqQdLKXHBBRew77778ulPf7pbj2147gJRUbUx0FbufzRrX32SN1/828bwvG7Ryyy96zrWL55D1YixjHjfJbDPrrSuX8sr3/sIde//NLUTj9q4vzUvP8rrN1/GuIt/QUXtTlscb/bXj2Xn0y/buM2ye25k1RN30NywnPLqWvrvfgh1p362Gx65BM8taubSP67mnpebqKmEY/as4nsnD2Tngbmz0hvOYL93r35cOfNN1jQlTn1bP3506iD6V+UCcv1PlrHvyAoGVAU3PLqWcTuVs//OFSxu2PTMd2trYty3lnDJkf359FEDSvJ41XXKKss2BuSqnarY5eRdeP6K52lZ10J5v3LuO/U+9v7s3gz/h+ElrlRST3Pfffcxbdo09t9/fw488EAAvvGNb3DiiSdu92MbnreDqKgitTRvvL/0rusYdswFVNQO5Y3//TGLfvctUv0PKauqYeB+9ax68n83Cc+rnvhfBkw4rN3gvLmG5+9l+f2/ZufTvkDVyPG0vLmCxvnPb5fHJW1uwaoWjvrxMi44tIb/eN9AmloTX7qjgVOuX8H9Fw2lrCwXju+d08SoQeX85WM78drKFs64cSV7DV/DF45+KwDf+FgjFx5Ww73/PJSUYEVjK+/68XIWrGph1KBcEJ/x0noWrm5lysE1JXm82n6a1zazZNYS+u/Wn/J+TgeSepX+I7r+UnXbcOSRR5JS6rpjFsDw3MUa57/A6mfupv/4gzaODa0/l/7jcr8VDT3qbOZf/6+sWLYUGMOgg05k3nX/QvOqJVQMGk7L2tW8+eLf2Pn0yzIdr2nlIipqh9J/90OI8goqB4+kepe9tsdDUx90x/+tp/ayxZuMtbZ5sfrx/Ws5YJdKvn3iwI1jP//wYIZ+9Q0emdfMoWMrARjUL/jJaQMpLwv2ravgQ2+v5s7Z6zcJz+OHlvOd97+1H4B9RpRzw6ONfH5ybr3rHl7LyRP7MaLW9zrvCJY/tpz7z7wfgNbGVqqGVzHxy9v/Gq2Sutg2rsm8ozE8d4E1sx/m7986GVpbSK0tDNjrcIYf/wnWvzEXgH4jx29cd8P0joZVK4ExVO+yF1Ujx7PqqRkMPfIjrH7mbspqBtJ/z3dkOnbtvkex8qHfM+c/z6H/HocwYI93MGCvdxIVzhVU8Y4aX8nU0zd99/IzC5v5wM9zV5B5dH4T97y8ZcAG+PvSt8LzxLoKysvemsO8y6AyHpzbtMn6h4zZ8uXoY4f157/+tobPTx7AsjWt3PLcOn53zpCiH5d6hsFvG8wen9gDgOaGZhbevpBnv/osB1x5AP1G9CtxdZLUPsNzF6jZbX9GvO8SoqyCioHDiPJcWzeE5w33c3dyASKl1o1Dgw46gZUP/S4Xnp+4g0Fvfy9Rlu3PlpWDRzL2E9ex9pXHWfPKYyyZcQ3L7pnGmPN/QFmVf9pWcfpXBnsO3/RlYsXat848tyZ43779+I/3bXn1l7o2Z4crNztRHGx6BhtgQNWWbxCccnA1n/vTama9sp7HX29mxIAyjtvLXwx3FGX9yqgZ9dbrVO3utTxw1gMs/PNCdjtrtxJWJkkd82+fXSAqq6kaOprKIXWbBuWMBu5/NM2rlrDi4VtYt3A2Aw84rqDtyyqqGDDhMEYc+8+MueCHrH/jVRpfe7bgOqRCHTy6kmcXNrPbTuXsObxik38Dq4t/eRnav4zT9qvmuofXct3Dazn3kJqN86i1AwqICFrXtW57XUkqEcNzD1BeXUvtxHexZMZUqsfuT9Ww0Zm3XfXkn1n5+O2sW/QKTcsXsPrJ/4WyCiqHZt+H1FkXHV7DysZWPnzTSh6c28TLS5v5y0vruPDXq1jd2DUB6GOH1nDT4408uaCZ899R3SX7VM/Q2tTK+uXrWb98PWteW8PLP32ZlsYWhr7Dy3FK6rmcttFDDDrweFY/9RcGHXh8QduV9RvA8r/9iqUzppJam6kavhujPvQVKncatZ0qld6yy+By7vvEUL5wRwPHX7ucxqbE2CHlHLtXFf266DrN9XtUMmZwObvtVMbuw3zJ2pGsfHIlD3/0YQDKa8qpGVPD3pfuzeD9B5e4MknqmD+JilR3yqUdLus/7gD2/PKfNxmrHLIze375z4zdvRFeeGu8uWEZZf0GUDvxXVvsZ/N9tL1fu88R1O5zRCerlzp2/YfbDzCTdq0kXVm38f6EERX8ekrHb+Jrbz9fPbaWrx771jzpmR/v+ExjYzMsX9vKvx3rdZ13JBMunsCEiydsdZ0jfn9EQfcl9R2NjY0cddRRrFu3jubmZj74wQ/yta99rVuObXgusdamRloalrN81nQGHXwCZZX+WVqC3AeiLFmTuHrWGmoqgzMO8HtDknqik+84mWXrlnXZ/ob2G8qtx9+61XX69evHXXfdRW1tLU1NTRx55JGccMIJvPOd7+yyOjpieC6x5X/7Fctn3UzNrvsx9F1nlbocqceYu6KV8d9awpjBZfz3GYOoLPeNgpLUE3VlcM66v4igtjb3F8ympiaampqI6J6fE4bnEhv27nMY9u5zSl2G1OOMG1q+yfQQSZLaamlp4ZBDDmH27NlcdNFFHHbYYd1yXK+2IUmSpF6nvLycJ554gnnz5vHQQw/xzDPPdMtxDc+SJEnqtYYMGcLkyZO54447uuV4hmdJkiT1Km+88QYrVqwAYO3atcyYMYN99tmnW47tnGdJkiT1KgsWLODcc8+lpaWF1tZWzjjjDE466aRuObbhuRdYM+dJXp92KeM/8z+U9/fDAyRJUs8xtN/QLr9U3ba8/e1v5/HHH++yYxZim+E5Iq4DTgIWp5T222zZZ4D/AEaklJZE7hohVwMnAmuA81JKj3V92T3HoluuYvVTMxh44HHUvf8zmyxb8pefseL+X9F/wmHscubXS1Sh1Dnn/XIlNzzauMX4YWMreeCTfnyyJClnW9dk3tFkOfN8PfBD4OdtByNiV+BYYG6b4ROACfl/hwE/zt/u0CoGjaDhuXsYcdwnKKuqASC1trD66b9QMXhkUftOLU1dUaLUKe+ZUMW0MwdtMlbl9ZYlSX3YNsNzSumeiBjXzqLvAZ8Fbmkzdgrw85RSAh6IiCERMSqltKAriu2pqup2p2X1Uhqeu4dBBx4HwJsvPUhUVFIzdn9a1q4GoPH1F1l693+zbsFsLk1NMGJ3hr3nY9SMmbhxX7O/fizDj/8ka195nDUvP8LgQ95P/wmb/v6Rmtez8LffoHnlYkb94xVUDNip+x6s+pR+5bDzwPItxv/xFytZ15z4zTlvfSx3a2tit28u4V/f1Z9PHzWAO15cxxV3vskzi5oJ4B27VvL99w9k3zpni0mSeq9O/RSLiFOA+SmlJzf7NJfRwGtt7s/Lj20RniPiQuBCgLq6OmbOnNmZUop28T5b/lm6ENNmtvBmWQsT/+EYHn3gdi4+890ATP3jnzj4mGNYsnghb5a18PF9GnmxZQUrj303Y3e/gOH9Er+97U888ssvcfl3r2HAwNzZvU8BjX+bxslnTGGvj58LwPIlb/AD4MIJ6ygvX8ZPv3sFo6KVC7/+79T0rwGKewy9QV11a9H/V31JQ9XOzBz7xaL2sXDATaxsbWDm2H/aYtnbj3uWr3z3Om4b/q/U9s/9teXxZ1/i9dX/xW7v+ywzdxrMgwue4D0fgH8auwvr1jcx7Xd/5j03zuP673yWyoqeFaC7ol99yTCGMYUppS6jV+lrPSv2Z3pDQ0PJckFv1N39Gjx4MKtXr+624xWjsbGxy3tT8E+wiOgPfJHclI1OSylNBaYCTJo0KdXX1xezu0772FdmFLX9opXltKwtZ82IY5nz9//mqvuWUtavhjlPPs6qI/+FZS/dQMvacq5+oRrKD4MRcP9quHh0I68fdjHr73+A793+FAPf/p6N+yzfu56HR53Mw/m592vmrgTgx0+sZdHvv035wOHs/MHLmDq3qqjae5OL92nM9VCZ/PRtr1A/9xtF7eP6N1fylycbOemcSzYZv+gfarjiuFq+16+VRX/6BicdmgvPN96xkmP2qOD01T+C1VA/Kr9BExBw5kmJQV9eQs19/86R43vWc3fm2C8W3a++5Jq9vsY0ppW6jF5lClP6VM9m1c8qavuZM2dSqlzQG3V3v55//nkGDhzYbccrRnV1NQcddFCX7rMzp3/2AMYDG846jwEei4hDgfnArm3WHZMf2+GV1wxkwN5HsOqJOyivrqVmt7dTudl85+Y3l7Ns5g2snfMkl65dzrrmVlLzeppWvbHJev1GTWj3GK//4gv023kCO3/oK0TZln9Kl7raUeMrmXr6pnOeh9SUUVEefPiAftz0+FouOLQmN4XjmXVcffJbL6Z/X9rMl//3TR6c28Qbb7bSmqA1wdwVLd39MCRJ6jIFh+eU0tPAxlQYEXOASfmrbdwKfDIippN7o+DKHX2+c1uDDjyORbdeRVllDUPrz9li+eJbrqLlzRUMP/bjfPSgnbhx7gBev/FzW7wpsKyy/TOs/Se8k4bn/sr6xXPot/Me2+UxSG31rwz2HN7+y8TZB9Vw+I+WMX9lCw/ObWJ9c+K0/fptXH7Sf69gzOByrjl9IKMHlVNRBhO/s5T1ZmdJUhdpaWlh0qRJjB49mttuu61bjpnlUnU3A/XA8IiYB1yeUrq2g9X/RO4ydbPJXaruo11UZ69QM/4goryClrUrqd37H7ZYvva1Zxlx3CcYMOEwRo1ppGzhWppXZ78u4rD6cymvHsj8Gz/L6LOvNECrpA4dW8mew8q5+YlG7n+1iVPeVk1tv9yHli59s5UXFrfwX6cOYvKeuSkaj81rorm1lBVLkraHpSefSlrWddd5jqFDGXbr7zOte/XVV7PvvvuyatWqLjv+tmS52sZHtrF8XJuvE3BR8WX1ThHB2AuvARJRseWczqqho1n99J1Uj96HVytXsei3PyfKCzv5P+zojwKJ+Td+jtFnf9sAre1qXQssXL3pqeLyCEbU5kLyWQdV87OH1jJneQu/nfLWlTd2qgmGDwh++tBadh1SxvyVrVz6p9VUlHVr+ZKkbtCVwbmQ/c2bN48//vGPfOlLX+K73/1ul9awNT3rLe87gLJ+/TtcNvL9n2HxH7/Paz+7iOuHDmXg4efQsmZFwccYdvT5pGSA1vb3l5fWM+rrSzYZGz24jHlfGgHA2QdXc/mMNxlZW8axe731C2NZWfDLs4bwL7esYr/vLmXPYeV856SBnD5tZbfWL0nacV1yySVceeWV3X7lD8NzkepOuTTz8n4778GuF/wn8NbVIwa1ucoGwJ5f/vMW++g/7oAtxocfcwHDj7mgs2VL23T9hwdz/Ye3/nHwuw+rIF1Z1+6yo/es4pnPDN9krOHfi/vQIEmSAG677TZGjhzJIYcc0u2XNfSPqJIkSepV7rvvPm699VbGjRvHmWeeyV133cXZZ5/dLcc2PEuSJKlX+eY3v8m8efOYM2cO06dP5+ijj+bGG2/slmMbniVJkqSMDM+SJEnqtBg6tKT7q6+v77ZrPINvGJQkSVIRsl6TeUfhmWdJkiQpI8OzJEmSlJHhuQdYdMtVvD79y6UuQ5IkKZPch0r3bNurRuc8F2nRLVex+qkZG++X1Qyiesy+DH/Px6gaPraElUmSJHW96upqli5dyrBhw4iIUpfTrpQSS5cupbq6usv3bXjuAjXjD6Lu1M8B0Lx6KUv/8lMW/Opr7PaJa0tcmSRJUtcaM2YM8+bN44033ih1KVtVXV3NmDFjuny/hucuEBVVVNTmLqtSUTuUIYedxoJffoXWpnWUVfZj3aJXWDLjJzS+9ixR0Y8Be72TtWPPBzb9bWjZvTex8uFbaF3fSO3Eoxhxwqcoq+xXgkckSZLUvsrKSsaPH1/qMkrGOc9drHXdGhqe+ytVI8dTVtmP1vVref0XX6Csspox5/8no864nMZ5z3HT1B9sst3aV59i3aKX2eXsb7Pzh77CmpcfZemdPyvRo5AkSVJ7PPPcBdbMfpi/f+tkAFJTIxWDRjDqI/8OwOpn7iY1NVJ36uco69cfgBHvu4Qnp13K2EPnUzV0NAARZdSd/P8oq6qh38jxDD/6Ahbd9j2GHX0+ZVU1pXlgkiRJ2oThuQvU7LY/I953CQCtjQ2sfOQPvH7TFxhz/g9Yv2QuVSN33xicAWp2nUhEGU1vzN0Ynqvqxm8SkqvHTISWJpqWL6Bf3e7d+4AkSZLULsNzF4jK6o0hGKDfSXvy8pUfYNVjf9rGhtu5MEmSJHUp5zxvDxEQZaTmdVQNH8v6xa/Qum7NxsVrX3uOlFqpbHMpu/WL59C6fu3G+43zn4fySip3GtWtpUuSJKljhucukJrX09ywjOaGZax/Yy5L7vgRaf1a+k94JwP3P5qo7MeiW65k3aJXWPvqU7zxx6s54B2Hb3K2OrW2sPgP32Xd4jm5NwvedS2DDzrB+c6SJEk9iNM2usDaVx5nzvfOBCCq+lM1fFd2/uBl9B93AAC7/OM3WfLnHzPvuk8RFVUM2OtwzrrwfKbOfWsfNbu9naoRu/H6tEtpbVpH7b5HMuw9/18pHo4kSZI6YHguUt0pl1J3yqVbXadf3XhGT7lyk7Ga/o2b7GODoUed3bUFSpIkqcs4bUOSJEnKyPAsSZIkZWR4liRJkjIyPEuSJEkZGZ4lSZKkjAzPkiRJUkaGZ0mSJCkjw7MkSZKUkeFZkiRJysjwLEmSJGVkeJYkSZIyMjxLkiRJGRmeJUmSpIwMz5IkSVJGhmdJkiQpI8OzJEmSlJHhWZIkScrI8CxJkiRlZHiWJEmSMjI8S5IkSRkZniVJkqSMDM+SJElSRoZnSZIkKSPDsyRJkpSR4VmSJEnKyPAsSZIkZWR4liRJkjIyPEuSJEkZGZ4lSZKkjAzPkiRJUkaGZ0mSJCkjw7MkSZKUkeFZkiRJymib4TkirouIxRHxTJuxqyLihYh4KiJ+FxFD2iz7QkTMjogXI+K47VW4JEmS1N2ynHm+Hjh+s7EZwH4ppbcD/wd8ASAiJgJnAm/Lb/NfEVHeZdVKkiRJJbTN8JxSugdYttnYn1NKzfm7DwBj8l+fAkxPKa1LKb0CzAYO7cJ6JUmSpJLpijnP5wO3578eDbzWZtm8/JgkSZLU60VKadsrRYwDbksp7bfZ+JeAScBpKaUUET8EHkgp3Zhffi1we0rp1+3s80LgQoC6urpDpk+fXuRD6ZxnXl9dkuPWVbeyqNH3a2ZlvwozrmYttesXlrqMXqOhamf7VYAl1buwlKWlLqNXGcawPtWzvQfvXdT2DQ0N1NbWdlE1Oz77VZjJkyc/mlKa1NntKzq7YUScB5wEHJPeSuDzgV3brDYmP7aFlNJUYCrApEmTUn19fWdLKcrHvjKjJMe9eJ9Grn6huiTH7o3sV2F++rZXqJ/7jVKX0WvMHPtF+1WAa/b6GtOYVuoyepUpTOlTPZtVP6uo7WfOnEmpckFvZL+6VyBlrqYAABfHSURBVKdO5UXE8cBngZNTSmvaLLoVODMi+kXEeGAC8FDxZUqSJEmlt80zzxFxM1APDI+IecDl5K6u0Q+YERGQm6rx8ZTSsxHxK+A5oBm4KKXUsr2KlyRJkrrTNsNzSukj7Qxfu5X1rwCuKKYoSZIkqSfyHViSJElSRoZnSZIkKSPDsyRJkpSR4VmSJEnKyPAsSZIkZWR4liRJkjIyPEuSJEkZGZ4lSZKkjAzPkiRJUkaGZ0mSJCkjw7MkSZKUkeFZkiRJysjwLEmSJGVkeJYkSZIyMjxLkiRJGRmeJUmSpIwMz5IkSVJGhmdJkiQpI8OzJEmSlJHhWZIkScrI8CxJkiRlZHiWJEmSMjI8S5IkSRkZniVJkqSMDM+SJElSRoZnSZIkKSPDsyRJkpSR4VmSJEnKyPAsSZIkZWR4liRJkjIyPEuSJEkZGZ4lSZKkjAzPkiRJUkaGZ0mSJCkjw7MkSZKUkeFZkiRJysjwLEmSJGVkeJYkSZIyMjxLkiRJGRmeJUmSpIwMz5IkSVJGhmdJkiQpI8OzJEmSlJHhWZIkScrI8CxJkiRlZHiWJEmSMjI8S5IkSRkZniVJkqSMDM+SJElSRoZnSZIkKSPDsyRJkpSR4VmSJEnKyPAsSZIkZWR4liRJkjLaZniOiOsiYnFEPNNmbGhEzIiIl/K3O+XHIyJ+EBGzI+KpiDh4exYvSZIkdacsZ56vB47fbOzzwJ0ppQnAnfn7ACcAE/L/LgR+3DVlSpIkSaW3zfCcUroHWLbZ8CnADfmvbwBObTP+85TzADAkIkZ1VbGSJElSKXV2znNdSmlB/uuFQF3+69HAa23Wm5cfkyRJknq9SClte6WIccBtKaX98vdXpJSGtFm+PKW0U0TcBnwrpTQrP34n8LmU0iPt7PNCclM7qKurO2T69Old8HB6j4aGBmpra0tdRq9hvwpjvwpjvwqzZOUSlrK01GX0KsMY1qd6tvfgvYva3u/JwtivwkyePPnRlNKkzm5f0cntFkXEqJTSgvy0jMX58fnArm3WG5Mf20JKaSowFWDSpEmpvr6+k6X0TjNnzqSvPeZi2K/C2K/C2K/CXHPLNUxjWqnL6FWmMKVP9WxW/ayitvd7sjD2q3t1dtrGrcC5+a/PBW5pM35O/qob7wRWtpneIUmSJPVq2zzzHBE3A/XA8IiYB1wOfAv4VURcALwKnJFf/U/AicBsYA3w0e1QsyRJklQS2wzPKaWPdLDomHbWTcBFxRYlSZIk9UR+wqAkSZKUkeFZkiRJysjwLEmSJGVkeJYkSZIyMjxLkiRJGRmeJUmSpIwMz5IkSVJGhmdJkiQpI8OzJEmSlJHhWZIkScrI8CxJkiRlZHiWJEmSMjI8S5IkSRkZniVJkqSMDM+SJElSRoZnSZIkKSPDsyRJkpSR4VmSJEnKyPAsSZIkZWR4liRJkjIyPEuSJEkZGZ4lSZKkjAzPkiRJUkaGZ0mSJCkjw7MkSZKUkeFZkiRJysjwLEmSJGVkeJYkSZIyMjxLkiRJGRmeJUmSpIwMz5IkSVJGhmdJkiQpI8OzJEmSlJHhWZIkScrI8CxJkiRlZHiWJEmSMjI8S5IkSRkZniVJkqSMDM+SJElSRoZnSZIkKSPDsyRJkpSR4VmSJEnKyPAsSZIkZWR4liRJkjIyPEuSJEkZGZ4lSZKkjAzPkiRJUkaGZ0mSJCkjw7MkSZKUkeFZkiRJysjwLEmSJGVkeJYkSZIyMjxLkiRJGRmeJUmSpIyKCs8R8a8R8WxEPBMRN0dEdUSMj4gHI2J2RPwyIqq6qlhJkiSplDodniNiNPAvwKSU0n5AOXAm8G3geymlPYHlwAVdUagkSZJUasVO26gAaiKiAugPLACOBn6dX34DcGqRx5AkSZJ6hE6H55TSfOA/gLnkQvNK4FFgRUqpOb/aPGB0sUVKkiRJPUGklDq3YcROwG+ADwMrgP8hd8b5q/kpG0TErsDt+Wkdm29/IXAhQF1d3SHTp0/vVB29VUNDA7W1taUuo9ewX4WxX4WxX4VZsnIJS1la6jJ6lWEM61M923vw3kVt7/dkYexXYSZPnvxoSmlSZ7evKOLY7wFeSSm9ARARvwWOAIZEREX+7PMYYH57G6eUpgJTASZNmpTq6+uLKKX3mTlzJn3tMRfDfhXGfhXGfhXmmluuYRrTSl1GrzKFKX2qZ7PqZxW1vd+ThbFf3auYOc9zgXdGRP+ICOAY4DngbuCD+XXOBW4prkRJkiSpZyhmzvOD5KZpPAY8nd/XVOBzwKcjYjYwDLi2C+qUJEmSSq6YaRuklC4HLt9s+GXg0GL2K0mSJPVEfsKgJEmSlJHhWZIkScrI8CxJkiRlZHiWJEmSMjI8S5IkSRkZniVJkqSMDM+SJElSRoZnSZIkKSPDsyRJkpSR4VmSJEnKyPAsSZIkZVRR6gIkSdKOZcmRRxW1ffOUs1hy2Ve6qJodX2/s1/BZ95S6hE7zzLMkSZKUkeFZkiRJysjwLEmSJGVkeJYkSZIyMjxLkiRJGRmeJUmSpIwMz5IkSVJGhmdJkiQpI8OzJEnqsZ5saKDuvns58aknS12KBBieJUlSD3bTooV8dNQoXljzJv+3Zk2py5EMz5IkqWda29LCb95YzDl1o3j/sOHctGjhxmVzGxsZcd+9/GHJEj74zNOMvf8+jnjsEWauWL5xnftWrmDEffdyz4rlHPfkE4y9/z7e88TjPNnQUIqHox2E4VmSJPVIf1i6hF37VTNxwADOGDmSX72xmKbW1k3W+cbcOXxsl124+8CDObB2IBe++AINLS2brPPvr87hy7uN484DDmKnygr++f9eIKXUnQ9FOxDDsyRJ6pFuWrSID40cCcA/DBpMTVkZty9busk6H99lNMcNHcYeNTVctts4ljc388ybm55Z/vzYcRw5ZAgT+vfn/+06lpfWrmXB+vXd9ji0YzE8S5KkHufltWt5cNVKTh8+AoCI4PQRI7lp0aJN1pvYf8DGr3euqgJgSVPTpusMaLtOPwDe2GwdKauKUhcgSZK0uRsXLaQFOPCRhzaObZhoMX/duo1jlREbv478162bTcnYZJ0N+3LahjrJ8CxJknqUlpYWfrl4EZftNo5jdxq6ybJPvPQiNy9ayBkj60pUnfo6w7MkSepRHnz6aZY1NzOlbmeGVlZusuwDw0dww8IFfMjwrBJxzrMkSepRbv/b3zhy8OAtgjPAycOHM3fdOv7a5pJ0UnfyzLMkSepRvv6JT3DgtJvaXTauuoY3jngXAOfsPGqL5RuWARwxeMgm9wHGVldvMSYVwjPPkiRJUkaGZ0mSJCkjw7MkSZKUkeFZkiRJysjwLEmSJGVkeJYkSZIyMjxLkiRJGRmeJUmSpIwMz5IkSVJGhmdJkiQpI8OzJEmSlJHhWZIkScrI8CxJkiRlZHiWJEmSMjI8S5IkSRkZniVJkqSMDM+SJElSRoZnSZIkKSPDsyRJkpSR4VmSJEnKyPAsSZIkZWR4liRJkjIyPEuSJEkZGZ4lSZKkjIoKzxExJCJ+HREvRMTzEXF4RAyNiBkR8VL+dqeuKlaSJEkqpWLPPF8N3JFS2gc4AHge+DxwZ0ppAnBn/r4kSZLU63U6PEfEYOAo4FqAlNL6lNIK4BTghvxqNwCnFlukJEmS1BNESqlzG0YcCEwFniN31vlR4GJgfkppSH6dAJZvuL/Z9hcCFwLU1dUdMn369E7V0Vs1NDRQW1tb6jJ6DftVGPtVGPtVmCUrl7CUpaUuo1cZxrA+1bM9Fha3/dphw6hZ2nf6Vaze2K+Kvfcu2bEnT578aEppUme3LyY8TwIeAI5IKT0YEVcDq4BPtQ3LEbE8pbTVec+TJk1KjzzySKfq6K1mzpxJfX19qcvoNexXYexXYexXYa655RqmMa3UZfQqU5jSp3r2+6uKmxX6xJSzOHDaTV1UzY6vN/Zr+Kx7SnbsiCgqPBfz7J4HzEspPZi//2vgYGBRRIzKFzcKWFzEMSRJkqQeo9PhOaW0EHgtIjacdz+G3BSOW4Fz82PnArcUVaEkSZLUQ1QUuf2ngJsiogp4GfgouUD+q4i4AHgVOKPIY0iSJEk9QlHhOaX0BNDenJFjitmvJEmS1BP5CYOSJElSRoZnSZIkKSPDsyRJkpSR4VmSJEnKyPAsSZIkZWR4liRJkjIyPEuSJEkZGZ4lSZKkjAzPkiRJUkaGZ0mSJCkjw7MkSZKUkeFZkiRJysjwLEmSJGVkeJYkSZIyMjxLkiRJGRmeJUmSpIwMz5IkSVJGhmdJkiQpI8OzJEmSlJHhWZIkScrI8CxJkiRlZHiWJEmSMjI8S5IkSRkZniVJkqSMDM+SJElSRoZnSZIkKSPDsyRJkpSR4VmSJEnKyPAsSZIkZWR4liRJkjIyPEuSJEkZGZ4lSZKkjAzPkiRJUkaGZ0mSJCkjw7MkSZKUkeFZkiRJysjwLEmSJGVkeJYkSZIyMjxLkiRJGRmeJUmSpIwMz5IkSVJGhmdJkiQpI8OzJEmSlJHhWZIkScrI8CxJkiRlZHiWJEmSMjI8S5IkSRkZniVJkqSMDM+SJElSRoZnSZIkKSPDsyRJkpSR4VmSJEnKyPAsSZIkZWR4liRJkjIqOjxHRHlEPB4Rt+Xvj4+IByNidkT8MiKqii9TkiRJKr2uOPN8MfB8m/vfBr6XUtoTWA5c0AXHkCRJkkquqPAcEWOA9wE/y98P4Gjg1/lVbgBOLeYYkiRJUk9R7Jnn7wOfBVrz94cBK1JKzfn784DRRR5DkiRJ6hEipdS5DSNOAk5MKX0iIuqB/wecBzyQn7JBROwK3J5S2q+d7S8ELgSoq6s7ZPr06Z2qo7dqaGigtra21GX0GvarMParMParMEtWLmEpS0tdRq8yjGF9qmd7LCxu+7XDhlGztO/0q1i9sV8Ve+9dsmNPnjz50ZTSpM5uX1HEsY8ATo6IE4FqYBBwNTAkIiryZ5/HAPPb2zilNBWYCjBp0qRUX19fRCm9z8yZM+lrj7kY9qsw9qsw9qsw19xyDdOYVuoyepUpTOlTPfv9tOL+sP3ElLM4cNpNXVTNjq839mv4rHtKXUKndfrZnVL6QkppTEppHHAmcFdK6SzgbuCD+dXOBW4pukpJkiSpB9ge13n+HPDpiJhNbg70tdvhGJIkSVK3K2baxkYppZnAzPzXLwOHdsV+JUmSpJ7ETxiUJEmSMjI8S5IkSRkZniVJkqSMDM+SJElSRoZnSZIkKSPDsyRJkpSR4VmSJEnKyPAsSZIkZWR4liRJkjIyPEuSJEkZGZ4lSZKkjAzPkiRJUkaGZ0mSJCkjw7MkSZKUkeFZkiRJysjwLEmSJGVkeJYkSZIyMjxLkiRJGRmeJUmSpIwMz5IkSVJGhmdJkiQpI8OzJEmSlJHhWZIkScrI8CxJkiRlZHiWJEmSMjI8S5IkSRkZniVJkqSMDM+SJElSRoZnSZIkKSPDsyRJkpSR4VmSJEnKyPAsSZIkZWR4liRJkjIyPEuSJEkZGZ4lSZKkjAzPkiRJUkaGZ0mSJCkjw7MkSZKUkeFZkiRJysjwLEmSJGVkeJYkSZIyMjxLkiRJGVWUugBJUu+y9+C9mVU/q9Rl9CozZ87sWz07pbjNK2bOZPise7qmlj7AfnUvzzxLkiRJGRmeJUmSpIwMz5IkSVJGhmdJkiQpI8OzJEmSlJHhWZIkScrI8CxJkiRlZHiWJEmSMjI8S5IkSRkZniVJkqSMDM+SJElSRp0OzxGxa0TcHRHPRcSzEXFxfnxoRMyIiJfytzt1XbmSJElS6RRz5rkZ+ExKaSLwTuCiiJgIfB64M6U0Abgzf1+SJEnq9TodnlNKC1JKj+W/Xg08D4wGTgFuyK92A3BqsUVKkiRJPUGXzHmOiHHAQcCDQF1KaUF+0UKgriuOIUmSJJVapJSK20FELfBX4IqU0m8jYkVKaUib5ctTSlvMe46IC4ELAerq6g6ZPn16UXX0Ng0NDdTW1pa6jF7DfhXGfhXGfhXGfhXOnhXGfhXGfhVm8uTJj6aUJnV2+4piDh4RlcBvgJtSSr/NDy+KiFEppQURMQpY3N62KaWpwFSASZMmpfr6+mJK6XVmzpxJX3vMxbBfhbFfhbFfhbFfhbNnhbFfhbFf3auYq20EcC3wfErpu20W3Qqcm//6XOCWzpcnSZIk9RzFnHk+ApgCPB0RT+THvgh8C/hVRFwAvAqcUVyJkiRJUs9Q9JznLiki4g1yQbsvGQ4sKXURvYj9Koz9Koz9Koz9Kpw9K4z9Koz9KszeKaWBnd24qDnPXSWlNKLUNXS3iHikmMnqfY39Koz9Koz9Koz9Kpw9K4z9Koz9KkxEPFLM9n48tyRJkpSR4VmSJEnKyPBcOlNLXUAvY78KY78KY78KY78KZ88KY78KY78KU1S/esQbBiVJkqTewDPPkiRJUkaG5+0sInaNiLsj4rmIeDYiLs6PfzUi5kfEE/l/J5a61p4kIuZExNP53jySHxsaETMi4qX87RYf+94XRcTebZ5HT0TEqoi4xOfYWyLiuohYHBHPtBlr9/kUOT+IiNkR8VREHFy6ykujg35dFREv5Hvyu4gYkh8fFxFr2zzPflK6ykujg351+P0XEV/IP79ejIjjSlN16XTQr1+26dWcDZ8f4fNrqznC17B2bKVfXfYa5rSN7SxyH1E+KqX0WEQMBB4FTiX34TENKaX/KGmBPVREzAEmpZSWtBm7EliWUvpWRHwe2Cml9LlS1dgTRUQ5MB84DPgoPscAiIijgAbg5yml/fJj7T6f8iHnU8CJ5Pp4dUrpsFLVXgod9OtY4K6UUnNEfBsg369xwG0b1uuLOujXV2nn+y8iJgI3A4cCuwB/AfZKKbV0a9El1F6/Nlv+HWBlSunffH5tNUech69hW9hKv8bQRa9hnnnezlJKC1JKj+W/Xg08D4wubVW91inADfmvbyD3zaBNHQP8PaXU1z50aKtSSvcAyzYb7uj5dAq5H+oppfQAMCT/YtxntNevlNKfU0rN+bsPkPtBJDp8fnXkFGB6SmldSukVYDa5IN1nbK1fERHkTi7d3K1F9WBbyRG+hrWjo3515WuY4bkb5X+7OQh4MD/0yfyfD64LpyBsLgF/johHI+LC/FhdSmlB/uuFQF1pSuvRzmTTHzo+xzrW0fNpNPBam/Xm4S+8mzsfuL3N/fER8XhE/DUi3lWqonqg9r7/fH5t3buARSmll9qM+fzK2yxH+Bq2De3krg2Keg0zPHeTiKgFfgNcklJaBfwY2AM4EFgAfKeE5fVER6aUDgZOAC7K/5lvo5Sbb+ScozYiogo4Gfif/JDPsYx8PmUXEV8CmoGb8kMLgLEppYOATwO/iIhBpaqvB/H7r3M+wqYnAHx+5bWTIzbyNWxLHfWrK17DDM/dICIqyf0H3pRS+i1ASmlRSqklpdQK/JQ+9me7bUkpzc/fLgZ+R64/izb86Sl/u7h0FfZIJwCPpZQWgc+xDDp6Ps0Hdm2z3pj8WJ8XEecBJwFn5X9Yk59+sDT/9aPA34G9SlZkD7GV7z+fXx2IiArgNOCXG8Z8fuW0lyPwNaxDHfSry17DDM/bWX7+1rXA8yml77YZbzv/6APAM5tv21dFxID8JH8iYgBwLLn+3Aqcm1/tXOCW0lTYY21yxsbn2DZ19Hy6FTgn/471d5J749KC9nbQl0TE8cBngZNTSmvajI/Iv1GViNgdmAC8XJoqe46tfP/dCpwZEf0iYjy5fj3U3fX1UO8BXkgpzdsw4POr4xyBr2Ht2kru6rLXMK+2sZ1FxJHAvcDTQGt++Ivkgs6B5P7MMgf4p7705N6a/JP3d/m7FcAvUkpXRMQw4FfAWOBV4IyUUtY36ezQ8r9kzAV2TymtzI9Nw+cYABFxM1APDAcWAZcDv6ed51P+hfeHwPHAGuCjKaVHSlF3qXTQry8A/YCl+dUeSCl9PCJOB/4NaCL3Gnd5SukP3V50CXXQr3o6+P7L/9n4fHJ/Or4kpXT7FjvdgbXXr5TStRFxPbnn1U/arOvzq+Mc8SC+hm1hK/36AV30GmZ4liRJkjJy2oYkSZKUkeFZkiRJysjwLEmSJGVkeJYkSZIyMjxLkiRJGRmeJUmSpIwMz5IkSVJGhmdJkiQpo/8fcPRYApAWZcYAAAAASUVORK5CYII=\n",
                  "text/plain": "<Figure size 864x576 with 1 Axes>"
                },
                "metadata": {
                  "needs_background": "light"
                }
              }
            ],
            "_view_module": "@jupyter-widgets/output",
            "_model_module_version": "1.0.0",
            "_view_count": null,
            "_view_module_version": "1.0.0",
            "layout": "IPY_MODEL_4cafe62c568f4775a2022a88dcebde76",
            "_model_module": "@jupyter-widgets/output"
          }
        },
        "a2d6f88f67d5415e93fdb1f6606e9c3d": {
          "model_module": "@jupyter-widgets/controls",
          "model_name": "DescriptionStyleModel",
          "model_module_version": "1.5.0",
          "state": {
            "_view_name": "StyleView",
            "_model_name": "DescriptionStyleModel",
            "description_width": "",
            "_view_module": "@jupyter-widgets/base",
            "_model_module_version": "1.5.0",
            "_view_count": null,
            "_view_module_version": "1.2.0",
            "_model_module": "@jupyter-widgets/controls"
          }
        },
        "806ff37e8599440fb66567fb34a873b7": {
          "model_module": "@jupyter-widgets/base",
          "model_name": "LayoutModel",
          "model_module_version": "1.2.0",
          "state": {
            "_view_name": "LayoutView",
            "grid_template_rows": null,
            "right": null,
            "justify_content": null,
            "_view_module": "@jupyter-widgets/base",
            "overflow": null,
            "_model_module_version": "1.2.0",
            "_view_count": null,
            "flex_flow": null,
            "width": null,
            "min_width": null,
            "border": null,
            "align_items": null,
            "bottom": null,
            "_model_module": "@jupyter-widgets/base",
            "top": null,
            "grid_column": null,
            "overflow_y": null,
            "overflow_x": null,
            "grid_auto_flow": null,
            "grid_area": null,
            "grid_template_columns": null,
            "flex": null,
            "_model_name": "LayoutModel",
            "justify_items": null,
            "grid_row": null,
            "max_height": null,
            "align_content": null,
            "visibility": null,
            "align_self": null,
            "height": null,
            "min_height": null,
            "padding": null,
            "grid_auto_rows": null,
            "grid_gap": null,
            "max_width": null,
            "order": null,
            "_view_module_version": "1.2.0",
            "grid_template_areas": null,
            "object_position": null,
            "object_fit": null,
            "grid_auto_columns": null,
            "margin": null,
            "display": null,
            "left": null
          }
        },
        "4cafe62c568f4775a2022a88dcebde76": {
          "model_module": "@jupyter-widgets/base",
          "model_name": "LayoutModel",
          "model_module_version": "1.2.0",
          "state": {
            "_view_name": "LayoutView",
            "grid_template_rows": null,
            "right": null,
            "justify_content": null,
            "_view_module": "@jupyter-widgets/base",
            "overflow": null,
            "_model_module_version": "1.2.0",
            "_view_count": null,
            "flex_flow": null,
            "width": null,
            "min_width": null,
            "border": null,
            "align_items": null,
            "bottom": null,
            "_model_module": "@jupyter-widgets/base",
            "top": null,
            "grid_column": null,
            "overflow_y": null,
            "overflow_x": null,
            "grid_auto_flow": null,
            "grid_area": null,
            "grid_template_columns": null,
            "flex": null,
            "_model_name": "LayoutModel",
            "justify_items": null,
            "grid_row": null,
            "max_height": null,
            "align_content": null,
            "visibility": null,
            "align_self": null,
            "height": null,
            "min_height": null,
            "padding": null,
            "grid_auto_rows": null,
            "grid_gap": null,
            "max_width": null,
            "order": null,
            "_view_module_version": "1.2.0",
            "grid_template_areas": null,
            "object_position": null,
            "object_fit": null,
            "grid_auto_columns": null,
            "margin": null,
            "display": null,
            "left": null
          }
        },
        "f96c68a412c443dcb51d6d0cc685ad94": {
          "model_module": "@jupyter-widgets/controls",
          "model_name": "VBoxModel",
          "model_module_version": "1.5.0",
          "state": {
            "_view_name": "VBoxView",
            "_dom_classes": [
              "widget-interact"
            ],
            "_model_name": "VBoxModel",
            "_view_module": "@jupyter-widgets/controls",
            "_model_module_version": "1.5.0",
            "_view_count": null,
            "_view_module_version": "1.5.0",
            "box_style": "",
            "layout": "IPY_MODEL_04d0283e0e2e43e9be1524a2c588e1f2",
            "_model_module": "@jupyter-widgets/controls",
            "children": [
              "IPY_MODEL_aa30972a8abd4c13a2395b129ed579cc",
              "IPY_MODEL_b1d3cb27ee9e4b628fd19fd572685476"
            ]
          }
        },
        "04d0283e0e2e43e9be1524a2c588e1f2": {
          "model_module": "@jupyter-widgets/base",
          "model_name": "LayoutModel",
          "model_module_version": "1.2.0",
          "state": {
            "_view_name": "LayoutView",
            "grid_template_rows": null,
            "right": null,
            "justify_content": null,
            "_view_module": "@jupyter-widgets/base",
            "overflow": null,
            "_model_module_version": "1.2.0",
            "_view_count": null,
            "flex_flow": null,
            "width": null,
            "min_width": null,
            "border": null,
            "align_items": null,
            "bottom": null,
            "_model_module": "@jupyter-widgets/base",
            "top": null,
            "grid_column": null,
            "overflow_y": null,
            "overflow_x": null,
            "grid_auto_flow": null,
            "grid_area": null,
            "grid_template_columns": null,
            "flex": null,
            "_model_name": "LayoutModel",
            "justify_items": null,
            "grid_row": null,
            "max_height": null,
            "align_content": null,
            "visibility": null,
            "align_self": null,
            "height": null,
            "min_height": null,
            "padding": null,
            "grid_auto_rows": null,
            "grid_gap": null,
            "max_width": null,
            "order": null,
            "_view_module_version": "1.2.0",
            "grid_template_areas": null,
            "object_position": null,
            "object_fit": null,
            "grid_auto_columns": null,
            "margin": null,
            "display": null,
            "left": null
          }
        },
        "aa30972a8abd4c13a2395b129ed579cc": {
          "model_module": "@jupyter-widgets/controls",
          "model_name": "DropdownModel",
          "model_module_version": "1.5.0",
          "state": {
            "_options_labels": [
              "Phylis",
              "Ann",
              "Henry",
              "Eva",
              "Bill",
              "Mark",
              "Bob"
            ],
            "_view_name": "DropdownView",
            "style": "IPY_MODEL_47518c1bfae6463c9ce670581d0a4218",
            "_dom_classes": [],
            "description": "Fire Fighter: ",
            "_model_name": "DropdownModel",
            "index": 0,
            "_view_module": "@jupyter-widgets/controls",
            "_model_module_version": "1.5.0",
            "_view_count": null,
            "disabled": false,
            "_view_module_version": "1.5.0",
            "description_tooltip": null,
            "_model_module": "@jupyter-widgets/controls",
            "layout": "IPY_MODEL_a0375780393941499447f8c47df2b6a4"
          }
        },
        "b1d3cb27ee9e4b628fd19fd572685476": {
          "model_module": "@jupyter-widgets/output",
          "model_name": "OutputModel",
          "model_module_version": "1.0.0",
          "state": {
            "_view_name": "OutputView",
            "msg_id": "",
            "_dom_classes": [],
            "_model_name": "OutputModel",
            "outputs": [
              {
                "output_type": "stream",
                "name": "stdout",
                "text": [
                  "\n",
                  "Depth-First Search Result:\n",
                  "\n",
                  "Phylis\n",
                  "Mark\n",
                  "Ann\n",
                  "Bill\n",
                  "Bob\n"
                ]
              }
            ],
            "_view_module": "@jupyter-widgets/output",
            "_model_module_version": "1.0.0",
            "_view_count": null,
            "_view_module_version": "1.0.0",
            "layout": "IPY_MODEL_10b1a826773d44e6bb8cd91cd925baaa",
            "_model_module": "@jupyter-widgets/output"
          }
        },
        "47518c1bfae6463c9ce670581d0a4218": {
          "model_module": "@jupyter-widgets/controls",
          "model_name": "DescriptionStyleModel",
          "model_module_version": "1.5.0",
          "state": {
            "_view_name": "StyleView",
            "_model_name": "DescriptionStyleModel",
            "description_width": "",
            "_view_module": "@jupyter-widgets/base",
            "_model_module_version": "1.5.0",
            "_view_count": null,
            "_view_module_version": "1.2.0",
            "_model_module": "@jupyter-widgets/controls"
          }
        },
        "a0375780393941499447f8c47df2b6a4": {
          "model_module": "@jupyter-widgets/base",
          "model_name": "LayoutModel",
          "model_module_version": "1.2.0",
          "state": {
            "_view_name": "LayoutView",
            "grid_template_rows": null,
            "right": null,
            "justify_content": null,
            "_view_module": "@jupyter-widgets/base",
            "overflow": null,
            "_model_module_version": "1.2.0",
            "_view_count": null,
            "flex_flow": null,
            "width": null,
            "min_width": null,
            "border": null,
            "align_items": null,
            "bottom": null,
            "_model_module": "@jupyter-widgets/base",
            "top": null,
            "grid_column": null,
            "overflow_y": null,
            "overflow_x": null,
            "grid_auto_flow": null,
            "grid_area": null,
            "grid_template_columns": null,
            "flex": null,
            "_model_name": "LayoutModel",
            "justify_items": null,
            "grid_row": null,
            "max_height": null,
            "align_content": null,
            "visibility": null,
            "align_self": null,
            "height": null,
            "min_height": null,
            "padding": null,
            "grid_auto_rows": null,
            "grid_gap": null,
            "max_width": null,
            "order": null,
            "_view_module_version": "1.2.0",
            "grid_template_areas": null,
            "object_position": null,
            "object_fit": null,
            "grid_auto_columns": null,
            "margin": null,
            "display": null,
            "left": null
          }
        },
        "10b1a826773d44e6bb8cd91cd925baaa": {
          "model_module": "@jupyter-widgets/base",
          "model_name": "LayoutModel",
          "model_module_version": "1.2.0",
          "state": {
            "_view_name": "LayoutView",
            "grid_template_rows": null,
            "right": null,
            "justify_content": null,
            "_view_module": "@jupyter-widgets/base",
            "overflow": null,
            "_model_module_version": "1.2.0",
            "_view_count": null,
            "flex_flow": null,
            "width": null,
            "min_width": null,
            "border": null,
            "align_items": null,
            "bottom": null,
            "_model_module": "@jupyter-widgets/base",
            "top": null,
            "grid_column": null,
            "overflow_y": null,
            "overflow_x": null,
            "grid_auto_flow": null,
            "grid_area": null,
            "grid_template_columns": null,
            "flex": null,
            "_model_name": "LayoutModel",
            "justify_items": null,
            "grid_row": null,
            "max_height": null,
            "align_content": null,
            "visibility": null,
            "align_self": null,
            "height": null,
            "min_height": null,
            "padding": null,
            "grid_auto_rows": null,
            "grid_gap": null,
            "max_width": null,
            "order": null,
            "_view_module_version": "1.2.0",
            "grid_template_areas": null,
            "object_position": null,
            "object_fit": null,
            "grid_auto_columns": null,
            "margin": null,
            "display": null,
            "left": null
          }
        }
      }
    }
  },
  "cells": [
    {
      "cell_type": "markdown",
      "metadata": {
        "id": "view-in-github",
        "colab_type": "text"
      },
      "source": [
        "<a href=\"https://colab.research.google.com/github/raulFuzita/cct_ai/blob/CA3/raul_macedo_fuzita_AI_DV_DP_ICA.ipynb\" target=\"_parent\"><img src=\"https://colab.research.google.com/assets/colab-badge.svg\" alt=\"Open In Colab\"/></a>"
      ]
    },
    {
      "cell_type": "markdown",
      "metadata": {
        "id": "h_C0GUxkeMV0"
      },
      "source": [
        "# **CCT College Dublin Continuous Assessment**"
      ]
    },
    {
      "cell_type": "markdown",
      "metadata": {
        "id": "-lbY3hRSeUc7"
      },
      "source": [
        "## **Assessment Information**\n",
        "\n",
        "Programme Title:             BSc (Hons) in Computing and IT Y4\n",
        "\n",
        "Cohort:                      Y4\n",
        "\n",
        "Module Title(s):             Artificial Intelligence\n",
        "\n",
        "Assignment Title:            AI_DV_DP_Lv8_ICA_v1\n",
        "\n",
        "Lecturer(s):                 David McQuaid\n",
        "\n",
        "Issue Date:                  13/12/2021\n",
        "\n",
        "Submission Deadline Date:    16/01/2022\n",
        "\n",
        "## **Student Information**\n",
        "\n",
        "Name:                        Raul Macedo Fuzita\n",
        "\n",
        "ID:                          2018337\n",
        "\n"
      ]
    },
    {
      "cell_type": "markdown",
      "metadata": {
        "id": "Qqa0aiZVD_i_"
      },
      "source": [
        "## Jupyter Notebook Information <font color='red'>(Important)</font>"
      ]
    },
    {
      "cell_type": "markdown",
      "metadata": {
        "id": "wULsLNoZEK-N"
      },
      "source": [
        "<p align=\"justify\">\n",
        "&emsp;&emsp;This assignment was performed on Google Colab in Jupyter Notebook. This notebook contains advanced features such as HTML tags, Jupyter Notebook form components compatible with the version below or above, and Widgets components.\n",
        "\n",
        "&emsp;&emsp;If you are running on your local machine, please check if your Jupyter Notebook has the same version or above. This notebook was not tested in an old version, so I cannot guarantee support for the legacy notebooks.\n",
        "\n",
        "&emsp;&emsp;If you are not sure what Jupyter Notebook version you have, you will find a command to check the version. You can access this material on my Github account, available at:  <a href=\"https://github.com/raulFuzita/cct_ai/tree/CA2\">https://github.com/raulFuzita/cct_ai/tree/CA2</a>\n",
        "</p>\n",
        "\n",
        "```\n",
        "jupyter core     : 4.5.0\n",
        "jupyter-notebook : 5.2.2\n",
        "qtconsole        : 4.5.2\n",
        "ipython          : 5.5.0\n",
        "ipykernel        : 4.10.1\n",
        "jupyter client   : 5.3.1\n",
        "jupyter lab      : not installed\n",
        "nbconvert        : 5.5.0\n",
        "ipywidgets       : 7.5.0\n",
        "nbformat         : 4.4.0\n",
        "traitlets        : 4.3.2\n",
        "```\n",
        "\n",
        "&emsp;&emsp;Make your own changes or have a copy in you Google Drive. Go to `File > Save a copy in Drive`"
      ]
    },
    {
      "cell_type": "code",
      "metadata": {
        "colab": {
          "base_uri": "https://localhost:8080/"
        },
        "cellView": "form",
        "id": "JznXRZaXEI9P",
        "outputId": "3503cc7a-ed47-4116-d051-f2921294543c"
      },
      "source": [
        "#@markdown 👈 **Please, run this code cell to check your Jupyter Notebook version.** <font color=\"lightgreen\">(Recommended)</font>\n",
        "!jupyter --version"
      ],
      "execution_count": null,
      "outputs": [
        {
          "output_type": "stream",
          "name": "stdout",
          "text": [
            "jupyter core     : 4.5.0\n",
            "jupyter-notebook : 5.2.2\n",
            "qtconsole        : 4.5.2\n",
            "ipython          : 5.5.0\n",
            "ipykernel        : 4.10.1\n",
            "jupyter client   : 5.3.1\n",
            "jupyter lab      : not installed\n",
            "nbconvert        : 5.5.0\n",
            "ipywidgets       : 7.5.0\n",
            "nbformat         : 4.4.0\n",
            "traitlets        : 4.3.2\n"
          ]
        }
      ]
    },
    {
      "cell_type": "markdown",
      "source": [
        "# Tasks for Artificial Intelligence"
      ],
      "metadata": {
        "id": "yfodsrpPml9Q"
      }
    },
    {
      "cell_type": "markdown",
      "source": [
        "## Task 1"
      ],
      "metadata": {
        "id": "dU8STj8SsIoV"
      }
    },
    {
      "cell_type": "markdown",
      "source": [
        "1) In honour of the hard work that the fire officers are doing, the community has decided to build a\n",
        "new fire station for them. There are seven fire officers and four offices. Because there are more\n",
        "fire officers than offices, some fire officers have to be in the same offices as others. However, the\n",
        "fire officers are very picky about who they share with. The community administration is having\n",
        "trouble assigning fire officers to offices. They have asked you to plan where each fire officer goes.\n",
        "\n",
        "The fire officers are **Phylis**, **Ann**, **Henry**, **Eva**, **Bill**, **Mark**, and **Bob**.\n",
        "\n",
        "They have given you the plans of the fire station."
      ],
      "metadata": {
        "id": "em1WeQr5mnhA"
      }
    },
    {
      "cell_type": "markdown",
      "source": [
        "![image.png](data:image/png;base64,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)"
      ],
      "metadata": {
        "id": "sX7TBC58ogJC"
      }
    },
    {
      "cell_type": "markdown",
      "source": [
        "Each numbered area is an office in the fire station. Multiple officers can go into the same office,\n",
        "and not all offices have to be filled.\n",
        "\n",
        "Each fire person has restrictions about where they can be placed.\n",
        "1. Phylis and Eva dont get on, and do not want to be in the same office.\n",
        "2. Mark and Bob are best friends, and have to be in the same office.\n",
        "3. Henry listens to loud music. Only Eva will share his office.\n",
        "4. Eva doesn't talk to Mark, Bob, and Bill.\n",
        "5. Ann is always late but is a great fire officer. To hide that Ann is always late, Ann cannot be in\n",
        "either the same office or in an office adjacent to Phylis or Eva.\n",
        "6. Phylis annoys Bill, so Bill doesn't want to be in Phylis's office.\n",
        "7. Phylis is the fire chief, so she wants to be in office 1.\n",
        "\n",
        "Using any CSP (Constraint Satisfaction Problem) framework, discover if the above problem can be\n",
        "solved and if so detail who would be in each office."
      ],
      "metadata": {
        "id": "IZ2EHsdpnOTF"
      }
    },
    {
      "cell_type": "code",
      "source": [
        "#@title Import Necessary Resources\n",
        "\n",
        "\n",
        "import pandas as pd\n",
        "import numpy as np\n",
        "import ipywidgets as widgets\n",
        "\n",
        "df_fire_officers = pd.read_csv(\"https://raw.githubusercontent.com/raulFuzita/cct_ai/CA3/fire_station.csv\")\n",
        "df_rooms = pd.read_csv(\"https://raw.githubusercontent.com/raulFuzita/cct_ai/CA3/rooms_location.csv\")\n",
        "\n",
        "df_fire_officers.columns = df_fire_officers.columns.str.lower()\n",
        "df_rooms.columns = df_rooms.columns.str.lower()"
      ],
      "metadata": {
        "id": "y6V-rHuwxhLk",
        "cellView": "form"
      },
      "execution_count": null,
      "outputs": []
    },
    {
      "cell_type": "code",
      "source": [
        "#@title Constraint Satisfaction Problem (CSP)\n",
        "\n",
        "# csp.py\n",
        "# From Classic Computer Science Problems in Python Chapter 3\n",
        "# Copyright 2018 David Kopec\n",
        "#\n",
        "# Licensed under the Apache License, Version 2.0 (the \"License\");\n",
        "# you may not use this file except in compliance with the License.\n",
        "# You may obtain a copy of the License at\n",
        "#\n",
        "# http://www.apache.org/licenses/LICENSE-2.0\n",
        "#\n",
        "# Unless required by applicable law or agreed to in writing, software\n",
        "# distributed under the License is distributed on an \"AS IS\" BASIS,\n",
        "# WITHOUT WARRANTIES OR CONDITIONS OF ANY KIND, either express or implied.\n",
        "# See the License for the specific language governing permissions and\n",
        "# limitations under the License.\n",
        "from typing import Generic, TypeVar, Dict, List, Optional\n",
        "from abc import ABC, abstractmethod\n",
        "\n",
        "V = TypeVar('V') # variable type\n",
        "D = TypeVar('D') # domain type\n",
        "\n",
        "\n",
        "# Base class for all constraints\n",
        "class Constraint(Generic[V, D], ABC):\n",
        "    # The variables that the constraint is between\n",
        "    def __init__(self, variables: List[V]) -> None:\n",
        "        self.variables = variables\n",
        "\n",
        "    # Must be overridden by subclasses\n",
        "    @abstractmethod\n",
        "    def satisfied(self, assignment: Dict[V, D]) -> bool:\n",
        "        ...\n",
        "\n",
        "\n",
        "# A constraint satisfaction problem consists of variables of type V\n",
        "# that have ranges of values known as domains of type D and constraints\n",
        "# that determine whether a particular variable's domain selection is valid\n",
        "class CSP(Generic[V, D]):\n",
        "    def __init__(self, variables: List[V], domains: Dict[V, List[D]]) -> None:\n",
        "        self.variables: List[V] = variables # variables to be constrained\n",
        "        self.domains: Dict[V, List[D]] = domains # domain of each variable\n",
        "        self.constraints: Dict[V, List[Constraint[V, D]]] = {}\n",
        "        for variable in self.variables:\n",
        "            self.constraints[variable] = []\n",
        "            if variable not in self.domains:\n",
        "                raise LookupError(\"Every variable should have a domain assigned to it.\")\n",
        "\n",
        "    def add_constraint(self, constraint: Constraint[V, D]) -> None:\n",
        "        for variable in constraint.variables:\n",
        "            if variable not in self.variables:\n",
        "                raise LookupError(\"Variable in constraint not in CSP\")\n",
        "            else:\n",
        "                self.constraints[variable].append(constraint)\n",
        "\n",
        "    # Check if the value assignment is consistent by checking all constraints\n",
        "    # for the given variable against it\n",
        "    def consistent(self, variable: V, assignment: Dict[V, D]) -> bool:\n",
        "        for constraint in self.constraints[variable]:\n",
        "            if not constraint.satisfied(assignment):\n",
        "                return False\n",
        "        return True\n",
        "\n",
        "    def backtracking_search(self, assignment: Dict[V, D] = {}) -> Optional[Dict[V, D]]:\n",
        "        # assignment is complete if every variable is assigned (our base case)\n",
        "        if len(assignment) == len(self.variables):\n",
        "            return assignment\n",
        "\n",
        "        # get all variables in the CSP but not in the assignment\n",
        "        unassigned: List[V] = [v for v in self.variables if v not in assignment]\n",
        "\n",
        "        # get the every possible domain value of the first unassigned variable\n",
        "        first: V = unassigned[0]\n",
        "        for value in self.domains[first]:\n",
        "            local_assignment = assignment.copy()\n",
        "            local_assignment[first] = value\n",
        "            # if we're still consistent, we recurse (continue)\n",
        "            if self.consistent(first, local_assignment):\n",
        "                result: Optional[Dict[V, D]] = self.backtracking_search(local_assignment)\n",
        "                # if we didn't find the result, we will end up backtracking\n",
        "                if result is not None:\n",
        "                    return result\n",
        "        return None"
      ],
      "metadata": {
        "id": "ua-qO78QyII9",
        "cellView": "form"
      },
      "execution_count": null,
      "outputs": []
    },
    {
      "cell_type": "code",
      "source": [
        "#@title Conversor from DataFrame into Constraint Dictionary\n",
        "\n",
        "\n",
        "def split(col):\n",
        "    if type(col) == str and ';' in col:\n",
        "        return [item.strip() for item in col.split(';')]  \n",
        "    else: \n",
        "        return [col] if col != None else col\n",
        "\n",
        "def df_to_constraintdict(df):\n",
        "    df = df.where(df.notnull(), None)\n",
        "    tmp_dict = dict()\n",
        "    for index, row in df.iterrows():\n",
        "\n",
        "        tmp_dict[row['officers']] = {\n",
        "            'yes': split(row['yes']),\n",
        "            'no': split(row['no']),\n",
        "            'office': row['office'],\n",
        "            'no_office_adjacent': split(row['no_office_adjacent']),\n",
        "        }\n",
        "    return tmp_dict"
      ],
      "metadata": {
        "id": "DYfO9K5GtShl",
        "cellView": "form"
      },
      "execution_count": null,
      "outputs": []
    },
    {
      "cell_type": "code",
      "source": [
        "#@title Graph Class To Plot Rooms\n",
        "\n",
        "import matplotlib.patches as mpatches\n",
        "import matplotlib.pyplot as plt\n",
        "\n",
        "class RoomsGraph:\n",
        "\n",
        "    colorpalette = {\n",
        "        0: (127, 127, 127), # gray\n",
        "        1: (31, 119, 180), # blue\n",
        "        2: (255, 127, 14), # red\n",
        "        3: (44, 160, 44), # green\n",
        "        4: (214, 39, 40), # orange\n",
        "        5: (148, 103, 189), # purple\n",
        "        6: (188, 189, 34), # olive\n",
        "        7: (23, 190, 207), # cyan\n",
        "        8: (227, 119, 194), # pink\n",
        "        9: (140, 86, 75), # brown\n",
        "    }\n",
        "\n",
        "    def __init__(self, rooms: dict=dict(), components: dict=dict(), figsize: tuple=(12, 8)) -> None:\n",
        "        self.colors = []\n",
        "        self.plt = plt\n",
        "        self.plt.rcParams[\"figure.figsize\"]=figsize\n",
        "        fig, ax = self.plt.subplots()\n",
        "        self.fig = fig\n",
        "        self.ax = ax\n",
        "        self.setGrid(True)\n",
        "        self.addRooms(rooms)\n",
        "        self.addComponents(components)\n",
        "        self.setComponentSize(14)\n",
        "        self.setTite('Rooms\\n')\n",
        "\n",
        "    def _RGBdecToPerc(self, r, g=0, b=0, a=None, output=None) -> tuple or list: \n",
        "        if r > 255: r = 255\n",
        "        if g > 255: g = 255\n",
        "        if b > 255: b = 255\n",
        "        perc = (round(r/255,2),round(g/255,2),round(b/255,2))\n",
        "        if a != None: perc = perc + (a if a <= 1 else 1,)\n",
        "        if output==list: return list(perc)\n",
        "        else: return perc\n",
        "\n",
        "    def _color(self, room: int) -> tuple:\n",
        "        op = room % 10\n",
        "        room *= 5\n",
        "        ch = room if room <= 255 else room % 255\n",
        "        r = self.colorpalette[op][0]+ch\n",
        "        g = self.colorpalette[op][1]+ch\n",
        "        b = self.colorpalette[op][2]+ch\n",
        "        return self._RGBdecToPerc(r, g, b)\n",
        "\n",
        "    def setGrid(self, flag: bool):\n",
        "        self.ax.grid(flag)\n",
        "        return self\n",
        "\n",
        "    def setTite(self, title: str, fontsize: int=20):\n",
        "        self.ax.set_title(title, fontsize=fontsize)\n",
        "        return self\n",
        "\n",
        "    def setXLabel(self, label: str, labelsize: int=20):\n",
        "        self.plt.rc('axes', labelsize=labelsize)\n",
        "        self.ax.set_xlabel(label)\n",
        "        return self\n",
        "\n",
        "    def setYLabel(self, label: str, labelsize: int=20):\n",
        "        self.plt.rc('axes', labelsize=labelsize)\n",
        "        self.ax.set_ylabel(label)\n",
        "        return self\n",
        "\n",
        "    def addRooms(self, rooms: dict):\n",
        "        self.rooms = rooms\n",
        "        for room in rooms:\n",
        "            self.colors.append(self._color(room))\n",
        "        return self\n",
        "\n",
        "    def addComponents(self, components: dict):\n",
        "        self.components = components\n",
        "        return self\n",
        "\n",
        "    def setComponentSize(self, fontsize: int):\n",
        "        self.compSize = fontsize\n",
        "        return self\n",
        "\n",
        "    def _yieldComponents(self) -> None:\n",
        "        roomfreq = dict()\n",
        "        for i in self.components:\n",
        "            num = self.components[i]\n",
        "            roomfreq[num] = roomfreq[num]+1 if num in roomfreq else 1\n",
        "            x = (self.rooms[num]['x']+5)\n",
        "            y = (self.rooms[num]['y']+self.rooms[num]['height'])\n",
        "            y -= (roomfreq[num] * 6)\n",
        "            self.ax.annotate(i, (x, y), fontsize=self.compSize)\n",
        "\n",
        "    def _yieldRooms(self) -> None:\n",
        "        count = 0\n",
        "        for i in self.rooms:\n",
        "            room = self.rooms[i]\n",
        "            self.ax.broken_barh(\n",
        "                [(room['x'], room['width'])], \n",
        "                (room['y'], room['height']), \n",
        "                facecolors=self.colors[count])\n",
        "            count+=1\n",
        "\n",
        "    def _yieldLegend(self) -> None:\n",
        "        legends = list()\n",
        "        for i in range(len(self.rooms)):\n",
        "            legends.append(mpatches.Patch(color=self.colors[i], label=(i+1)))\n",
        "        plt.legend(handles=legends)\n",
        "\n",
        "    def show(self) -> None:\n",
        "        self._yieldRooms()\n",
        "        self._yieldLegend()\n",
        "        self._yieldComponents()\n",
        "        self.plt.show()"
      ],
      "metadata": {
        "id": "k3vDvN0M7EHT",
        "cellView": "form"
      },
      "execution_count": null,
      "outputs": []
    },
    {
      "cell_type": "code",
      "source": [
        "#@title Constraint Concrete Class\n",
        "\n",
        "from typing import Dict, List, Optional\n",
        "\n",
        "class FireStation(Constraint[str, int]):\n",
        "    def __init__(self, officer: str, officers: List[str], constraints: Dict[str, object]) -> None:\n",
        "        super().__init__(officers)\n",
        "        self.officer = officer\n",
        "        self.officers: List[str] = officers\n",
        "        self.constraints: Dict[str, object] = constraints\n",
        "\n",
        "    def validate(self, assignment: Dict[int, str]) -> bool:\n",
        "        for i in self.constraints:\n",
        "            constraint = self.constraints[self.officer]\n",
        "            notwork = constraint['no']\n",
        "            work = constraint['yes']\n",
        "            mustbe = constraint['office']\n",
        "            noadjoffice = constraint['no_office_adjacent']\n",
        "            if notwork != None:\n",
        "                for j in notwork:\n",
        "                    if self.officer in assignment and j in assignment:\n",
        "                        if assignment[self.officer] == assignment[j]:\n",
        "                            return False\n",
        "            if work != None:\n",
        "                for j in work:\n",
        "                    if self.officer in assignment and j in assignment:\n",
        "                        if assignment[self.officer] != assignment[j]:\n",
        "                            return False\n",
        "            if mustbe != None:\n",
        "                if self.officer in assignment: \n",
        "                    if assignment[self.officer] != mustbe:\n",
        "                        return False\n",
        "            if noadjoffice != None:\n",
        "                for j in noadjoffice:\n",
        "                    if self.officer in assignment and j in assignment:\n",
        "                        diff = assignment[self.officer] - assignment[j]\n",
        "                        if diff >= -1 and diff <= 1:\n",
        "                            return False\n",
        "        return True\n",
        "\n",
        "    def satisfied(self, assignment: Dict[int, str]) -> bool:\n",
        "        return self.validate(assignment)"
      ],
      "metadata": {
        "id": "_ti6Lh1wzbZd",
        "cellView": "form"
      },
      "execution_count": null,
      "outputs": []
    },
    {
      "cell_type": "code",
      "source": [
        "#@title Main Method\n",
        "\n",
        "if __name__ == \"__main__\":\n",
        "\n",
        "    constraints = df_to_constraintdict(df_fire_officers)\n",
        "    rooms = df_rooms.set_index('rooms').T.to_dict()\n",
        "\n",
        "    variables: List[str] = list(constraints.keys())\n",
        "    domains: Dict[str, List[int]] = {}\n",
        "    for variable in variables:\n",
        "        domains[variable] = list(rooms) \n",
        "\n",
        "    csp: CSP[str, int] = CSP(variables, domains)\n",
        "    for variable in list(constraints.keys()):\n",
        "        csp.add_constraint(FireStation(variable, variables, constraints))\n",
        "    solution: Optional[Dict[str, int]] = csp.backtracking_search()\n",
        "\n",
        "    print(\"No solution found!\")  if solution is None else print(solution)"
      ],
      "metadata": {
        "colab": {
          "base_uri": "https://localhost:8080/"
        },
        "id": "mU9qbsfNtP8J",
        "outputId": "e4b7a36e-71b7-499e-9cc4-24f81d961687",
        "cellView": "form"
      },
      "execution_count": null,
      "outputs": [
        {
          "output_type": "stream",
          "name": "stdout",
          "text": [
            "{'Phylis': 1, 'Ann': 4, 'Henry': 2, 'Eva': 2, 'Bill': 3, 'Mark': 1, 'Bob': 1}\n"
          ]
        }
      ]
    },
    {
      "cell_type": "code",
      "source": [
        "#@title Plot Results If There is an Answer\n",
        "\n",
        "grid = widgets.Checkbox(value=True,description='Grid')\n",
        "\n",
        "if solution is not None:\n",
        "    @widgets.interact(value=grid)\n",
        "    def render(value):\n",
        "        rg = RoomsGraph(rooms)\n",
        "        rg.setTite('Fire Station').setGrid(value).addComponents(solution)\n",
        "        rg.show()\n",
        "else:\n",
        "    print(\"No solution found!\")"
      ],
      "metadata": {
        "colab": {
          "base_uri": "https://localhost:8080/",
          "height": 536,
          "referenced_widgets": [
            "1a2f718d7e904de0adb257fb77940407",
            "c366329664554f9387245284519b608b",
            "cf8d5d9f3c8b4fd591f271df8ed9ceea",
            "e4898233f6394466a050f05d581e671d",
            "a2d6f88f67d5415e93fdb1f6606e9c3d",
            "806ff37e8599440fb66567fb34a873b7",
            "4cafe62c568f4775a2022a88dcebde76"
          ]
        },
        "id": "vzGVELOZEuCW",
        "outputId": "58936e21-10a7-4b73-c226-5f5a69e4167f",
        "cellView": "form"
      },
      "execution_count": null,
      "outputs": [
        {
          "output_type": "display_data",
          "data": {
            "application/vnd.jupyter.widget-view+json": {
              "model_id": "1a2f718d7e904de0adb257fb77940407",
              "version_minor": 0,
              "version_major": 2
            },
            "text/plain": [
              "interactive(children=(Checkbox(value=True, description='Grid'), Output()), _dom_classes=('widget-interact',))"
            ]
          },
          "metadata": {}
        }
      ]
    },
    {
      "cell_type": "code",
      "source": [
        "# {'Phylis': 1, 'Ann': 4, 'Henry': 2, 'Eva': 2, 'Bill': 3, 'Mark': 1, 'Bob': 1}"
      ],
      "metadata": {
        "id": "f0sRLSgqLPNs"
      },
      "execution_count": null,
      "outputs": []
    },
    {
      "cell_type": "markdown",
      "source": [
        "## Task 2"
      ],
      "metadata": {
        "id": "1boDNDYpsNZd"
      }
    },
    {
      "cell_type": "markdown",
      "source": [
        "2) Discuss in detail how using Constraint Satisfaction finds an answer or finds no solution to the\n",
        "problem in Tasks for Artificial Intelligence part 1. How does this differ from standard algorithmic\n",
        "solutions?\n",
        "\n",
        "\n",
        "\n",
        "\n"
      ],
      "metadata": {
        "id": "heZApUc9nuOL"
      }
    },
    {
      "cell_type": "markdown",
      "source": [
        "<p style=\"text-align: justify\">\n",
        "&emsp;&emsp;Constraint Satisfaction Problem (or CSP) is composed of a set of variables {X1, X2, …, Xn}, {D1, D2, …, Dn}, and {C1, C2, …, Cm}. X represents the variables, D the domains (possible vales), and C the constraints.\n",
        "\n",
        "&emsp;&emsp;Each variable is set equally with the same domains. During the solution of the CSP algorithm, every time a value is assigned to the assignment *Set*, it is compared against each constraint until all of them returns true or *No solution is found* if one or more constraints were not satisfied. Some implementations might return None, Null, or an emptied Set. When a value is assigned and a constraint returns false, the algorithm will backtrack and assign another value to the domain.\n",
        "\n",
        "&emsp;&emsp;Suppose we have the following Sets A, B, and C set with 1, 2, and 3. The constraints are: A must be bigger than B, B must be different from C, and A must be different from C.\n",
        "</p>"
      ],
      "metadata": {
        "id": "Z0oODqsF4k6c"
      }
    },
    {
      "cell_type": "markdown",
      "source": [
        "\n",
        "```\n",
        "A = {1, 2, 3}                            A > B\n",
        "B = {1, 2, 3}                            B != C\n",
        "C = {1, 2, 3}                            A != C\n",
        "```\n"
      ],
      "metadata": {
        "id": "TewqOB0h5kO5"
      }
    },
    {
      "cell_type": "markdown",
      "source": [
        "<p style=\"text-align: justify\">\n",
        "&emsp;&emsp;In our assignment Set, A is assigned to 1, and then B is also assigned 1. When it is checked against the constraint, it will return false because A is not bigger than B. The backtracking algorithm will backtrack on the last decision made and try another value for B. Notice that the algorithm is not looking for optimization. It did not assign a greater value for A, but the next value of the domain to B. Therefore, it will return false again until B is equal to 3, so the algorithm will backtrack and assign A to 2 and B to 1. The C value is not known to the algorithm. So, C is assigned to 1. Notice, the algorithm is seeking an answer **yes** or **no**. There is no optimization but brute force.\n",
        "\n",
        "&emsp;&emsp;For this problem there is a solution, A = 2, B = 1, and C = 3.\n",
        "\n",
        "&emsp;&emsp;Most of the standard algorithms are designed to optimize time and source. For example, if we take the Dijkstra algorithm, we see that it takes the weight between edges to calculate the shortest path. We can compare it to a taxi driver who takes the shortest path to an address. In contrast, an A-Star algorithm will take the edges' heuristic and cost to calculate the shortest path. It is like a Google map that takes the distance and time spent in the traffic to decide the best path.\n",
        "</p>"
      ],
      "metadata": {
        "id": "zM7Oc70o50eF"
      }
    },
    {
      "cell_type": "markdown",
      "source": [
        "## Task 3"
      ],
      "metadata": {
        "id": "79qqImE1sPb8"
      }
    },
    {
      "cell_type": "markdown",
      "source": [
        "3) Can this problem be solved using any other algorithm we have studied in the module? Discuss your answer in detail including a proof of your hypothesis."
      ],
      "metadata": {
        "id": "mB-yPGdtsSeM"
      }
    },
    {
      "cell_type": "markdown",
      "source": [
        "<p style=\"text-align: justify\">\n",
        "&emsp;&emsp;In his book called Classic Computer Science Problems in Python, David Kopec implemented a sort of recursive depth-first search for the backtracking function (Manning, 2019). \n",
        "\n",
        "&emsp;&emsp;David Kopec approach makes sense since the Depth-first search looks at all vertices of a graph or tree data structure. This algorithm has two categories: visited and not visited items. The purpose of the algorithm is to visit all the vertex of the graph, avoiding cycles.\n",
        "\n",
        "&emsp;&emsp;Let's see how Depth-first works. Firstly, we can put one of the items of the vertex on top of the stack. Secondly, the top item of the stack goes to the visited list. Thirdly, we create a list of items and add the vertexes that were not visited yet to the top of the stack. Lastly, we will repeat the second and third steps until the stack is empty.\n",
        "</p>"
      ],
      "metadata": {
        "id": "VoNQaTmZOn6h"
      }
    },
    {
      "cell_type": "code",
      "source": [
        "graph = {\n",
        "    'Phylis': ['Mark', 'Bob'],\n",
        "    'Ann': ['Bill', 'Mark', 'Bob'],\n",
        "    'Henry': ['Eva'],\n",
        "    'Eva': ['Henry'],\n",
        "    'Bill': ['Ann', 'Mark', 'Bob'],\n",
        "    'Mark': ['Ann', 'Phylis', 'Bill', 'Mark', 'Bob'],\n",
        "    'Bob': ['Ann', 'Phylis', 'Bill', 'Mark', 'Mark'],\n",
        "}"
      ],
      "metadata": {
        "id": "FMmZyK5W-dQH"
      },
      "execution_count": null,
      "outputs": []
    },
    {
      "cell_type": "code",
      "source": [
        "#@title Depth-First Search Algorithm\n",
        "\n",
        "\n",
        "def dfs(visited, graph, node):\n",
        "    if node not in visited:\n",
        "        print(node)\n",
        "        visited.add(node)\n",
        "        for neighbour in graph[node]:\n",
        "            dfs(visited, graph, neighbour)"
      ],
      "metadata": {
        "cellView": "form",
        "id": "-8aCOM9g-eR3"
      },
      "execution_count": null,
      "outputs": []
    },
    {
      "cell_type": "code",
      "source": [
        "#@title Run Depth-First Search Algorithm\n",
        "\n",
        "firefighters = ['Phylis', 'Ann', 'Henry', 'Eva', 'Bill', 'Mark', 'Bob']\n",
        "picker = widgets.Dropdown(options=firefighters, description='Fire Fighter: ')\n",
        "\n",
        "@widgets.interact(picker=picker)\n",
        "def render(picker):\n",
        "  print('\\nDepth-First Search Result:\\n')\n",
        "  visited = set()\n",
        "  dfs(visited, graph, picker)"
      ],
      "metadata": {
        "colab": {
          "base_uri": "https://localhost:8080/",
          "height": 188,
          "referenced_widgets": [
            "f96c68a412c443dcb51d6d0cc685ad94",
            "04d0283e0e2e43e9be1524a2c588e1f2",
            "aa30972a8abd4c13a2395b129ed579cc",
            "b1d3cb27ee9e4b628fd19fd572685476",
            "47518c1bfae6463c9ce670581d0a4218",
            "a0375780393941499447f8c47df2b6a4",
            "10b1a826773d44e6bb8cd91cd925baaa"
          ]
        },
        "cellView": "form",
        "id": "PEVPUh7x-jAB",
        "outputId": "a0e45d7f-2a3f-4c88-ece5-9f9e649a43e6"
      },
      "execution_count": null,
      "outputs": [
        {
          "output_type": "display_data",
          "data": {
            "application/vnd.jupyter.widget-view+json": {
              "model_id": "f96c68a412c443dcb51d6d0cc685ad94",
              "version_minor": 0,
              "version_major": 2
            },
            "text/plain": [
              "interactive(children=(Dropdown(description='Fire Fighter: ', options=('Phylis', 'Ann', 'Henry', 'Eva', 'Bill',…"
            ]
          },
          "metadata": {}
        }
      ]
    },
    {
      "cell_type": "markdown",
      "metadata": {
        "id": "-9XOc8-DErPU"
      },
      "source": [
        "# References"
      ]
    },
    {
      "cell_type": "markdown",
      "source": [
        "<p>\n",
        "Ben Alex Keen, 2017, <i>Implementing Djikstra's Shortest Path Algorithm With Python<i>. [Online]</br>\n",
        "Available at: <a href=\"https://benalexkeen.com/implementing-djikstras-shortest-path-algorithm-with-python/\">https://benalexkeen.com/implementing-djikstras-shortest-path-algorithm-with-python/</a></br>\n",
        "[Accessed Dec 7 2021].\n",
        "</p>\n",
        "</br>"
      ],
      "metadata": {
        "id": "UznaaA0W7Nu1"
      }
    }
  ]
}